{
 "cells": [
  {
   "cell_type": "code",
   "execution_count": 1,
   "id": "97936ae9",
   "metadata": {
    "execution": {
     "iopub.execute_input": "2024-04-02T20:30:32.741789Z",
     "iopub.status.busy": "2024-04-02T20:30:32.741479Z",
     "iopub.status.idle": "2024-04-02T20:30:32.746032Z",
     "shell.execute_reply": "2024-04-02T20:30:32.745215Z"
    },
    "papermill": {
     "duration": 0.017,
     "end_time": "2024-04-02T20:30:32.747979",
     "exception": false,
     "start_time": "2024-04-02T20:30:32.730979",
     "status": "completed"
    },
    "tags": []
   },
   "outputs": [],
   "source": [
    "# credits:\n",
    "# https://www.kaggle.com/code/aatiffraz/prompt-prediction-w-mixtral-mistral7b-gemma-llama\n",
    "# https://www.kaggle.com/code/thedrcat/aimo-mixtral-baseline"
   ]
  },
  {
   "cell_type": "markdown",
   "id": "f5d7a6b6",
   "metadata": {
    "papermill": {
     "duration": 0.007834,
     "end_time": "2024-04-02T20:30:32.764097",
     "exception": false,
     "start_time": "2024-04-02T20:30:32.756263",
     "status": "completed"
    },
    "tags": []
   },
   "source": [
    "# OpenMath models\n",
    "\n",
    "OpenMath models were trained on synthetic dataset created using PoT-like prompting for Mixtral model.\n",
    "\n",
    "The key feature is that training instructions were designed in a way to reduce parsing difficulties on the post-processing stage, i.e. the final answer will be inside `\\boxed{}` block.\n",
    "\n",
    "For more details please refer to the [paper](https://arxiv.org/pdf/2402.10176.pdf) and [HF training dataset card](https://huggingface.co/datasets/nvidia/OpenMathInstruct-1)\n",
    "\n",
    "In this baseline we will consider [OpenMath-Mistral-7B-v0.1](https://huggingface.co/nvidia/OpenMath-Mistral-7B-v0.1-hf)"
   ]
  },
  {
   "cell_type": "code",
   "execution_count": 2,
   "id": "d1f60856",
   "metadata": {
    "execution": {
     "iopub.execute_input": "2024-04-02T20:30:32.781584Z",
     "iopub.status.busy": "2024-04-02T20:30:32.781083Z",
     "iopub.status.idle": "2024-04-02T20:31:09.773839Z",
     "shell.execute_reply": "2024-04-02T20:31:09.772701Z"
    },
    "papermill": {
     "duration": 37.004175,
     "end_time": "2024-04-02T20:31:09.776279",
     "exception": false,
     "start_time": "2024-04-02T20:30:32.772104",
     "status": "completed"
    },
    "tags": []
   },
   "outputs": [],
   "source": [
    "!pip install -U /kaggle/input/bitsandbytes-0-42-0-py3-none-any-whl/bitsandbytes-0.42.0-py3-none-any.whl -qq"
   ]
  },
  {
   "cell_type": "code",
   "execution_count": 3,
   "id": "959f5600",
   "metadata": {
    "execution": {
     "iopub.execute_input": "2024-04-02T20:31:09.794252Z",
     "iopub.status.busy": "2024-04-02T20:31:09.793970Z",
     "iopub.status.idle": "2024-04-02T20:33:56.193667Z",
     "shell.execute_reply": "2024-04-02T20:33:56.192778Z"
    },
    "papermill": {
     "duration": 166.411341,
     "end_time": "2024-04-02T20:33:56.196156",
     "exception": false,
     "start_time": "2024-04-02T20:31:09.784815",
     "status": "completed"
    },
    "tags": []
   },
   "outputs": [
    {
     "data": {
      "application/vnd.jupyter.widget-view+json": {
       "model_id": "6c4755b816b74a699bdba9e50a47219d",
       "version_major": 2,
       "version_minor": 0
      },
      "text/plain": [
       "Loading checkpoint shards:   0%|          | 0/3 [00:00<?, ?it/s]"
      ]
     },
     "metadata": {},
     "output_type": "display_data"
    }
   ],
   "source": [
    "import torch\n",
    "from transformers import AutoModelForCausalLM, AutoTokenizer, BitsAndBytesConfig, AutoConfig\n",
    "\n",
    "MODEL_PATH = \"/kaggle/input/open-math-mistral\"\n",
    "\n",
    "quantization_config = BitsAndBytesConfig(\n",
    "    load_in_4bit = True,\n",
    "    bnb_4bit_quant_type=\"nf4\",\n",
    "    bnb_4bit_compute_dtype=torch.bfloat16,\n",
    "    bnb_4bit_use_double_quant=True,\n",
    ")\n",
    "\n",
    "config = AutoConfig.from_pretrained(MODEL_PATH)\n",
    "config.gradient_checkpointing = True\n",
    "\n",
    "\n",
    "tokenizer = AutoTokenizer.from_pretrained(MODEL_PATH)\n",
    "\n",
    "model = AutoModelForCausalLM.from_pretrained(\n",
    "    MODEL_PATH,\n",
    "    device_map=\"auto\",\n",
    "    torch_dtype=\"auto\",\n",
    "    trust_remote_code=True,\n",
    "#     quantization_config=quantization_config,\n",
    "    config=config\n",
    ")"
   ]
  },
  {
   "cell_type": "code",
   "execution_count": 4,
   "id": "354138ae",
   "metadata": {
    "execution": {
     "iopub.execute_input": "2024-04-02T20:33:56.217937Z",
     "iopub.status.busy": "2024-04-02T20:33:56.217114Z",
     "iopub.status.idle": "2024-04-02T20:33:56.224208Z",
     "shell.execute_reply": "2024-04-02T20:33:56.223214Z"
    },
    "papermill": {
     "duration": 0.019779,
     "end_time": "2024-04-02T20:33:56.226290",
     "exception": false,
     "start_time": "2024-04-02T20:33:56.206511",
     "status": "completed"
    },
    "tags": []
   },
   "outputs": [
    {
     "data": {
      "text/plain": [
       "torch.bfloat16"
      ]
     },
     "execution_count": 4,
     "metadata": {},
     "output_type": "execute_result"
    }
   ],
   "source": [
    "model.dtype"
   ]
  },
  {
   "cell_type": "code",
   "execution_count": 5,
   "id": "5a0c9fa9",
   "metadata": {
    "execution": {
     "iopub.execute_input": "2024-04-02T20:33:56.247098Z",
     "iopub.status.busy": "2024-04-02T20:33:56.246768Z",
     "iopub.status.idle": "2024-04-02T20:33:57.083242Z",
     "shell.execute_reply": "2024-04-02T20:33:57.082370Z"
    },
    "papermill": {
     "duration": 0.848962,
     "end_time": "2024-04-02T20:33:57.085135",
     "exception": false,
     "start_time": "2024-04-02T20:33:56.236173",
     "status": "completed"
    },
    "tags": []
   },
   "outputs": [
    {
     "data": {
      "text/html": [
       "<div>\n",
       "<style scoped>\n",
       "    .dataframe tbody tr th:only-of-type {\n",
       "        vertical-align: middle;\n",
       "    }\n",
       "\n",
       "    .dataframe tbody tr th {\n",
       "        vertical-align: top;\n",
       "    }\n",
       "\n",
       "    .dataframe thead th {\n",
       "        text-align: right;\n",
       "    }\n",
       "</style>\n",
       "<table border=\"1\" class=\"dataframe\">\n",
       "  <thead>\n",
       "    <tr style=\"text-align: right;\">\n",
       "      <th></th>\n",
       "      <th>id</th>\n",
       "      <th>problem</th>\n",
       "    </tr>\n",
       "  </thead>\n",
       "  <tbody>\n",
       "    <tr>\n",
       "      <th>0</th>\n",
       "      <td>000aaa</td>\n",
       "      <td>What is $1-1$?</td>\n",
       "    </tr>\n",
       "    <tr>\n",
       "      <th>1</th>\n",
       "      <td>111bbb</td>\n",
       "      <td>What is $0\\times10$?</td>\n",
       "    </tr>\n",
       "    <tr>\n",
       "      <th>2</th>\n",
       "      <td>222ccc</td>\n",
       "      <td>Solve $4+x=4$ for $x$.</td>\n",
       "    </tr>\n",
       "  </tbody>\n",
       "</table>\n",
       "</div>"
      ],
      "text/plain": [
       "       id                 problem\n",
       "0  000aaa          What is $1-1$?\n",
       "1  111bbb    What is $0\\times10$?\n",
       "2  222ccc  Solve $4+x=4$ for $x$."
      ]
     },
     "execution_count": 5,
     "metadata": {},
     "output_type": "execute_result"
    }
   ],
   "source": [
    "import pandas as pd\n",
    "from tqdm import tqdm\n",
    "PRIVATE = True\n",
    "\n",
    "df = pd.read_csv('/kaggle/input/ai-mathematical-olympiad-prize/test.csv')\n",
    "df.head()"
   ]
  },
  {
   "cell_type": "code",
   "execution_count": 6,
   "id": "37ed0212",
   "metadata": {
    "execution": {
     "iopub.execute_input": "2024-04-02T20:33:57.104161Z",
     "iopub.status.busy": "2024-04-02T20:33:57.103835Z",
     "iopub.status.idle": "2024-04-02T20:33:57.117122Z",
     "shell.execute_reply": "2024-04-02T20:33:57.116204Z"
    },
    "papermill": {
     "duration": 0.024901,
     "end_time": "2024-04-02T20:33:57.119348",
     "exception": false,
     "start_time": "2024-04-02T20:33:57.094447",
     "status": "completed"
    },
    "tags": []
   },
   "outputs": [
    {
     "data": {
      "text/html": [
       "<div>\n",
       "<style scoped>\n",
       "    .dataframe tbody tr th:only-of-type {\n",
       "        vertical-align: middle;\n",
       "    }\n",
       "\n",
       "    .dataframe tbody tr th {\n",
       "        vertical-align: top;\n",
       "    }\n",
       "\n",
       "    .dataframe thead th {\n",
       "        text-align: right;\n",
       "    }\n",
       "</style>\n",
       "<table border=\"1\" class=\"dataframe\">\n",
       "  <thead>\n",
       "    <tr style=\"text-align: right;\">\n",
       "      <th></th>\n",
       "      <th>id</th>\n",
       "      <th>problem</th>\n",
       "      <th>answer</th>\n",
       "    </tr>\n",
       "  </thead>\n",
       "  <tbody>\n",
       "    <tr>\n",
       "      <th>0</th>\n",
       "      <td>208387</td>\n",
       "      <td>The points $\\left(x, y\\right)$ satisfying $((\\...</td>\n",
       "      <td>320</td>\n",
       "    </tr>\n",
       "    <tr>\n",
       "      <th>1</th>\n",
       "      <td>2cda49</td>\n",
       "      <td>For how many positive integers $m$ does the eq...</td>\n",
       "      <td>199</td>\n",
       "    </tr>\n",
       "    <tr>\n",
       "      <th>2</th>\n",
       "      <td>68704f</td>\n",
       "      <td>There exists a unique increasing geometric seq...</td>\n",
       "      <td>211</td>\n",
       "    </tr>\n",
       "    <tr>\n",
       "      <th>3</th>\n",
       "      <td>7543ec</td>\n",
       "      <td>A function $f: \\mathbb N \\to \\mathbb N$ satisf...</td>\n",
       "      <td>199</td>\n",
       "    </tr>\n",
       "    <tr>\n",
       "      <th>4</th>\n",
       "      <td>7b58de</td>\n",
       "      <td>Let the `sparkle' operation on positive intege...</td>\n",
       "      <td>702</td>\n",
       "    </tr>\n",
       "  </tbody>\n",
       "</table>\n",
       "</div>"
      ],
      "text/plain": [
       "       id                                            problem  answer\n",
       "0  208387  The points $\\left(x, y\\right)$ satisfying $((\\...     320\n",
       "1  2cda49  For how many positive integers $m$ does the eq...     199\n",
       "2  68704f  There exists a unique increasing geometric seq...     211\n",
       "3  7543ec  A function $f: \\mathbb N \\to \\mathbb N$ satisf...     199\n",
       "4  7b58de  Let the `sparkle' operation on positive intege...     702"
      ]
     },
     "execution_count": 6,
     "metadata": {},
     "output_type": "execute_result"
    }
   ],
   "source": [
    "if len(df) < 5:\n",
    "    df = pd.read_csv('/kaggle/input/ai-mathematical-olympiad-prize/train.csv')\n",
    "    PRIVATE = False\n",
    "df.head()"
   ]
  },
  {
   "cell_type": "code",
   "execution_count": 7,
   "id": "f16cd33f",
   "metadata": {
    "execution": {
     "iopub.execute_input": "2024-04-02T20:33:57.140297Z",
     "iopub.status.busy": "2024-04-02T20:33:57.140030Z",
     "iopub.status.idle": "2024-04-02T20:33:57.145330Z",
     "shell.execute_reply": "2024-04-02T20:33:57.144474Z"
    },
    "papermill": {
     "duration": 0.018241,
     "end_time": "2024-04-02T20:33:57.147556",
     "exception": false,
     "start_time": "2024-04-02T20:33:57.129315",
     "status": "completed"
    },
    "tags": []
   },
   "outputs": [
    {
     "name": "stdout",
     "output_type": "stream",
     "text": [
      "You're an expert Python programmer and mathematician. Help the user to solve this problem using code when necessary. Make sure to put the answer (and only answer) inside \\boxed{}.\n"
     ]
    }
   ],
   "source": [
    "prompt_template = \"System:\\n{system}\\n\\nUser:\\n{user}Assistant:\\n{generated_solution}\"\n",
    "\n",
    "system = \"You're an expert Python programmer and mathematician. Help the user to solve this problem using code when necessary. Make sure to put the answer (and only answer) inside \\\\boxed{}.\"\n",
    "\n",
    "user = \"{question}\\n\\n{context}\"\n",
    "\n",
    "context = \"\"\n",
    "generated_solution = \"\"\n",
    "\n",
    "print(system)"
   ]
  },
  {
   "cell_type": "code",
   "execution_count": 8,
   "id": "e2d3d7bf",
   "metadata": {
    "execution": {
     "iopub.execute_input": "2024-04-02T20:33:57.167005Z",
     "iopub.status.busy": "2024-04-02T20:33:57.166723Z",
     "iopub.status.idle": "2024-04-02T20:33:57.170394Z",
     "shell.execute_reply": "2024-04-02T20:33:57.169579Z"
    },
    "papermill": {
     "duration": 0.01542,
     "end_time": "2024-04-02T20:33:57.172210",
     "exception": false,
     "start_time": "2024-04-02T20:33:57.156790",
     "status": "completed"
    },
    "tags": []
   },
   "outputs": [],
   "source": [
    "import gc\n",
    "device = 'cuda'"
   ]
  },
  {
   "cell_type": "code",
   "execution_count": 9,
   "id": "6df43b1e",
   "metadata": {
    "execution": {
     "iopub.execute_input": "2024-04-02T20:33:57.190797Z",
     "iopub.status.busy": "2024-04-02T20:33:57.190538Z",
     "iopub.status.idle": "2024-04-02T20:33:57.195734Z",
     "shell.execute_reply": "2024-04-02T20:33:57.194929Z"
    },
    "papermill": {
     "duration": 0.016304,
     "end_time": "2024-04-02T20:33:57.197523",
     "exception": false,
     "start_time": "2024-04-02T20:33:57.181219",
     "status": "completed"
    },
    "tags": []
   },
   "outputs": [],
   "source": [
    "def naive_parse(answer):\n",
    "    out = []\n",
    "    start = False\n",
    "    end = False\n",
    "    for l in reversed(list(answer)):\n",
    "        if l in '0123456789' and not end:\n",
    "            start = True\n",
    "            out.append(l)\n",
    "        else:\n",
    "            if start:\n",
    "                end = True\n",
    "        \n",
    "    out = reversed(out)\n",
    "    return int(''.join(out))"
   ]
  },
  {
   "cell_type": "code",
   "execution_count": 10,
   "id": "19e5060d",
   "metadata": {
    "execution": {
     "iopub.execute_input": "2024-04-02T20:33:57.216409Z",
     "iopub.status.busy": "2024-04-02T20:33:57.216153Z",
     "iopub.status.idle": "2024-04-02T20:34:11.405586Z",
     "shell.execute_reply": "2024-04-02T20:34:11.404771Z"
    },
    "papermill": {
     "duration": 14.201401,
     "end_time": "2024-04-02T20:34:11.408128",
     "exception": false,
     "start_time": "2024-04-02T20:33:57.206727",
     "status": "completed"
    },
    "tags": []
   },
   "outputs": [
    {
     "name": "stderr",
     "output_type": "stream",
     "text": [
      "2024-04-02 20:33:59.428906: E external/local_xla/xla/stream_executor/cuda/cuda_dnn.cc:9261] Unable to register cuDNN factory: Attempting to register factory for plugin cuDNN when one has already been registered\n",
      "2024-04-02 20:33:59.429053: E external/local_xla/xla/stream_executor/cuda/cuda_fft.cc:607] Unable to register cuFFT factory: Attempting to register factory for plugin cuFFT when one has already been registered\n",
      "2024-04-02 20:33:59.591236: E external/local_xla/xla/stream_executor/cuda/cuda_blas.cc:1515] Unable to register cuBLAS factory: Attempting to register factory for plugin cuBLAS when one has already been registered\n"
     ]
    }
   ],
   "source": [
    "import transformers\n",
    "\n",
    "pipeline = transformers.pipeline(\n",
    "    \"text-generation\",\n",
    "    model=model,\n",
    "    tokenizer=tokenizer,\n",
    "    torch_dtype='auto',\n",
    "    device_map=\"auto\",\n",
    ")"
   ]
  },
  {
   "cell_type": "code",
   "execution_count": 11,
   "id": "067d0107",
   "metadata": {
    "execution": {
     "iopub.execute_input": "2024-04-02T20:34:11.434291Z",
     "iopub.status.busy": "2024-04-02T20:34:11.433468Z",
     "iopub.status.idle": "2024-04-02T20:34:11.438641Z",
     "shell.execute_reply": "2024-04-02T20:34:11.437763Z"
    },
    "papermill": {
     "duration": 0.017832,
     "end_time": "2024-04-02T20:34:11.440640",
     "exception": false,
     "start_time": "2024-04-02T20:34:11.422808",
     "status": "completed"
    },
    "tags": []
   },
   "outputs": [
    {
     "name": "stdout",
     "output_type": "stream",
     "text": [
      "Transformers Version: 4.38.2\n"
     ]
    }
   ],
   "source": [
    "print(f\"Transformers Version: {transformers.__version__}\")"
   ]
  },
  {
   "cell_type": "code",
   "execution_count": 12,
   "id": "7bb49812",
   "metadata": {
    "execution": {
     "iopub.execute_input": "2024-04-02T20:34:11.459541Z",
     "iopub.status.busy": "2024-04-02T20:34:11.459268Z",
     "iopub.status.idle": "2024-04-02T20:34:11.463147Z",
     "shell.execute_reply": "2024-04-02T20:34:11.462369Z"
    },
    "papermill": {
     "duration": 0.01549,
     "end_time": "2024-04-02T20:34:11.465020",
     "exception": false,
     "start_time": "2024-04-02T20:34:11.449530",
     "status": "completed"
    },
    "tags": []
   },
   "outputs": [],
   "source": [
    "import torch\n",
    "\n",
    "torch.backends.cuda.enable_mem_efficient_sdp(False)"
   ]
  },
  {
   "cell_type": "code",
   "execution_count": 13,
   "id": "b63d36a0",
   "metadata": {
    "execution": {
     "iopub.execute_input": "2024-04-02T20:34:11.483826Z",
     "iopub.status.busy": "2024-04-02T20:34:11.483555Z",
     "iopub.status.idle": "2024-04-02T20:37:43.392066Z",
     "shell.execute_reply": "2024-04-02T20:37:43.391140Z"
    },
    "papermill": {
     "duration": 211.921166,
     "end_time": "2024-04-02T20:37:43.394994",
     "exception": false,
     "start_time": "2024-04-02T20:34:11.473828",
     "status": "completed"
    },
    "tags": []
   },
   "outputs": [
    {
     "name": "stderr",
     "output_type": "stream",
     "text": [
      "  0%|          | 0/10 [00:00<?, ?it/s]/opt/conda/lib/python3.10/site-packages/transformers/generation/configuration_utils.py:410: UserWarning: `do_sample` is set to `False`. However, `temperature` is set to `0.0` -- this flag is only used in sample-based generation modes. You should set `do_sample=True` or unset `temperature`.\n",
      "  warnings.warn(\n",
      "Setting `pad_token_id` to `eos_token_id`:2 for open-end generation.\n",
      " 10%|█         | 1/10 [00:22<03:22, 22.54s/it]Setting `pad_token_id` to `eos_token_id`:2 for open-end generation.\n",
      " 20%|██        | 2/10 [00:44<02:59, 22.49s/it]Setting `pad_token_id` to `eos_token_id`:2 for open-end generation.\n",
      " 30%|███       | 3/10 [01:16<03:07, 26.76s/it]Setting `pad_token_id` to `eos_token_id`:2 for open-end generation.\n",
      " 40%|████      | 4/10 [01:26<02:00, 20.14s/it]Setting `pad_token_id` to `eos_token_id`:2 for open-end generation.\n",
      " 50%|█████     | 5/10 [01:41<01:31, 18.25s/it]Setting `pad_token_id` to `eos_token_id`:2 for open-end generation.\n",
      " 60%|██████    | 6/10 [02:02<01:16, 19.09s/it]Setting `pad_token_id` to `eos_token_id`:2 for open-end generation.\n",
      " 70%|███████   | 7/10 [02:38<01:14, 24.74s/it]Setting `pad_token_id` to `eos_token_id`:2 for open-end generation.\n",
      " 80%|████████  | 8/10 [03:00<00:47, 23.79s/it]Setting `pad_token_id` to `eos_token_id`:2 for open-end generation.\n",
      " 90%|█████████ | 9/10 [03:14<00:20, 20.56s/it]Setting `pad_token_id` to `eos_token_id`:2 for open-end generation.\n",
      "100%|██████████| 10/10 [03:31<00:00, 21.19s/it]\n"
     ]
    }
   ],
   "source": [
    "import re\n",
    "\n",
    "answers = []\n",
    "\n",
    "for i in tqdm(range(len(df))):\n",
    "    try:\n",
    "        id_ = df['id'].loc[i]\n",
    "        problem = df['problem'].loc[i]\n",
    "        \n",
    "        user_p = user.format(question=problem, context=context)\n",
    "        query_prompt = prompt_template.format(\n",
    "            system=system,\n",
    "            user=user_p,\n",
    "            generated_solution=generated_solution\n",
    "        )\n",
    "\n",
    "        raw_output = pipeline(\n",
    "            query_prompt, \n",
    "            do_sample=False, \n",
    "            temperature=0.,\n",
    "            num_return_sequences=1,\n",
    "            max_new_tokens=768)\n",
    "        \n",
    "        raw_output = raw_output[0]['generated_text']\n",
    "        \n",
    "        \n",
    "        output = re.findall(r'\\\\boxed\\{(.*?)\\}', raw_output)[-1]\n",
    "        \n",
    "        if not len(output):\n",
    "            output = naive_parse(raw_output)\n",
    "        \n",
    "        output = round(float(output)) % 1000\n",
    "        \n",
    "        answers.append(output)\n",
    "        \n",
    "        torch.cuda.empty_cache()\n",
    "        gc.collect()\n",
    "        \n",
    "    except Exception as e:\n",
    "        print(e)\n",
    "        answers.append(0)"
   ]
  },
  {
   "cell_type": "code",
   "execution_count": 14,
   "id": "b39950bc",
   "metadata": {
    "execution": {
     "iopub.execute_input": "2024-04-02T20:37:43.418444Z",
     "iopub.status.busy": "2024-04-02T20:37:43.417681Z",
     "iopub.status.idle": "2024-04-02T20:37:43.422398Z",
     "shell.execute_reply": "2024-04-02T20:37:43.421539Z"
    },
    "papermill": {
     "duration": 0.018128,
     "end_time": "2024-04-02T20:37:43.424246",
     "exception": false,
     "start_time": "2024-04-02T20:37:43.406118",
     "status": "completed"
    },
    "tags": []
   },
   "outputs": [],
   "source": [
    "df['answer'] = answers"
   ]
  },
  {
   "cell_type": "code",
   "execution_count": 15,
   "id": "83906683",
   "metadata": {
    "execution": {
     "iopub.execute_input": "2024-04-02T20:37:43.446744Z",
     "iopub.status.busy": "2024-04-02T20:37:43.446491Z",
     "iopub.status.idle": "2024-04-02T20:37:43.456049Z",
     "shell.execute_reply": "2024-04-02T20:37:43.455172Z"
    },
    "papermill": {
     "duration": 0.022767,
     "end_time": "2024-04-02T20:37:43.457903",
     "exception": false,
     "start_time": "2024-04-02T20:37:43.435136",
     "status": "completed"
    },
    "tags": []
   },
   "outputs": [
    {
     "data": {
      "text/html": [
       "<div>\n",
       "<style scoped>\n",
       "    .dataframe tbody tr th:only-of-type {\n",
       "        vertical-align: middle;\n",
       "    }\n",
       "\n",
       "    .dataframe tbody tr th {\n",
       "        vertical-align: top;\n",
       "    }\n",
       "\n",
       "    .dataframe thead th {\n",
       "        text-align: right;\n",
       "    }\n",
       "</style>\n",
       "<table border=\"1\" class=\"dataframe\">\n",
       "  <thead>\n",
       "    <tr style=\"text-align: right;\">\n",
       "      <th></th>\n",
       "      <th>id</th>\n",
       "      <th>problem</th>\n",
       "      <th>answer</th>\n",
       "    </tr>\n",
       "  </thead>\n",
       "  <tbody>\n",
       "    <tr>\n",
       "      <th>0</th>\n",
       "      <td>208387</td>\n",
       "      <td>The points $\\left(x, y\\right)$ satisfying $((\\...</td>\n",
       "      <td>400</td>\n",
       "    </tr>\n",
       "    <tr>\n",
       "      <th>1</th>\n",
       "      <td>2cda49</td>\n",
       "      <td>For how many positive integers $m$ does the eq...</td>\n",
       "      <td>31</td>\n",
       "    </tr>\n",
       "    <tr>\n",
       "      <th>2</th>\n",
       "      <td>68704f</td>\n",
       "      <td>There exists a unique increasing geometric seq...</td>\n",
       "      <td>0</td>\n",
       "    </tr>\n",
       "    <tr>\n",
       "      <th>3</th>\n",
       "      <td>7543ec</td>\n",
       "      <td>A function $f: \\mathbb N \\to \\mathbb N$ satisf...</td>\n",
       "      <td>503</td>\n",
       "    </tr>\n",
       "    <tr>\n",
       "      <th>4</th>\n",
       "      <td>7b58de</td>\n",
       "      <td>Let the `sparkle' operation on positive intege...</td>\n",
       "      <td>4</td>\n",
       "    </tr>\n",
       "    <tr>\n",
       "      <th>5</th>\n",
       "      <td>84308e</td>\n",
       "      <td>What is the minimum value of $5x^2+5y^2-8xy$ w...</td>\n",
       "      <td>1</td>\n",
       "    </tr>\n",
       "    <tr>\n",
       "      <th>6</th>\n",
       "      <td>939609</td>\n",
       "      <td>Let $k, l &gt; 0$ be parameters. The parabola $y ...</td>\n",
       "      <td>100</td>\n",
       "    </tr>\n",
       "    <tr>\n",
       "      <th>7</th>\n",
       "      <td>a6b0bc</td>\n",
       "      <td>Let $ABCD$ be a unit square. Let $P$ be the po...</td>\n",
       "      <td>1</td>\n",
       "    </tr>\n",
       "    <tr>\n",
       "      <th>8</th>\n",
       "      <td>bb8f98</td>\n",
       "      <td>Suppose that we roll four 6-sided fair dice wi...</td>\n",
       "      <td>21</td>\n",
       "    </tr>\n",
       "    <tr>\n",
       "      <th>9</th>\n",
       "      <td>dca542</td>\n",
       "      <td>Each of the three-digits numbers $111$ to $999...</td>\n",
       "      <td>322</td>\n",
       "    </tr>\n",
       "  </tbody>\n",
       "</table>\n",
       "</div>"
      ],
      "text/plain": [
       "       id                                            problem  answer\n",
       "0  208387  The points $\\left(x, y\\right)$ satisfying $((\\...     400\n",
       "1  2cda49  For how many positive integers $m$ does the eq...      31\n",
       "2  68704f  There exists a unique increasing geometric seq...       0\n",
       "3  7543ec  A function $f: \\mathbb N \\to \\mathbb N$ satisf...     503\n",
       "4  7b58de  Let the `sparkle' operation on positive intege...       4\n",
       "5  84308e  What is the minimum value of $5x^2+5y^2-8xy$ w...       1\n",
       "6  939609  Let $k, l > 0$ be parameters. The parabola $y ...     100\n",
       "7  a6b0bc  Let $ABCD$ be a unit square. Let $P$ be the po...       1\n",
       "8  bb8f98  Suppose that we roll four 6-sided fair dice wi...      21\n",
       "9  dca542  Each of the three-digits numbers $111$ to $999...     322"
      ]
     },
     "execution_count": 15,
     "metadata": {},
     "output_type": "execute_result"
    }
   ],
   "source": [
    "df"
   ]
  },
  {
   "cell_type": "code",
   "execution_count": 16,
   "id": "d8e5f87a",
   "metadata": {
    "execution": {
     "iopub.execute_input": "2024-04-02T20:37:43.480410Z",
     "iopub.status.busy": "2024-04-02T20:37:43.480160Z",
     "iopub.status.idle": "2024-04-02T20:37:43.493817Z",
     "shell.execute_reply": "2024-04-02T20:37:43.493157Z"
    },
    "papermill": {
     "duration": 0.026872,
     "end_time": "2024-04-02T20:37:43.495622",
     "exception": false,
     "start_time": "2024-04-02T20:37:43.468750",
     "status": "completed"
    },
    "tags": []
   },
   "outputs": [],
   "source": [
    "df[['id','answer']].to_csv(\"submission.csv\", header=True, index=False)"
   ]
  },
  {
   "cell_type": "code",
   "execution_count": 17,
   "id": "d6f56518",
   "metadata": {
    "execution": {
     "iopub.execute_input": "2024-04-02T20:37:43.518306Z",
     "iopub.status.busy": "2024-04-02T20:37:43.518057Z",
     "iopub.status.idle": "2024-04-02T20:37:43.527390Z",
     "shell.execute_reply": "2024-04-02T20:37:43.526533Z"
    },
    "papermill": {
     "duration": 0.022979,
     "end_time": "2024-04-02T20:37:43.529536",
     "exception": false,
     "start_time": "2024-04-02T20:37:43.506557",
     "status": "completed"
    },
    "tags": []
   },
   "outputs": [
    {
     "data": {
      "text/html": [
       "<div>\n",
       "<style scoped>\n",
       "    .dataframe tbody tr th:only-of-type {\n",
       "        vertical-align: middle;\n",
       "    }\n",
       "\n",
       "    .dataframe tbody tr th {\n",
       "        vertical-align: top;\n",
       "    }\n",
       "\n",
       "    .dataframe thead th {\n",
       "        text-align: right;\n",
       "    }\n",
       "</style>\n",
       "<table border=\"1\" class=\"dataframe\">\n",
       "  <thead>\n",
       "    <tr style=\"text-align: right;\">\n",
       "      <th></th>\n",
       "      <th>id</th>\n",
       "      <th>answer</th>\n",
       "    </tr>\n",
       "  </thead>\n",
       "  <tbody>\n",
       "    <tr>\n",
       "      <th>0</th>\n",
       "      <td>208387</td>\n",
       "      <td>400</td>\n",
       "    </tr>\n",
       "    <tr>\n",
       "      <th>1</th>\n",
       "      <td>2cda49</td>\n",
       "      <td>31</td>\n",
       "    </tr>\n",
       "    <tr>\n",
       "      <th>2</th>\n",
       "      <td>68704f</td>\n",
       "      <td>0</td>\n",
       "    </tr>\n",
       "    <tr>\n",
       "      <th>3</th>\n",
       "      <td>7543ec</td>\n",
       "      <td>503</td>\n",
       "    </tr>\n",
       "    <tr>\n",
       "      <th>4</th>\n",
       "      <td>7b58de</td>\n",
       "      <td>4</td>\n",
       "    </tr>\n",
       "  </tbody>\n",
       "</table>\n",
       "</div>"
      ],
      "text/plain": [
       "       id  answer\n",
       "0  208387     400\n",
       "1  2cda49      31\n",
       "2  68704f       0\n",
       "3  7543ec     503\n",
       "4  7b58de       4"
      ]
     },
     "execution_count": 17,
     "metadata": {},
     "output_type": "execute_result"
    }
   ],
   "source": [
    "df[['id','answer']].head()"
   ]
  },
  {
   "cell_type": "code",
   "execution_count": 18,
   "id": "84449838",
   "metadata": {
    "execution": {
     "iopub.execute_input": "2024-04-02T20:37:43.553560Z",
     "iopub.status.busy": "2024-04-02T20:37:43.553267Z",
     "iopub.status.idle": "2024-04-02T20:37:43.573835Z",
     "shell.execute_reply": "2024-04-02T20:37:43.572893Z"
    },
    "papermill": {
     "duration": 0.034846,
     "end_time": "2024-04-02T20:37:43.575848",
     "exception": false,
     "start_time": "2024-04-02T20:37:43.541002",
     "status": "completed"
    },
    "tags": []
   },
   "outputs": [
    {
     "name": "stdout",
     "output_type": "stream",
     "text": [
      "0 matches in 10 examples\n"
     ]
    }
   ],
   "source": [
    "if not PRIVATE:\n",
    "    df = pd.read_csv('/kaggle/input/ai-mathematical-olympiad-prize/train.csv')\n",
    "    df['model_answer'] = answers\n",
    "    df['match'] = df.answer == df.model_answer\n",
    "    print(f'{df.match.sum()} matches in {len(df)} examples')"
   ]
  },
  {
   "cell_type": "code",
   "execution_count": null,
   "id": "4ff09309",
   "metadata": {
    "papermill": {
     "duration": 0.011871,
     "end_time": "2024-04-02T20:37:43.599612",
     "exception": false,
     "start_time": "2024-04-02T20:37:43.587741",
     "status": "completed"
    },
    "tags": []
   },
   "outputs": [],
   "source": []
  }
 ],
 "metadata": {
  "kaggle": {
   "accelerator": "nvidiaTeslaT4",
   "dataSources": [
    {
     "databundleVersionId": 8085542,
     "sourceId": 73231,
     "sourceType": "competition"
    },
    {
     "datasetId": 4281572,
     "sourceId": 7369493,
     "sourceType": "datasetVersion"
    },
    {
     "datasetId": 4720595,
     "sourceId": 8012825,
     "sourceType": "datasetVersion"
    },
    {
     "modelInstanceId": 3900,
     "sourceId": 5112,
     "sourceType": "modelInstanceVersion"
    },
    {
     "modelInstanceId": 4761,
     "sourceId": 5994,
     "sourceType": "modelInstanceVersion"
    },
    {
     "modelInstanceId": 8318,
     "sourceId": 11382,
     "sourceType": "modelInstanceVersion"
    },
    {
     "modelInstanceId": 8332,
     "sourceId": 11394,
     "sourceType": "modelInstanceVersion"
    }
   ],
   "dockerImageVersionId": 30674,
   "isGpuEnabled": true,
   "isInternetEnabled": false,
   "language": "python",
   "sourceType": "notebook"
  },
  "kernelspec": {
   "display_name": "Python 3",
   "language": "python",
   "name": "python3"
  },
  "language_info": {
   "codemirror_mode": {
    "name": "ipython",
    "version": 3
   },
   "file_extension": ".py",
   "mimetype": "text/x-python",
   "name": "python",
   "nbconvert_exporter": "python",
   "pygments_lexer": "ipython3",
   "version": "3.10.13"
  },
  "papermill": {
   "default_parameters": {},
   "duration": 437.555801,
   "end_time": "2024-04-02T20:37:47.194054",
   "environment_variables": {},
   "exception": null,
   "input_path": "__notebook__.ipynb",
   "output_path": "__notebook__.ipynb",
   "parameters": {},
   "start_time": "2024-04-02T20:30:29.638253",
   "version": "2.5.0"
  },
  "widgets": {
   "application/vnd.jupyter.widget-state+json": {
    "state": {
     "1deb0171aa4d4807b8525af635d1baa9": {
      "model_module": "@jupyter-widgets/base",
      "model_module_version": "1.2.0",
      "model_name": "LayoutModel",
      "state": {
       "_model_module": "@jupyter-widgets/base",
       "_model_module_version": "1.2.0",
       "_model_name": "LayoutModel",
       "_view_count": null,
       "_view_module": "@jupyter-widgets/base",
       "_view_module_version": "1.2.0",
       "_view_name": "LayoutView",
       "align_content": null,
       "align_items": null,
       "align_self": null,
       "border": null,
       "bottom": null,
       "display": null,
       "flex": null,
       "flex_flow": null,
       "grid_area": null,
       "grid_auto_columns": null,
       "grid_auto_flow": null,
       "grid_auto_rows": null,
       "grid_column": null,
       "grid_gap": null,
       "grid_row": null,
       "grid_template_areas": null,
       "grid_template_columns": null,
       "grid_template_rows": null,
       "height": null,
       "justify_content": null,
       "justify_items": null,
       "left": null,
       "margin": null,
       "max_height": null,
       "max_width": null,
       "min_height": null,
       "min_width": null,
       "object_fit": null,
       "object_position": null,
       "order": null,
       "overflow": null,
       "overflow_x": null,
       "overflow_y": null,
       "padding": null,
       "right": null,
       "top": null,
       "visibility": null,
       "width": null
      }
     },
     "202e6abeeed842c29d02e410857c1598": {
      "model_module": "@jupyter-widgets/controls",
      "model_module_version": "1.5.0",
      "model_name": "DescriptionStyleModel",
      "state": {
       "_model_module": "@jupyter-widgets/controls",
       "_model_module_version": "1.5.0",
       "_model_name": "DescriptionStyleModel",
       "_view_count": null,
       "_view_module": "@jupyter-widgets/base",
       "_view_module_version": "1.2.0",
       "_view_name": "StyleView",
       "description_width": ""
      }
     },
     "28e831a147854c26987994b8e315a7da": {
      "model_module": "@jupyter-widgets/controls",
      "model_module_version": "1.5.0",
      "model_name": "FloatProgressModel",
      "state": {
       "_dom_classes": [],
       "_model_module": "@jupyter-widgets/controls",
       "_model_module_version": "1.5.0",
       "_model_name": "FloatProgressModel",
       "_view_count": null,
       "_view_module": "@jupyter-widgets/controls",
       "_view_module_version": "1.5.0",
       "_view_name": "ProgressView",
       "bar_style": "success",
       "description": "",
       "description_tooltip": null,
       "layout": "IPY_MODEL_6a287f881d3d416abe5cbc8c6032e21f",
       "max": 3.0,
       "min": 0.0,
       "orientation": "horizontal",
       "style": "IPY_MODEL_c531bebd8bce4b338307c6367cf04f82",
       "value": 3.0
      }
     },
     "6a287f881d3d416abe5cbc8c6032e21f": {
      "model_module": "@jupyter-widgets/base",
      "model_module_version": "1.2.0",
      "model_name": "LayoutModel",
      "state": {
       "_model_module": "@jupyter-widgets/base",
       "_model_module_version": "1.2.0",
       "_model_name": "LayoutModel",
       "_view_count": null,
       "_view_module": "@jupyter-widgets/base",
       "_view_module_version": "1.2.0",
       "_view_name": "LayoutView",
       "align_content": null,
       "align_items": null,
       "align_self": null,
       "border": null,
       "bottom": null,
       "display": null,
       "flex": null,
       "flex_flow": null,
       "grid_area": null,
       "grid_auto_columns": null,
       "grid_auto_flow": null,
       "grid_auto_rows": null,
       "grid_column": null,
       "grid_gap": null,
       "grid_row": null,
       "grid_template_areas": null,
       "grid_template_columns": null,
       "grid_template_rows": null,
       "height": null,
       "justify_content": null,
       "justify_items": null,
       "left": null,
       "margin": null,
       "max_height": null,
       "max_width": null,
       "min_height": null,
       "min_width": null,
       "object_fit": null,
       "object_position": null,
       "order": null,
       "overflow": null,
       "overflow_x": null,
       "overflow_y": null,
       "padding": null,
       "right": null,
       "top": null,
       "visibility": null,
       "width": null
      }
     },
     "6c4755b816b74a699bdba9e50a47219d": {
      "model_module": "@jupyter-widgets/controls",
      "model_module_version": "1.5.0",
      "model_name": "HBoxModel",
      "state": {
       "_dom_classes": [],
       "_model_module": "@jupyter-widgets/controls",
       "_model_module_version": "1.5.0",
       "_model_name": "HBoxModel",
       "_view_count": null,
       "_view_module": "@jupyter-widgets/controls",
       "_view_module_version": "1.5.0",
       "_view_name": "HBoxView",
       "box_style": "",
       "children": [
        "IPY_MODEL_7cc1e43bcadd416495eaa4aee82542b0",
        "IPY_MODEL_28e831a147854c26987994b8e315a7da",
        "IPY_MODEL_f603309e73b9405aa6df7ba4c37c9493"
       ],
       "layout": "IPY_MODEL_1deb0171aa4d4807b8525af635d1baa9"
      }
     },
     "7cc1e43bcadd416495eaa4aee82542b0": {
      "model_module": "@jupyter-widgets/controls",
      "model_module_version": "1.5.0",
      "model_name": "HTMLModel",
      "state": {
       "_dom_classes": [],
       "_model_module": "@jupyter-widgets/controls",
       "_model_module_version": "1.5.0",
       "_model_name": "HTMLModel",
       "_view_count": null,
       "_view_module": "@jupyter-widgets/controls",
       "_view_module_version": "1.5.0",
       "_view_name": "HTMLView",
       "description": "",
       "description_tooltip": null,
       "layout": "IPY_MODEL_ba8bd29f515d4217805a0228734e17f7",
       "placeholder": "​",
       "style": "IPY_MODEL_cd33288311a9451aaa985496e3c3cc80",
       "value": "Loading checkpoint shards: 100%"
      }
     },
     "ba8bd29f515d4217805a0228734e17f7": {
      "model_module": "@jupyter-widgets/base",
      "model_module_version": "1.2.0",
      "model_name": "LayoutModel",
      "state": {
       "_model_module": "@jupyter-widgets/base",
       "_model_module_version": "1.2.0",
       "_model_name": "LayoutModel",
       "_view_count": null,
       "_view_module": "@jupyter-widgets/base",
       "_view_module_version": "1.2.0",
       "_view_name": "LayoutView",
       "align_content": null,
       "align_items": null,
       "align_self": null,
       "border": null,
       "bottom": null,
       "display": null,
       "flex": null,
       "flex_flow": null,
       "grid_area": null,
       "grid_auto_columns": null,
       "grid_auto_flow": null,
       "grid_auto_rows": null,
       "grid_column": null,
       "grid_gap": null,
       "grid_row": null,
       "grid_template_areas": null,
       "grid_template_columns": null,
       "grid_template_rows": null,
       "height": null,
       "justify_content": null,
       "justify_items": null,
       "left": null,
       "margin": null,
       "max_height": null,
       "max_width": null,
       "min_height": null,
       "min_width": null,
       "object_fit": null,
       "object_position": null,
       "order": null,
       "overflow": null,
       "overflow_x": null,
       "overflow_y": null,
       "padding": null,
       "right": null,
       "top": null,
       "visibility": null,
       "width": null
      }
     },
     "c531bebd8bce4b338307c6367cf04f82": {
      "model_module": "@jupyter-widgets/controls",
      "model_module_version": "1.5.0",
      "model_name": "ProgressStyleModel",
      "state": {
       "_model_module": "@jupyter-widgets/controls",
       "_model_module_version": "1.5.0",
       "_model_name": "ProgressStyleModel",
       "_view_count": null,
       "_view_module": "@jupyter-widgets/base",
       "_view_module_version": "1.2.0",
       "_view_name": "StyleView",
       "bar_color": null,
       "description_width": ""
      }
     },
     "cd33288311a9451aaa985496e3c3cc80": {
      "model_module": "@jupyter-widgets/controls",
      "model_module_version": "1.5.0",
      "model_name": "DescriptionStyleModel",
      "state": {
       "_model_module": "@jupyter-widgets/controls",
       "_model_module_version": "1.5.0",
       "_model_name": "DescriptionStyleModel",
       "_view_count": null,
       "_view_module": "@jupyter-widgets/base",
       "_view_module_version": "1.2.0",
       "_view_name": "StyleView",
       "description_width": ""
      }
     },
     "d68180b8199341d286c78647b47a4a42": {
      "model_module": "@jupyter-widgets/base",
      "model_module_version": "1.2.0",
      "model_name": "LayoutModel",
      "state": {
       "_model_module": "@jupyter-widgets/base",
       "_model_module_version": "1.2.0",
       "_model_name": "LayoutModel",
       "_view_count": null,
       "_view_module": "@jupyter-widgets/base",
       "_view_module_version": "1.2.0",
       "_view_name": "LayoutView",
       "align_content": null,
       "align_items": null,
       "align_self": null,
       "border": null,
       "bottom": null,
       "display": null,
       "flex": null,
       "flex_flow": null,
       "grid_area": null,
       "grid_auto_columns": null,
       "grid_auto_flow": null,
       "grid_auto_rows": null,
       "grid_column": null,
       "grid_gap": null,
       "grid_row": null,
       "grid_template_areas": null,
       "grid_template_columns": null,
       "grid_template_rows": null,
       "height": null,
       "justify_content": null,
       "justify_items": null,
       "left": null,
       "margin": null,
       "max_height": null,
       "max_width": null,
       "min_height": null,
       "min_width": null,
       "object_fit": null,
       "object_position": null,
       "order": null,
       "overflow": null,
       "overflow_x": null,
       "overflow_y": null,
       "padding": null,
       "right": null,
       "top": null,
       "visibility": null,
       "width": null
      }
     },
     "f603309e73b9405aa6df7ba4c37c9493": {
      "model_module": "@jupyter-widgets/controls",
      "model_module_version": "1.5.0",
      "model_name": "HTMLModel",
      "state": {
       "_dom_classes": [],
       "_model_module": "@jupyter-widgets/controls",
       "_model_module_version": "1.5.0",
       "_model_name": "HTMLModel",
       "_view_count": null,
       "_view_module": "@jupyter-widgets/controls",
       "_view_module_version": "1.5.0",
       "_view_name": "HTMLView",
       "description": "",
       "description_tooltip": null,
       "layout": "IPY_MODEL_d68180b8199341d286c78647b47a4a42",
       "placeholder": "​",
       "style": "IPY_MODEL_202e6abeeed842c29d02e410857c1598",
       "value": " 3/3 [02:35&lt;00:00, 51.93s/it]"
      }
     }
    },
    "version_major": 2,
    "version_minor": 0
   }
  }
 },
 "nbformat": 4,
 "nbformat_minor": 5
}
