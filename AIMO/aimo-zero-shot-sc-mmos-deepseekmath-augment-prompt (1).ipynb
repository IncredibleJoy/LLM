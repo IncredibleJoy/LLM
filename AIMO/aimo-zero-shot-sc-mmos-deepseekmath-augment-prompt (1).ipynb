{
 "cells": [
  {
   "cell_type": "code",
   "execution_count": 1,
   "id": "1733fcfa",
   "metadata": {
    "execution": {
     "iopub.execute_input": "2024-04-08T11:04:57.676377Z",
     "iopub.status.busy": "2024-04-08T11:04:57.676092Z",
     "iopub.status.idle": "2024-04-08T11:04:57.680887Z",
     "shell.execute_reply": "2024-04-08T11:04:57.679836Z"
    },
    "papermill": {
     "duration": 0.017132,
     "end_time": "2024-04-08T11:04:57.683060",
     "exception": false,
     "start_time": "2024-04-08T11:04:57.665928",
     "status": "completed"
    },
    "tags": []
   },
   "outputs": [],
   "source": [
    "# credits:\n",
    "# https://www.kaggle.com/code/olyatsimboy/aimo-openmath-mistral-baseline\n",
    "# https://www.kaggle.com/code/aatiffraz/prompt-prediction-w-mixtral-mistral7b-gemma-llama\n",
    "# https://www.kaggle.com/code/thedrcat/aimo-mixtral-baseline"
   ]
  },
  {
   "cell_type": "markdown",
   "id": "5ce577da",
   "metadata": {
    "papermill": {
     "duration": 0.008358,
     "end_time": "2024-04-08T11:04:57.700081",
     "exception": false,
     "start_time": "2024-04-08T11:04:57.691723",
     "status": "completed"
    },
    "tags": []
   },
   "source": [
    "# Zero-shot MMOS-DeepSeekMath-7B with self-consistency and generated code reasoning evaluation\n",
    "\n",
    "Self-consistency is a modification of the standard greedy decoding in reasoning pipelines via sampling several diverse answers followed by aggregation, e.g., most common answer ([SC-CoT paper](https://arxiv.org/pdf/2203.11171.pdf)).\n",
    "\n",
    "In this kernel, we will consider MMOS-DeepSeekMath-7B RL-tuned backbone; in my experiments, this model produces more consistent code reasoning and the code block execution will allow us to decrease arithmetic hallucinations."
   ]
  },
  {
   "cell_type": "code",
   "execution_count": 2,
   "id": "c1d9e75d",
   "metadata": {
    "execution": {
     "iopub.execute_input": "2024-04-08T11:04:57.719436Z",
     "iopub.status.busy": "2024-04-08T11:04:57.719176Z",
     "iopub.status.idle": "2024-04-08T11:05:34.794693Z",
     "shell.execute_reply": "2024-04-08T11:05:34.793453Z"
    },
    "papermill": {
     "duration": 37.087446,
     "end_time": "2024-04-08T11:05:34.797253",
     "exception": false,
     "start_time": "2024-04-08T11:04:57.709807",
     "status": "completed"
    },
    "tags": []
   },
   "outputs": [],
   "source": [
    "!pip install -U /kaggle/input/bitsandbytes-0-42-0-py3-none-any-whl/bitsandbytes-0.42.0-py3-none-any.whl -qq"
   ]
  },
  {
   "cell_type": "code",
   "execution_count": 3,
   "id": "fe798d18",
   "metadata": {
    "execution": {
     "iopub.execute_input": "2024-04-08T11:05:34.817020Z",
     "iopub.status.busy": "2024-04-08T11:05:34.816418Z",
     "iopub.status.idle": "2024-04-08T11:08:53.766949Z",
     "shell.execute_reply": "2024-04-08T11:08:53.766152Z"
    },
    "papermill": {
     "duration": 198.962523,
     "end_time": "2024-04-08T11:08:53.768988",
     "exception": false,
     "start_time": "2024-04-08T11:05:34.806465",
     "status": "completed"
    },
    "tags": []
   },
   "outputs": [
    {
     "name": "stderr",
     "output_type": "stream",
     "text": [
      "2024-04-08 11:05:43.817447: E external/local_xla/xla/stream_executor/cuda/cuda_dnn.cc:9261] Unable to register cuDNN factory: Attempting to register factory for plugin cuDNN when one has already been registered\n",
      "2024-04-08 11:05:43.817565: E external/local_xla/xla/stream_executor/cuda/cuda_fft.cc:607] Unable to register cuFFT factory: Attempting to register factory for plugin cuFFT when one has already been registered\n",
      "2024-04-08 11:05:44.004383: E external/local_xla/xla/stream_executor/cuda/cuda_blas.cc:1515] Unable to register cuBLAS factory: Attempting to register factory for plugin cuBLAS when one has already been registered\n",
      "Special tokens have been added in the vocabulary, make sure the associated word embeddings are fine-tuned or trained.\n"
     ]
    },
    {
     "data": {
      "application/vnd.jupyter.widget-view+json": {
       "model_id": "e73b2f7c64e14a099d0bb8caa8a035f9",
       "version_major": 2,
       "version_minor": 0
      },
      "text/plain": [
       "Loading checkpoint shards:   0%|          | 0/3 [00:00<?, ?it/s]"
      ]
     },
     "metadata": {},
     "output_type": "display_data"
    }
   ],
   "source": [
    "import torch\n",
    "from transformers import (\n",
    "    AutoModelForCausalLM, \n",
    "    AutoTokenizer, \n",
    "    BitsAndBytesConfig, \n",
    "    AutoConfig,\n",
    "    set_seed\n",
    ")\n",
    "\n",
    "set_seed(42)\n",
    "\n",
    "MODEL_PATH = \"/kaggle/input/deepseek-math\"\n",
    "\n",
    "quantization_config = BitsAndBytesConfig(\n",
    "    load_in_4bit = True,\n",
    "    bnb_4bit_quant_type=\"nf4\",\n",
    "    bnb_4bit_compute_dtype=torch.bfloat16,\n",
    "    bnb_4bit_use_double_quant=True,\n",
    ")\n",
    "\n",
    "config = AutoConfig.from_pretrained(MODEL_PATH)\n",
    "config.gradient_checkpointing = True\n",
    "\n",
    "\n",
    "tokenizer = AutoTokenizer.from_pretrained(MODEL_PATH)\n",
    "\n",
    "model = AutoModelForCausalLM.from_pretrained(\n",
    "    MODEL_PATH,\n",
    "    device_map=\"auto\",\n",
    "    torch_dtype=\"auto\",\n",
    "    trust_remote_code=True,\n",
    "#     quantization_config=quantization_config,\n",
    "    config=config\n",
    ")"
   ]
  },
  {
   "cell_type": "code",
   "execution_count": 4,
   "id": "7bd0d8b0",
   "metadata": {
    "execution": {
     "iopub.execute_input": "2024-04-08T11:08:53.788164Z",
     "iopub.status.busy": "2024-04-08T11:08:53.787672Z",
     "iopub.status.idle": "2024-04-08T11:08:53.793931Z",
     "shell.execute_reply": "2024-04-08T11:08:53.793114Z"
    },
    "papermill": {
     "duration": 0.017938,
     "end_time": "2024-04-08T11:08:53.795898",
     "exception": false,
     "start_time": "2024-04-08T11:08:53.777960",
     "status": "completed"
    },
    "tags": []
   },
   "outputs": [
    {
     "data": {
      "text/plain": [
       "torch.bfloat16"
      ]
     },
     "execution_count": 4,
     "metadata": {},
     "output_type": "execute_result"
    }
   ],
   "source": [
    "model.dtype"
   ]
  },
  {
   "cell_type": "code",
   "execution_count": 5,
   "id": "4222d4f5",
   "metadata": {
    "execution": {
     "iopub.execute_input": "2024-04-08T11:08:53.814935Z",
     "iopub.status.busy": "2024-04-08T11:08:53.814223Z",
     "iopub.status.idle": "2024-04-08T11:08:53.837638Z",
     "shell.execute_reply": "2024-04-08T11:08:53.836720Z"
    },
    "papermill": {
     "duration": 0.035125,
     "end_time": "2024-04-08T11:08:53.839787",
     "exception": false,
     "start_time": "2024-04-08T11:08:53.804662",
     "status": "completed"
    },
    "tags": []
   },
   "outputs": [
    {
     "data": {
      "text/html": [
       "<div>\n",
       "<style scoped>\n",
       "    .dataframe tbody tr th:only-of-type {\n",
       "        vertical-align: middle;\n",
       "    }\n",
       "\n",
       "    .dataframe tbody tr th {\n",
       "        vertical-align: top;\n",
       "    }\n",
       "\n",
       "    .dataframe thead th {\n",
       "        text-align: right;\n",
       "    }\n",
       "</style>\n",
       "<table border=\"1\" class=\"dataframe\">\n",
       "  <thead>\n",
       "    <tr style=\"text-align: right;\">\n",
       "      <th></th>\n",
       "      <th>id</th>\n",
       "      <th>problem</th>\n",
       "    </tr>\n",
       "  </thead>\n",
       "  <tbody>\n",
       "    <tr>\n",
       "      <th>0</th>\n",
       "      <td>000aaa</td>\n",
       "      <td>What is $1-1$?</td>\n",
       "    </tr>\n",
       "    <tr>\n",
       "      <th>1</th>\n",
       "      <td>111bbb</td>\n",
       "      <td>What is $0\\times10$?</td>\n",
       "    </tr>\n",
       "    <tr>\n",
       "      <th>2</th>\n",
       "      <td>222ccc</td>\n",
       "      <td>Solve $4+x=4$ for $x$.</td>\n",
       "    </tr>\n",
       "  </tbody>\n",
       "</table>\n",
       "</div>"
      ],
      "text/plain": [
       "       id                 problem\n",
       "0  000aaa          What is $1-1$?\n",
       "1  111bbb    What is $0\\times10$?\n",
       "2  222ccc  Solve $4+x=4$ for $x$."
      ]
     },
     "execution_count": 5,
     "metadata": {},
     "output_type": "execute_result"
    }
   ],
   "source": [
    "import pandas as pd\n",
    "from tqdm import tqdm\n",
    "PRIVATE = True\n",
    "\n",
    "df = pd.read_csv('/kaggle/input/ai-mathematical-olympiad-prize/test.csv')\n",
    "df.head()"
   ]
  },
  {
   "cell_type": "code",
   "execution_count": 6,
   "id": "dfdd463a",
   "metadata": {
    "execution": {
     "iopub.execute_input": "2024-04-08T11:08:53.859857Z",
     "iopub.status.busy": "2024-04-08T11:08:53.859579Z",
     "iopub.status.idle": "2024-04-08T11:08:53.873155Z",
     "shell.execute_reply": "2024-04-08T11:08:53.872276Z"
    },
    "papermill": {
     "duration": 0.025551,
     "end_time": "2024-04-08T11:08:53.875216",
     "exception": false,
     "start_time": "2024-04-08T11:08:53.849665",
     "status": "completed"
    },
    "tags": []
   },
   "outputs": [
    {
     "data": {
      "text/html": [
       "<div>\n",
       "<style scoped>\n",
       "    .dataframe tbody tr th:only-of-type {\n",
       "        vertical-align: middle;\n",
       "    }\n",
       "\n",
       "    .dataframe tbody tr th {\n",
       "        vertical-align: top;\n",
       "    }\n",
       "\n",
       "    .dataframe thead th {\n",
       "        text-align: right;\n",
       "    }\n",
       "</style>\n",
       "<table border=\"1\" class=\"dataframe\">\n",
       "  <thead>\n",
       "    <tr style=\"text-align: right;\">\n",
       "      <th></th>\n",
       "      <th>id</th>\n",
       "      <th>problem</th>\n",
       "      <th>answer</th>\n",
       "    </tr>\n",
       "  </thead>\n",
       "  <tbody>\n",
       "    <tr>\n",
       "      <th>0</th>\n",
       "      <td>229ee8</td>\n",
       "      <td>Let $k, l &gt; 0$ be parameters. The parabola $y ...</td>\n",
       "      <td>52</td>\n",
       "    </tr>\n",
       "    <tr>\n",
       "      <th>1</th>\n",
       "      <td>246d26</td>\n",
       "      <td>Each of the three-digits numbers $111$ to $999...</td>\n",
       "      <td>250</td>\n",
       "    </tr>\n",
       "    <tr>\n",
       "      <th>2</th>\n",
       "      <td>2fc4ad</td>\n",
       "      <td>Let the `sparkle' operation on positive intege...</td>\n",
       "      <td>702</td>\n",
       "    </tr>\n",
       "    <tr>\n",
       "      <th>3</th>\n",
       "      <td>430b63</td>\n",
       "      <td>What is the minimum value of $5x^2+5y^2-8xy$ w...</td>\n",
       "      <td>800</td>\n",
       "    </tr>\n",
       "    <tr>\n",
       "      <th>4</th>\n",
       "      <td>5277ed</td>\n",
       "      <td>There exists a unique increasing geometric seq...</td>\n",
       "      <td>211</td>\n",
       "    </tr>\n",
       "  </tbody>\n",
       "</table>\n",
       "</div>"
      ],
      "text/plain": [
       "       id                                            problem  answer\n",
       "0  229ee8  Let $k, l > 0$ be parameters. The parabola $y ...      52\n",
       "1  246d26  Each of the three-digits numbers $111$ to $999...     250\n",
       "2  2fc4ad  Let the `sparkle' operation on positive intege...     702\n",
       "3  430b63  What is the minimum value of $5x^2+5y^2-8xy$ w...     800\n",
       "4  5277ed  There exists a unique increasing geometric seq...     211"
      ]
     },
     "execution_count": 6,
     "metadata": {},
     "output_type": "execute_result"
    }
   ],
   "source": [
    "if len(df) < 5:\n",
    "    df = pd.read_csv('/kaggle/input/ai-mathematical-olympiad-prize/train.csv')\n",
    "    PRIVATE = False\n",
    "df.head()"
   ]
  },
  {
   "cell_type": "code",
   "execution_count": 7,
   "id": "b62d84c5",
   "metadata": {
    "execution": {
     "iopub.execute_input": "2024-04-08T11:08:53.895436Z",
     "iopub.status.busy": "2024-04-08T11:08:53.894700Z",
     "iopub.status.idle": "2024-04-08T11:08:53.898624Z",
     "shell.execute_reply": "2024-04-08T11:08:53.897796Z"
    },
    "papermill": {
     "duration": 0.015947,
     "end_time": "2024-04-08T11:08:53.900507",
     "exception": false,
     "start_time": "2024-04-08T11:08:53.884560",
     "status": "completed"
    },
    "tags": []
   },
   "outputs": [],
   "source": [
    "import gc\n",
    "device = 'cuda'"
   ]
  },
  {
   "cell_type": "code",
   "execution_count": 8,
   "id": "f1cfbbe1",
   "metadata": {
    "execution": {
     "iopub.execute_input": "2024-04-08T11:08:53.921175Z",
     "iopub.status.busy": "2024-04-08T11:08:53.920431Z",
     "iopub.status.idle": "2024-04-08T11:08:53.926285Z",
     "shell.execute_reply": "2024-04-08T11:08:53.925455Z"
    },
    "papermill": {
     "duration": 0.01793,
     "end_time": "2024-04-08T11:08:53.928111",
     "exception": false,
     "start_time": "2024-04-08T11:08:53.910181",
     "status": "completed"
    },
    "tags": []
   },
   "outputs": [],
   "source": [
    "def naive_parse(answer):\n",
    "    out = []\n",
    "    start = False\n",
    "    end = False\n",
    "    for l in reversed(list(answer)):\n",
    "        if l in '0123456789' and not end:\n",
    "            start = True\n",
    "            out.append(l)\n",
    "        else:\n",
    "            if start:\n",
    "                end = True\n",
    "        \n",
    "    out = reversed(out)\n",
    "    return ''.join(out)"
   ]
  },
  {
   "cell_type": "code",
   "execution_count": 9,
   "id": "f6ba1794",
   "metadata": {
    "execution": {
     "iopub.execute_input": "2024-04-08T11:08:53.948910Z",
     "iopub.status.busy": "2024-04-08T11:08:53.948668Z",
     "iopub.status.idle": "2024-04-08T11:08:56.593645Z",
     "shell.execute_reply": "2024-04-08T11:08:56.592646Z"
    },
    "papermill": {
     "duration": 2.657932,
     "end_time": "2024-04-08T11:08:56.595972",
     "exception": false,
     "start_time": "2024-04-08T11:08:53.938040",
     "status": "completed"
    },
    "tags": []
   },
   "outputs": [],
   "source": [
    "import transformers\n",
    "\n",
    "pipeline = transformers.pipeline(\n",
    "    \"text-generation\",\n",
    "    model=model,\n",
    "    tokenizer=tokenizer,\n",
    "    torch_dtype='auto',\n",
    "    device_map=\"auto\",\n",
    ")"
   ]
  },
  {
   "cell_type": "code",
   "execution_count": 10,
   "id": "e565aa35",
   "metadata": {
    "execution": {
     "iopub.execute_input": "2024-04-08T11:08:56.616371Z",
     "iopub.status.busy": "2024-04-08T11:08:56.615800Z",
     "iopub.status.idle": "2024-04-08T11:08:56.620707Z",
     "shell.execute_reply": "2024-04-08T11:08:56.619828Z"
    },
    "papermill": {
     "duration": 0.01705,
     "end_time": "2024-04-08T11:08:56.622585",
     "exception": false,
     "start_time": "2024-04-08T11:08:56.605535",
     "status": "completed"
    },
    "tags": []
   },
   "outputs": [
    {
     "name": "stdout",
     "output_type": "stream",
     "text": [
      "Transformers Version: 4.38.2\n"
     ]
    }
   ],
   "source": [
    "print(f\"Transformers Version: {transformers.__version__}\")"
   ]
  },
  {
   "cell_type": "code",
   "execution_count": 11,
   "id": "3f15631a",
   "metadata": {
    "execution": {
     "iopub.execute_input": "2024-04-08T11:08:56.642873Z",
     "iopub.status.busy": "2024-04-08T11:08:56.642592Z",
     "iopub.status.idle": "2024-04-08T11:08:56.646772Z",
     "shell.execute_reply": "2024-04-08T11:08:56.645788Z"
    },
    "papermill": {
     "duration": 0.016098,
     "end_time": "2024-04-08T11:08:56.648593",
     "exception": false,
     "start_time": "2024-04-08T11:08:56.632495",
     "status": "completed"
    },
    "tags": []
   },
   "outputs": [],
   "source": [
    "import torch\n",
    "\n",
    "torch.backends.cuda.enable_mem_efficient_sdp(False)"
   ]
  },
  {
   "cell_type": "code",
   "execution_count": 12,
   "id": "b77168d3",
   "metadata": {
    "execution": {
     "iopub.execute_input": "2024-04-08T11:08:56.668574Z",
     "iopub.status.busy": "2024-04-08T11:08:56.668301Z",
     "iopub.status.idle": "2024-04-08T11:08:56.679359Z",
     "shell.execute_reply": "2024-04-08T11:08:56.678422Z"
    },
    "papermill": {
     "duration": 0.023324,
     "end_time": "2024-04-08T11:08:56.681288",
     "exception": false,
     "start_time": "2024-04-08T11:08:56.657964",
     "status": "completed"
    },
    "tags": []
   },
   "outputs": [],
   "source": [
    "import re\n",
    "import sys\n",
    "import subprocess\n",
    "\n",
    "\n",
    "def process_output(output):\n",
    "    result = output\n",
    "    \n",
    "    try:\n",
    "        code = output.split('```')[1][7:]\n",
    "\n",
    "        with open('code.py', 'w') as fout:\n",
    "            fout.write(code)\n",
    "\n",
    "        batcmd = 'timeout 7 ' + sys.executable + ' code.py'\n",
    "        try:\n",
    "            shell_output = subprocess.check_output(batcmd, shell=True).decode('utf8')\n",
    "            print(shell_output)\n",
    "            code_output = round(float(eval(shell_output))) % 1000\n",
    "        except:\n",
    "            code_output = -1\n",
    "\n",
    "        print('CODE RESULTS', code_output)\n",
    "    \n",
    "    except Exception as e:\n",
    "        print(e)\n",
    "        print('ERROR PARSING')\n",
    "        code_output = -1\n",
    "    \n",
    "    try:\n",
    "        result_output = re.findall(r'\\\\boxed\\{(.*)\\}', result)\n",
    "\n",
    "        print('BOXED', result_output)\n",
    "        if not len(result_output):\n",
    "            result_output = naive_parse(result)\n",
    "        else:\n",
    "            result_output = result_output[-1]\n",
    "\n",
    "        print('BOXED', result_output)\n",
    "        if not len(result_output):\n",
    "            result_output = -1\n",
    "        \n",
    "        else:\n",
    "            result_output = round(float(eval(result_output))) % 1000\n",
    "    \n",
    "    except Exception as e:\n",
    "        print(e)\n",
    "        print('ERROR PARSING')\n",
    "        result_output = -1\n",
    "    \n",
    "    return result_output, code_output"
   ]
  },
  {
   "cell_type": "code",
   "execution_count": 13,
   "id": "2bf0e53b",
   "metadata": {
    "_kg_hide-output": true,
    "execution": {
     "iopub.execute_input": "2024-04-08T11:08:56.701079Z",
     "iopub.status.busy": "2024-04-08T11:08:56.700836Z",
     "iopub.status.idle": "2024-04-08T11:39:45.224927Z",
     "shell.execute_reply": "2024-04-08T11:39:45.224025Z"
    },
    "papermill": {
     "duration": 1848.561487,
     "end_time": "2024-04-08T11:39:45.252216",
     "exception": false,
     "start_time": "2024-04-08T11:08:56.690729",
     "status": "completed"
    },
    "scrolled": true,
    "tags": []
   },
   "outputs": [
    {
     "name": "stderr",
     "output_type": "stream",
     "text": [
      "  0%|          | 0/10 [00:00<?, ?it/s]\n",
      "  0%|          | 0/2 [00:00<?, ?it/s]\u001b[ASetting `pad_token_id` to `eos_token_id`:100001 for open-end generation.\n"
     ]
    },
    {
     "name": "stdout",
     "output_type": "stream",
     "text": [
      "504\n",
      "\n",
      "CODE RESULTS 504\n",
      "BOXED ['504']\n",
      "BOXED 504\n"
     ]
    },
    {
     "name": "stderr",
     "output_type": "stream",
     "text": [
      "\n",
      " 50%|█████     | 1/2 [02:01<02:01, 121.69s/it]\u001b[ASetting `pad_token_id` to `eos_token_id`:100001 for open-end generation.\n",
      "Traceback (most recent call last):\n",
      "  File \"/kaggle/working/code.py\", line 37, in <module>\n",
      "    result = sum_of_squares_distances()\n",
      "  File \"/kaggle/working/code.py\", line 16, in sum_of_squares_distances\n",
      "    solutions = solve(parabola - line, x)\n",
      "UnboundLocalError: local variable 'solve' referenced before assignment\n"
     ]
    },
    {
     "name": "stdout",
     "output_type": "stream",
     "text": [
      "CODE RESULTS -1\n",
      "BOXED ['13']\n",
      "BOXED 13\n"
     ]
    },
    {
     "name": "stderr",
     "output_type": "stream",
     "text": [
      "\n",
      "100%|██████████| 2/2 [03:50<00:00, 115.38s/it]\n",
      " 10%|█         | 1/10 [03:50<34:36, 230.76s/it]\n",
      "  0%|          | 0/2 [00:00<?, ?it/s]\u001b[ASetting `pad_token_id` to `eos_token_id`:100001 for open-end generation.\n"
     ]
    },
    {
     "name": "stdout",
     "output_type": "stream",
     "text": [
      "list index out of range\n",
      "ERROR PARSING\n",
      "BOXED []\n",
      "BOXED 500\n"
     ]
    },
    {
     "name": "stderr",
     "output_type": "stream",
     "text": [
      "\n",
      " 50%|█████     | 1/2 [00:26<00:26, 26.46s/it]\u001b[ASetting `pad_token_id` to `eos_token_id`:100001 for open-end generation.\n"
     ]
    },
    {
     "name": "stdout",
     "output_type": "stream",
     "text": [
      "list index out of range\n",
      "ERROR PARSING\n",
      "BOXED ['0']\n",
      "BOXED 0\n"
     ]
    },
    {
     "name": "stderr",
     "output_type": "stream",
     "text": [
      "\n",
      "100%|██████████| 2/2 [02:12<00:00, 66.20s/it]\n",
      " 20%|██        | 2/10 [06:03<23:03, 172.91s/it]\n",
      "  0%|          | 0/2 [00:00<?, ?it/s]\u001b[ASetting `pad_token_id` to `eos_token_id`:100001 for open-end generation.\n",
      "Traceback (most recent call last):\n",
      "  File \"/kaggle/working/code.py\", line 17, in <module>\n",
      "    result = sparkle(36)\n",
      "  File \"/kaggle/working/code.py\", line 10, in sparkle\n",
      "    num = sum(int(digit) for digit in str(num))\n",
      "ValueError: Exceeds the limit (4300) for integer string conversion; use sys.set_int_max_str_digits() to increase the limit\n"
     ]
    },
    {
     "name": "stdout",
     "output_type": "stream",
     "text": [
      "CODE RESULTS -1\n",
      "BOXED ['415}$ special numbers with at most 36 digits. The answer is $\\\\boxed{415']\n",
      "BOXED 415}$ special numbers with at most 36 digits. The answer is $\\boxed{415\n",
      "unmatched '}' (<string>, line 1)\n",
      "ERROR PARSING\n"
     ]
    },
    {
     "name": "stderr",
     "output_type": "stream",
     "text": [
      "\n",
      " 50%|█████     | 1/2 [00:55<00:55, 55.25s/it]\u001b[ASetting `pad_token_id` to `eos_token_id`:100001 for open-end generation.\n",
      "Traceback (most recent call last):\n",
      "  File \"/kaggle/working/code.py\", line 24, in <module>\n",
      "    result = special_numbers()\n",
      "  File \"/kaggle/working/code.py\", line 19, in special_numbers\n",
      "    if is_special(i):\n",
      "  File \"/kaggle/working/code.py\", line 14, in is_special\n",
      "    n = sparkle(n)\n",
      "  File \"/kaggle/working/code.py\", line 8, in sparkle\n",
      "    return factorial(sum(int(digit) for digit in str(n)))\n",
      "  File \"/opt/conda/lib/python3.10/site-packages/sympy/core/_print_helpers.py\", line 29, in __str__\n",
      "    return sstr(self, order=None)\n",
      "  File \"/opt/conda/lib/python3.10/site-packages/sympy/printing/printer.py\", line 372, in __call__\n",
      "    return self.__wrapped__(*args, **kwargs)\n",
      "  File \"/opt/conda/lib/python3.10/site-packages/sympy/printing/str.py\", line 998, in sstr\n",
      "    s = p.doprint(expr)\n",
      "  File \"/opt/conda/lib/python3.10/site-packages/sympy/printing/printer.py\", line 292, in doprint\n",
      "    return self._str(self._print(expr))\n",
      "  File \"/opt/conda/lib/python3.10/site-packages/sympy/printing/printer.py\", line 331, in _print\n",
      "    return printmethod(expr, **kwargs)\n",
      "  File \"/opt/conda/lib/python3.10/site-packages/sympy/printing/str.py\", line 679, in _print_Integer\n",
      "    return str(expr.p)\n",
      "ValueError: Exceeds the limit (4300) for integer string conversion; use sys.set_int_max_str_digits() to increase the limit\n"
     ]
    },
    {
     "name": "stdout",
     "output_type": "stream",
     "text": [
      "CODE RESULTS -1\n",
      "BOXED ['156']\n",
      "BOXED 156\n"
     ]
    },
    {
     "name": "stderr",
     "output_type": "stream",
     "text": [
      "\n",
      "100%|██████████| 2/2 [01:53<00:00, 56.84s/it]\n",
      " 30%|███       | 3/10 [07:56<17:01, 145.86s/it]\n",
      "  0%|          | 0/2 [00:00<?, ?it/s]\u001b[ASetting `pad_token_id` to `eos_token_id`:100001 for open-end generation.\n",
      "Traceback (most recent call last):\n",
      "  File \"/kaggle/working/code.py\", line 22, in <module>\n",
      "    result = min_value()\n",
      "  File \"/kaggle/working/code.py\", line 12, in min_value\n",
      "    y_sol = solve(constraint, y)[0]\n",
      "  File \"/opt/conda/lib/python3.10/site-packages/sympy/solvers/solvers.py\", line 1007, in solve\n",
      "    raise NotImplementedError('solving %s when the argument '\n",
      "NotImplementedError: solving Abs(x - 2*y) when the argument is not real or imaginary.\n"
     ]
    },
    {
     "name": "stdout",
     "output_type": "stream",
     "text": [
      "CODE RESULTS -1\n",
      "BOXED ['560']\n",
      "BOXED 560\n"
     ]
    },
    {
     "name": "stderr",
     "output_type": "stream",
     "text": [
      "\n",
      " 50%|█████     | 1/2 [01:13<01:13, 73.38s/it]\u001b[ASetting `pad_token_id` to `eos_token_id`:100001 for open-end generation.\n"
     ]
    },
    {
     "name": "stdout",
     "output_type": "stream",
     "text": [
      "800.0\n",
      "\n",
      "CODE RESULTS 800\n",
      "BOXED []\n",
      "BOXED 375\n"
     ]
    },
    {
     "name": "stderr",
     "output_type": "stream",
     "text": [
      "\n",
      "100%|██████████| 2/2 [02:08<00:00, 64.48s/it]\n",
      " 40%|████      | 4/10 [10:05<13:55, 139.19s/it]\n",
      "  0%|          | 0/2 [00:00<?, ?it/s]\u001b[ASetting `pad_token_id` to `eos_token_id`:100001 for open-end generation.\n"
     ]
    },
    {
     "name": "stdout",
     "output_type": "stream",
     "text": [
      "310\n",
      "\n",
      "CODE RESULTS 310\n",
      "BOXED []\n",
      "BOXED 630\n"
     ]
    },
    {
     "name": "stderr",
     "output_type": "stream",
     "text": [
      "\n",
      " 50%|█████     | 1/2 [01:19<01:19, 79.02s/it]\u001b[ASetting `pad_token_id` to `eos_token_id`:100001 for open-end generation.\n"
     ]
    },
    {
     "name": "stdout",
     "output_type": "stream",
     "text": [
      "496\n",
      "\n",
      "CODE RESULTS 496\n",
      "BOXED ['546']\n",
      "BOXED 546\n"
     ]
    },
    {
     "name": "stderr",
     "output_type": "stream",
     "text": [
      "\n",
      "100%|██████████| 2/2 [02:41<00:00, 80.88s/it]\n",
      " 50%|█████     | 5/10 [12:47<12:16, 147.33s/it]\n",
      "  0%|          | 0/2 [00:00<?, ?it/s]\u001b[A/opt/conda/lib/python3.10/site-packages/transformers/pipelines/base.py:1157: UserWarning: You seem to be using the pipelines sequentially on GPU. In order to maximize efficiency please use a dataset\n",
      "  warnings.warn(\n",
      "Setting `pad_token_id` to `eos_token_id`:100001 for open-end generation.\n"
     ]
    },
    {
     "name": "stdout",
     "output_type": "stream",
     "text": [
      "100\n",
      "\n",
      "CODE RESULTS 100\n",
      "BOXED ['1']\n",
      "BOXED 1\n"
     ]
    },
    {
     "name": "stderr",
     "output_type": "stream",
     "text": [
      "\n",
      " 50%|█████     | 1/2 [01:22<01:22, 82.30s/it]\u001b[ASetting `pad_token_id` to `eos_token_id`:100001 for open-end generation.\n",
      "Traceback (most recent call last):\n",
      "  File \"/kaggle/working/code.py\", line 17, in <module>\n",
      "    result = count_solutions()\n",
      "  File \"/kaggle/working/code.py\", line 11, in count_solutions\n",
      "    solutions = solve(equation, x)\n",
      "  File \"/opt/conda/lib/python3.10/site-packages/sympy/solvers/solvers.py\", line 1007, in solve\n",
      "    raise NotImplementedError('solving %s when the argument '\n",
      "NotImplementedError: solving Abs(x - 1) when the argument is not real or imaginary.\n"
     ]
    },
    {
     "name": "stdout",
     "output_type": "stream",
     "text": [
      "CODE RESULTS -1\n",
      "BOXED ['1']\n",
      "BOXED 1\n"
     ]
    },
    {
     "name": "stderr",
     "output_type": "stream",
     "text": [
      "\n",
      "100%|██████████| 2/2 [02:09<00:00, 64.60s/it]\n",
      " 60%|██████    | 6/10 [14:56<09:24, 141.17s/it]\n",
      "  0%|          | 0/2 [00:00<?, ?it/s]\u001b[ASetting `pad_token_id` to `eos_token_id`:100001 for open-end generation.\n"
     ]
    },
    {
     "name": "stdout",
     "output_type": "stream",
     "text": [
      "list index out of range\n",
      "ERROR PARSING\n",
      "BOXED ['967']\n",
      "BOXED 967\n"
     ]
    },
    {
     "name": "stderr",
     "output_type": "stream",
     "text": [
      "\n",
      " 50%|█████     | 1/2 [00:58<00:58, 58.34s/it]\u001b[ASetting `pad_token_id` to `eos_token_id`:100001 for open-end generation.\n"
     ]
    },
    {
     "name": "stdout",
     "output_type": "stream",
     "text": [
      "list index out of range\n",
      "ERROR PARSING\n",
      "BOXED ['967']\n",
      "BOXED 967\n"
     ]
    },
    {
     "name": "stderr",
     "output_type": "stream",
     "text": [
      "\n",
      "100%|██████████| 2/2 [02:41<00:00, 80.93s/it]\n",
      " 70%|███████   | 7/10 [17:38<07:23, 147.93s/it]\n",
      "  0%|          | 0/2 [00:00<?, ?it/s]\u001b[ASetting `pad_token_id` to `eos_token_id`:100001 for open-end generation.\n"
     ]
    },
    {
     "name": "stdout",
     "output_type": "stream",
     "text": [
      "256\n",
      "\n",
      "CODE RESULTS 256\n",
      "BOXED ['256']\n",
      "BOXED 256\n"
     ]
    },
    {
     "name": "stderr",
     "output_type": "stream",
     "text": [
      "\n",
      " 50%|█████     | 1/2 [01:06<01:06, 66.98s/it]\u001b[ASetting `pad_token_id` to `eos_token_id`:100001 for open-end generation.\n"
     ]
    },
    {
     "name": "stdout",
     "output_type": "stream",
     "text": [
      "256\n",
      "\n",
      "CODE RESULTS 256\n",
      "BOXED ['256']\n",
      "BOXED 256\n"
     ]
    },
    {
     "name": "stderr",
     "output_type": "stream",
     "text": [
      "\n",
      "100%|██████████| 2/2 [02:38<00:00, 79.45s/it]\n",
      " 80%|████████  | 8/10 [20:17<05:02, 151.42s/it]\n",
      "  0%|          | 0/2 [00:00<?, ?it/s]\u001b[ASetting `pad_token_id` to `eos_token_id`:100001 for open-end generation.\n"
     ]
    },
    {
     "name": "stdout",
     "output_type": "stream",
     "text": [
      "436\n",
      "\n",
      "CODE RESULTS 436\n",
      "BOXED ['47']\n",
      "BOXED 47\n"
     ]
    },
    {
     "name": "stderr",
     "output_type": "stream",
     "text": [
      "\n",
      " 50%|█████     | 1/2 [00:53<00:53, 53.18s/it]\u001b[ASetting `pad_token_id` to `eos_token_id`:100001 for open-end generation.\n"
     ]
    },
    {
     "name": "stdout",
     "output_type": "stream",
     "text": [
      "list index out of range\n",
      "ERROR PARSING\n",
      "BOXED ['479']\n",
      "BOXED 479\n"
     ]
    },
    {
     "name": "stderr",
     "output_type": "stream",
     "text": [
      "\n",
      "100%|██████████| 2/2 [01:47<00:00, 53.54s/it]\n",
      " 90%|█████████ | 9/10 [22:04<02:17, 137.56s/it]\n",
      "  0%|          | 0/2 [00:00<?, ?it/s]\u001b[ASetting `pad_token_id` to `eos_token_id`:100001 for open-end generation.\n",
      "Traceback (most recent call last):\n",
      "  File \"/kaggle/working/code.py\", line 29, in <module>\n",
      "    result = calculate_f_of_100()\n",
      "  File \"/kaggle/working/code.py\", line 10, in calculate_f_of_100\n",
      "    if f(f(f_n_1), 1) == 8 * 1 - 7:\n",
      "  File \"/kaggle/working/code.py\", line 27, in f\n",
      "    return f(f(f(n)))\n",
      "  File \"/kaggle/working/code.py\", line 27, in f\n",
      "    return f(f(f(n)))\n",
      "  File \"/kaggle/working/code.py\", line 27, in f\n",
      "    return f(f(f(n)))\n",
      "  [Previous line repeated 994 more times]\n",
      "  File \"/kaggle/working/code.py\", line 22, in f\n",
      "    if n == 1:\n",
      "RecursionError: maximum recursion depth exceeded in comparison\n"
     ]
    },
    {
     "name": "stdout",
     "output_type": "stream",
     "text": [
      "CODE RESULTS -1\n",
      "BOXED []\n",
      "BOXED 100\n"
     ]
    },
    {
     "name": "stderr",
     "output_type": "stream",
     "text": [
      "\n",
      " 50%|█████     | 1/2 [05:45<05:45, 345.98s/it]\u001b[ASetting `pad_token_id` to `eos_token_id`:100001 for open-end generation.\n"
     ]
    },
    {
     "name": "stdout",
     "output_type": "stream",
     "text": [
      "751.000000000000\n",
      "\n",
      "CODE RESULTS 751\n",
      "BOXED ['911']\n",
      "BOXED 911\n"
     ]
    },
    {
     "name": "stderr",
     "output_type": "stream",
     "text": [
      "\n",
      "100%|██████████| 2/2 [08:43<00:00, 261.94s/it]\n",
      "100%|██████████| 10/10 [30:48<00:00, 184.85s/it]\n"
     ]
    }
   ],
   "source": [
    "import re\n",
    "from collections import defaultdict\n",
    "\n",
    "\n",
    "tool_instruction0 = \" The answer should be given as a non-negative modulo 1000.\"\n",
    "tool_instruction0 += '\\nPlease integrate natural language reasoning with programs to solve the problem above, and put your final answer within \\\\boxed{}.'\n",
    "tool_instruction1 = \"\\nThe answer should be given as a non-negative modulo 1000.\"\n",
    "tool_instruction1 += '\\nPlease integrate natural language reasoning with programs to solve the problem above, and put your final answer within \\\\boxed{}.'\n",
    "tool_instruction2 = \" The answer should be given as a non-negative modulo 1000.\"\n",
    "tool_instruction2 += '\\n\\nPlease integrate natural language reasoning with programs to solve the problem above, and put your final answer within \\\\boxed{}.'\n",
    "tool_instruction3 = \"\\nThe answer should be given as a non-negative modulo 1000.\"\n",
    "tool_instruction3 += '\\n\\nPlease integrate natural language reasoning with programs to solve the problem above, and put your final answer within \\\\boxed{}.'\n",
    "tool_instruction4 = \" The answer should be given as a non-negative modulo 1000.\"\n",
    "tool_instruction4 += '\\nPlease integrate natural language reasoning with python programs to solve the problem above, and put your final answer within \\\\boxed{}.'\n",
    "\n",
    "tool_instructions = [tool_instruction0, tool_instruction1, tool_instruction2, tool_instruction3, tool_instruction4]\n",
    "\n",
    "n_repetitions = 5 if PRIVATE else 2\n",
    "\n",
    "total_results = []\n",
    "total_answers = []\n",
    "\n",
    "for i in tqdm(range(len(df))):\n",
    "    id_ = df['id'].loc[i]\n",
    "    problem = df['problem'].loc[i]\n",
    "    \n",
    "    results = []\n",
    "    answers = []\n",
    "    \n",
    "    for i in tqdm(range(n_repetitions)):\n",
    "        try:\n",
    "            tool_instruction = tool_instructions[i]\n",
    "            \n",
    "            messages = [\n",
    "                {\n",
    "                    \"role\": \"user\", \n",
    "                    \"content\": problem + tool_instruction\n",
    "                }\n",
    "            ]\n",
    "    \n",
    "            query_prompt = tokenizer.apply_chat_template(\n",
    "                messages,\n",
    "                tokenize=False\n",
    "            )\n",
    "            \n",
    "            raw_output = pipeline(\n",
    "                query_prompt, \n",
    "                max_new_tokens=2048, \n",
    "                do_sample=True, \n",
    "                temperature=0.7,\n",
    "                return_full_text=False\n",
    "            )\n",
    "            raw_output = raw_output[0]['generated_text']\n",
    "\n",
    "            result_output, code_output = process_output(raw_output)\n",
    "\n",
    "            torch.cuda.empty_cache()\n",
    "            gc.collect()\n",
    "\n",
    "        except Exception as e:\n",
    "            print(e)\n",
    "            result_output, code_output = -1, -1\n",
    "        \n",
    "        results.append(result_output)\n",
    "        answers.append(code_output)\n",
    "    \n",
    "    total_results.append(results)\n",
    "    total_answers.append(answers)"
   ]
  },
  {
   "cell_type": "code",
   "execution_count": 14,
   "id": "f21dbc8f",
   "metadata": {
    "execution": {
     "iopub.execute_input": "2024-04-08T11:39:45.297880Z",
     "iopub.status.busy": "2024-04-08T11:39:45.297299Z",
     "iopub.status.idle": "2024-04-08T11:39:45.304445Z",
     "shell.execute_reply": "2024-04-08T11:39:45.303629Z"
    },
    "papermill": {
     "duration": 0.031915,
     "end_time": "2024-04-08T11:39:45.306522",
     "exception": false,
     "start_time": "2024-04-08T11:39:45.274607",
     "status": "completed"
    },
    "tags": []
   },
   "outputs": [
    {
     "name": "stdout",
     "output_type": "stream",
     "text": [
      "504\n",
      "500\n",
      "156\n",
      "560\n",
      "310\n",
      "100\n",
      "967\n",
      "256\n",
      "436\n",
      "100\n"
     ]
    }
   ],
   "source": [
    "import numpy as np\n",
    "from collections import Counter\n",
    "\n",
    "final_answers = []\n",
    "\n",
    "for a, b in zip(total_answers, total_results):\n",
    "    a = np.array(a)\n",
    "    b = np.array(b)\n",
    "    a[a < 0] = b[a < 0]\n",
    "    \n",
    "    pred = Counter(a.tolist()).most_common(2)\n",
    "\n",
    "    ans = pred[0][0] if not pred[0][0] < 0 else pred[1][0]\n",
    "\n",
    "    final_answers.append(ans)\n",
    "    print(ans)\n"
   ]
  },
  {
   "cell_type": "code",
   "execution_count": 15,
   "id": "b050c825",
   "metadata": {
    "execution": {
     "iopub.execute_input": "2024-04-08T11:39:45.395643Z",
     "iopub.status.busy": "2024-04-08T11:39:45.395297Z",
     "iopub.status.idle": "2024-04-08T11:39:45.400100Z",
     "shell.execute_reply": "2024-04-08T11:39:45.399171Z"
    },
    "papermill": {
     "duration": 0.07304,
     "end_time": "2024-04-08T11:39:45.401951",
     "exception": false,
     "start_time": "2024-04-08T11:39:45.328911",
     "status": "completed"
    },
    "tags": []
   },
   "outputs": [],
   "source": [
    "df['answer'] = final_answers"
   ]
  },
  {
   "cell_type": "code",
   "execution_count": 16,
   "id": "68c4a653",
   "metadata": {
    "execution": {
     "iopub.execute_input": "2024-04-08T11:39:45.447177Z",
     "iopub.status.busy": "2024-04-08T11:39:45.446911Z",
     "iopub.status.idle": "2024-04-08T11:39:45.457931Z",
     "shell.execute_reply": "2024-04-08T11:39:45.456883Z"
    },
    "papermill": {
     "duration": 0.035357,
     "end_time": "2024-04-08T11:39:45.459880",
     "exception": false,
     "start_time": "2024-04-08T11:39:45.424523",
     "status": "completed"
    },
    "tags": []
   },
   "outputs": [
    {
     "data": {
      "text/html": [
       "<div>\n",
       "<style scoped>\n",
       "    .dataframe tbody tr th:only-of-type {\n",
       "        vertical-align: middle;\n",
       "    }\n",
       "\n",
       "    .dataframe tbody tr th {\n",
       "        vertical-align: top;\n",
       "    }\n",
       "\n",
       "    .dataframe thead th {\n",
       "        text-align: right;\n",
       "    }\n",
       "</style>\n",
       "<table border=\"1\" class=\"dataframe\">\n",
       "  <thead>\n",
       "    <tr style=\"text-align: right;\">\n",
       "      <th></th>\n",
       "      <th>id</th>\n",
       "      <th>problem</th>\n",
       "      <th>answer</th>\n",
       "    </tr>\n",
       "  </thead>\n",
       "  <tbody>\n",
       "    <tr>\n",
       "      <th>0</th>\n",
       "      <td>229ee8</td>\n",
       "      <td>Let $k, l &gt; 0$ be parameters. The parabola $y ...</td>\n",
       "      <td>504</td>\n",
       "    </tr>\n",
       "    <tr>\n",
       "      <th>1</th>\n",
       "      <td>246d26</td>\n",
       "      <td>Each of the three-digits numbers $111$ to $999...</td>\n",
       "      <td>500</td>\n",
       "    </tr>\n",
       "    <tr>\n",
       "      <th>2</th>\n",
       "      <td>2fc4ad</td>\n",
       "      <td>Let the `sparkle' operation on positive intege...</td>\n",
       "      <td>156</td>\n",
       "    </tr>\n",
       "    <tr>\n",
       "      <th>3</th>\n",
       "      <td>430b63</td>\n",
       "      <td>What is the minimum value of $5x^2+5y^2-8xy$ w...</td>\n",
       "      <td>560</td>\n",
       "    </tr>\n",
       "    <tr>\n",
       "      <th>4</th>\n",
       "      <td>5277ed</td>\n",
       "      <td>There exists a unique increasing geometric seq...</td>\n",
       "      <td>310</td>\n",
       "    </tr>\n",
       "    <tr>\n",
       "      <th>5</th>\n",
       "      <td>739bc9</td>\n",
       "      <td>For how many positive integers $m$ does the eq...</td>\n",
       "      <td>100</td>\n",
       "    </tr>\n",
       "    <tr>\n",
       "      <th>6</th>\n",
       "      <td>82e2a0</td>\n",
       "      <td>Suppose that we roll four 6-sided fair dice wi...</td>\n",
       "      <td>967</td>\n",
       "    </tr>\n",
       "    <tr>\n",
       "      <th>7</th>\n",
       "      <td>8ee6f3</td>\n",
       "      <td>The points $\\left(x, y\\right)$ satisfying $((\\...</td>\n",
       "      <td>256</td>\n",
       "    </tr>\n",
       "    <tr>\n",
       "      <th>8</th>\n",
       "      <td>bedda4</td>\n",
       "      <td>Let $ABCD$ be a unit square. Let $P$ be the po...</td>\n",
       "      <td>436</td>\n",
       "    </tr>\n",
       "    <tr>\n",
       "      <th>9</th>\n",
       "      <td>d7e9c9</td>\n",
       "      <td>A function $f: \\mathbb N \\to \\mathbb N$ satisf...</td>\n",
       "      <td>100</td>\n",
       "    </tr>\n",
       "  </tbody>\n",
       "</table>\n",
       "</div>"
      ],
      "text/plain": [
       "       id                                            problem  answer\n",
       "0  229ee8  Let $k, l > 0$ be parameters. The parabola $y ...     504\n",
       "1  246d26  Each of the three-digits numbers $111$ to $999...     500\n",
       "2  2fc4ad  Let the `sparkle' operation on positive intege...     156\n",
       "3  430b63  What is the minimum value of $5x^2+5y^2-8xy$ w...     560\n",
       "4  5277ed  There exists a unique increasing geometric seq...     310\n",
       "5  739bc9  For how many positive integers $m$ does the eq...     100\n",
       "6  82e2a0  Suppose that we roll four 6-sided fair dice wi...     967\n",
       "7  8ee6f3  The points $\\left(x, y\\right)$ satisfying $((\\...     256\n",
       "8  bedda4  Let $ABCD$ be a unit square. Let $P$ be the po...     436\n",
       "9  d7e9c9  A function $f: \\mathbb N \\to \\mathbb N$ satisf...     100"
      ]
     },
     "execution_count": 16,
     "metadata": {},
     "output_type": "execute_result"
    }
   ],
   "source": [
    "df"
   ]
  },
  {
   "cell_type": "code",
   "execution_count": 17,
   "id": "a4be71a2",
   "metadata": {
    "execution": {
     "iopub.execute_input": "2024-04-08T11:39:45.507418Z",
     "iopub.status.busy": "2024-04-08T11:39:45.507146Z",
     "iopub.status.idle": "2024-04-08T11:39:45.524063Z",
     "shell.execute_reply": "2024-04-08T11:39:45.523219Z"
    },
    "papermill": {
     "duration": 0.044149,
     "end_time": "2024-04-08T11:39:45.526022",
     "exception": false,
     "start_time": "2024-04-08T11:39:45.481873",
     "status": "completed"
    },
    "tags": []
   },
   "outputs": [],
   "source": [
    "df[['id','answer']].to_csv(\"submission.csv\", header=True, index=False)"
   ]
  },
  {
   "cell_type": "code",
   "execution_count": 18,
   "id": "6daabd83",
   "metadata": {
    "execution": {
     "iopub.execute_input": "2024-04-08T11:39:45.571141Z",
     "iopub.status.busy": "2024-04-08T11:39:45.570895Z",
     "iopub.status.idle": "2024-04-08T11:39:45.579569Z",
     "shell.execute_reply": "2024-04-08T11:39:45.578701Z"
    },
    "papermill": {
     "duration": 0.033574,
     "end_time": "2024-04-08T11:39:45.581631",
     "exception": false,
     "start_time": "2024-04-08T11:39:45.548057",
     "status": "completed"
    },
    "tags": []
   },
   "outputs": [
    {
     "data": {
      "text/html": [
       "<div>\n",
       "<style scoped>\n",
       "    .dataframe tbody tr th:only-of-type {\n",
       "        vertical-align: middle;\n",
       "    }\n",
       "\n",
       "    .dataframe tbody tr th {\n",
       "        vertical-align: top;\n",
       "    }\n",
       "\n",
       "    .dataframe thead th {\n",
       "        text-align: right;\n",
       "    }\n",
       "</style>\n",
       "<table border=\"1\" class=\"dataframe\">\n",
       "  <thead>\n",
       "    <tr style=\"text-align: right;\">\n",
       "      <th></th>\n",
       "      <th>id</th>\n",
       "      <th>answer</th>\n",
       "    </tr>\n",
       "  </thead>\n",
       "  <tbody>\n",
       "    <tr>\n",
       "      <th>0</th>\n",
       "      <td>229ee8</td>\n",
       "      <td>504</td>\n",
       "    </tr>\n",
       "    <tr>\n",
       "      <th>1</th>\n",
       "      <td>246d26</td>\n",
       "      <td>500</td>\n",
       "    </tr>\n",
       "    <tr>\n",
       "      <th>2</th>\n",
       "      <td>2fc4ad</td>\n",
       "      <td>156</td>\n",
       "    </tr>\n",
       "    <tr>\n",
       "      <th>3</th>\n",
       "      <td>430b63</td>\n",
       "      <td>560</td>\n",
       "    </tr>\n",
       "    <tr>\n",
       "      <th>4</th>\n",
       "      <td>5277ed</td>\n",
       "      <td>310</td>\n",
       "    </tr>\n",
       "  </tbody>\n",
       "</table>\n",
       "</div>"
      ],
      "text/plain": [
       "       id  answer\n",
       "0  229ee8     504\n",
       "1  246d26     500\n",
       "2  2fc4ad     156\n",
       "3  430b63     560\n",
       "4  5277ed     310"
      ]
     },
     "execution_count": 18,
     "metadata": {},
     "output_type": "execute_result"
    }
   ],
   "source": [
    "df[['id','answer']].head()"
   ]
  },
  {
   "cell_type": "code",
   "execution_count": 19,
   "id": "6daae4db",
   "metadata": {
    "execution": {
     "iopub.execute_input": "2024-04-08T11:39:45.627059Z",
     "iopub.status.busy": "2024-04-08T11:39:45.626790Z",
     "iopub.status.idle": "2024-04-08T11:39:45.635136Z",
     "shell.execute_reply": "2024-04-08T11:39:45.634368Z"
    },
    "papermill": {
     "duration": 0.032922,
     "end_time": "2024-04-08T11:39:45.636919",
     "exception": false,
     "start_time": "2024-04-08T11:39:45.603997",
     "status": "completed"
    },
    "tags": []
   },
   "outputs": [
    {
     "name": "stdout",
     "output_type": "stream",
     "text": [
      "0 matches in 10 examples\n"
     ]
    }
   ],
   "source": [
    "if not PRIVATE:\n",
    "    df = pd.read_csv('/kaggle/input/ai-mathematical-olympiad-prize/train.csv')\n",
    "    df['model_answer'] = final_answers\n",
    "    df['match'] = df.answer == df.model_answer\n",
    "    print(f'{df.match.sum()} matches in {len(df)} examples')"
   ]
  },
  {
   "cell_type": "code",
   "execution_count": null,
   "id": "ead8172d",
   "metadata": {
    "papermill": {
     "duration": 0.021685,
     "end_time": "2024-04-08T11:39:45.680652",
     "exception": false,
     "start_time": "2024-04-08T11:39:45.658967",
     "status": "completed"
    },
    "tags": []
   },
   "outputs": [],
   "source": []
  }
 ],
 "metadata": {
  "kaggle": {
   "accelerator": "nvidiaTeslaT4",
   "dataSources": [
    {
     "databundleVersionId": 8133715,
     "sourceId": 73231,
     "sourceType": "competition"
    },
    {
     "datasetId": 4281572,
     "sourceId": 7369493,
     "sourceType": "datasetVersion"
    },
    {
     "datasetId": 4720595,
     "sourceId": 8012825,
     "sourceType": "datasetVersion"
    },
    {
     "datasetId": 4728129,
     "sourceId": 8023365,
     "sourceType": "datasetVersion"
    },
    {
     "modelInstanceId": 3900,
     "sourceId": 5112,
     "sourceType": "modelInstanceVersion"
    },
    {
     "modelInstanceId": 4761,
     "sourceId": 5994,
     "sourceType": "modelInstanceVersion"
    },
    {
     "modelInstanceId": 8318,
     "sourceId": 11382,
     "sourceType": "modelInstanceVersion"
    },
    {
     "modelInstanceId": 8332,
     "sourceId": 11394,
     "sourceType": "modelInstanceVersion"
    }
   ],
   "dockerImageVersionId": 30674,
   "isGpuEnabled": true,
   "isInternetEnabled": false,
   "language": "python",
   "sourceType": "notebook"
  },
  "kernelspec": {
   "display_name": "Python 3",
   "language": "python",
   "name": "python3"
  },
  "language_info": {
   "codemirror_mode": {
    "name": "ipython",
    "version": 3
   },
   "file_extension": ".py",
   "mimetype": "text/x-python",
   "name": "python",
   "nbconvert_exporter": "python",
   "pygments_lexer": "ipython3",
   "version": "3.10.13"
  },
  "papermill": {
   "default_parameters": {},
   "duration": 2094.20747,
   "end_time": "2024-04-08T11:39:48.917703",
   "environment_variables": {},
   "exception": null,
   "input_path": "__notebook__.ipynb",
   "output_path": "__notebook__.ipynb",
   "parameters": {},
   "start_time": "2024-04-08T11:04:54.710233",
   "version": "2.5.0"
  },
  "widgets": {
   "application/vnd.jupyter.widget-state+json": {
    "state": {
     "3a96147fd1b243da9eb822c6e8d4efa1": {
      "model_module": "@jupyter-widgets/base",
      "model_module_version": "1.2.0",
      "model_name": "LayoutModel",
      "state": {
       "_model_module": "@jupyter-widgets/base",
       "_model_module_version": "1.2.0",
       "_model_name": "LayoutModel",
       "_view_count": null,
       "_view_module": "@jupyter-widgets/base",
       "_view_module_version": "1.2.0",
       "_view_name": "LayoutView",
       "align_content": null,
       "align_items": null,
       "align_self": null,
       "border": null,
       "bottom": null,
       "display": null,
       "flex": null,
       "flex_flow": null,
       "grid_area": null,
       "grid_auto_columns": null,
       "grid_auto_flow": null,
       "grid_auto_rows": null,
       "grid_column": null,
       "grid_gap": null,
       "grid_row": null,
       "grid_template_areas": null,
       "grid_template_columns": null,
       "grid_template_rows": null,
       "height": null,
       "justify_content": null,
       "justify_items": null,
       "left": null,
       "margin": null,
       "max_height": null,
       "max_width": null,
       "min_height": null,
       "min_width": null,
       "object_fit": null,
       "object_position": null,
       "order": null,
       "overflow": null,
       "overflow_x": null,
       "overflow_y": null,
       "padding": null,
       "right": null,
       "top": null,
       "visibility": null,
       "width": null
      }
     },
     "464af44086124aba83b744a27e1498e0": {
      "model_module": "@jupyter-widgets/controls",
      "model_module_version": "1.5.0",
      "model_name": "ProgressStyleModel",
      "state": {
       "_model_module": "@jupyter-widgets/controls",
       "_model_module_version": "1.5.0",
       "_model_name": "ProgressStyleModel",
       "_view_count": null,
       "_view_module": "@jupyter-widgets/base",
       "_view_module_version": "1.2.0",
       "_view_name": "StyleView",
       "bar_color": null,
       "description_width": ""
      }
     },
     "50f30d489e564eb4b430e7af1a380dca": {
      "model_module": "@jupyter-widgets/base",
      "model_module_version": "1.2.0",
      "model_name": "LayoutModel",
      "state": {
       "_model_module": "@jupyter-widgets/base",
       "_model_module_version": "1.2.0",
       "_model_name": "LayoutModel",
       "_view_count": null,
       "_view_module": "@jupyter-widgets/base",
       "_view_module_version": "1.2.0",
       "_view_name": "LayoutView",
       "align_content": null,
       "align_items": null,
       "align_self": null,
       "border": null,
       "bottom": null,
       "display": null,
       "flex": null,
       "flex_flow": null,
       "grid_area": null,
       "grid_auto_columns": null,
       "grid_auto_flow": null,
       "grid_auto_rows": null,
       "grid_column": null,
       "grid_gap": null,
       "grid_row": null,
       "grid_template_areas": null,
       "grid_template_columns": null,
       "grid_template_rows": null,
       "height": null,
       "justify_content": null,
       "justify_items": null,
       "left": null,
       "margin": null,
       "max_height": null,
       "max_width": null,
       "min_height": null,
       "min_width": null,
       "object_fit": null,
       "object_position": null,
       "order": null,
       "overflow": null,
       "overflow_x": null,
       "overflow_y": null,
       "padding": null,
       "right": null,
       "top": null,
       "visibility": null,
       "width": null
      }
     },
     "57b49ce7bcb843c0a5aca89c7d857002": {
      "model_module": "@jupyter-widgets/base",
      "model_module_version": "1.2.0",
      "model_name": "LayoutModel",
      "state": {
       "_model_module": "@jupyter-widgets/base",
       "_model_module_version": "1.2.0",
       "_model_name": "LayoutModel",
       "_view_count": null,
       "_view_module": "@jupyter-widgets/base",
       "_view_module_version": "1.2.0",
       "_view_name": "LayoutView",
       "align_content": null,
       "align_items": null,
       "align_self": null,
       "border": null,
       "bottom": null,
       "display": null,
       "flex": null,
       "flex_flow": null,
       "grid_area": null,
       "grid_auto_columns": null,
       "grid_auto_flow": null,
       "grid_auto_rows": null,
       "grid_column": null,
       "grid_gap": null,
       "grid_row": null,
       "grid_template_areas": null,
       "grid_template_columns": null,
       "grid_template_rows": null,
       "height": null,
       "justify_content": null,
       "justify_items": null,
       "left": null,
       "margin": null,
       "max_height": null,
       "max_width": null,
       "min_height": null,
       "min_width": null,
       "object_fit": null,
       "object_position": null,
       "order": null,
       "overflow": null,
       "overflow_x": null,
       "overflow_y": null,
       "padding": null,
       "right": null,
       "top": null,
       "visibility": null,
       "width": null
      }
     },
     "67680b2080224eddacf5d73837c3dfba": {
      "model_module": "@jupyter-widgets/controls",
      "model_module_version": "1.5.0",
      "model_name": "HTMLModel",
      "state": {
       "_dom_classes": [],
       "_model_module": "@jupyter-widgets/controls",
       "_model_module_version": "1.5.0",
       "_model_name": "HTMLModel",
       "_view_count": null,
       "_view_module": "@jupyter-widgets/controls",
       "_view_module_version": "1.5.0",
       "_view_name": "HTMLView",
       "description": "",
       "description_tooltip": null,
       "layout": "IPY_MODEL_57b49ce7bcb843c0a5aca89c7d857002",
       "placeholder": "​",
       "style": "IPY_MODEL_a4dd3345f1d446578ad769570c26f30a",
       "value": " 3/3 [02:57&lt;00:00, 57.56s/it]"
      }
     },
     "783d28c4e1b54dfcb34bbe6df4d1d1df": {
      "model_module": "@jupyter-widgets/controls",
      "model_module_version": "1.5.0",
      "model_name": "HTMLModel",
      "state": {
       "_dom_classes": [],
       "_model_module": "@jupyter-widgets/controls",
       "_model_module_version": "1.5.0",
       "_model_name": "HTMLModel",
       "_view_count": null,
       "_view_module": "@jupyter-widgets/controls",
       "_view_module_version": "1.5.0",
       "_view_name": "HTMLView",
       "description": "",
       "description_tooltip": null,
       "layout": "IPY_MODEL_3a96147fd1b243da9eb822c6e8d4efa1",
       "placeholder": "​",
       "style": "IPY_MODEL_a6b7d88ed2934c63b05f47bf96498484",
       "value": "Loading checkpoint shards: 100%"
      }
     },
     "a4dd3345f1d446578ad769570c26f30a": {
      "model_module": "@jupyter-widgets/controls",
      "model_module_version": "1.5.0",
      "model_name": "DescriptionStyleModel",
      "state": {
       "_model_module": "@jupyter-widgets/controls",
       "_model_module_version": "1.5.0",
       "_model_name": "DescriptionStyleModel",
       "_view_count": null,
       "_view_module": "@jupyter-widgets/base",
       "_view_module_version": "1.2.0",
       "_view_name": "StyleView",
       "description_width": ""
      }
     },
     "a6b7d88ed2934c63b05f47bf96498484": {
      "model_module": "@jupyter-widgets/controls",
      "model_module_version": "1.5.0",
      "model_name": "DescriptionStyleModel",
      "state": {
       "_model_module": "@jupyter-widgets/controls",
       "_model_module_version": "1.5.0",
       "_model_name": "DescriptionStyleModel",
       "_view_count": null,
       "_view_module": "@jupyter-widgets/base",
       "_view_module_version": "1.2.0",
       "_view_name": "StyleView",
       "description_width": ""
      }
     },
     "d44b1065c98043ca913f0eed680df40e": {
      "model_module": "@jupyter-widgets/controls",
      "model_module_version": "1.5.0",
      "model_name": "FloatProgressModel",
      "state": {
       "_dom_classes": [],
       "_model_module": "@jupyter-widgets/controls",
       "_model_module_version": "1.5.0",
       "_model_name": "FloatProgressModel",
       "_view_count": null,
       "_view_module": "@jupyter-widgets/controls",
       "_view_module_version": "1.5.0",
       "_view_name": "ProgressView",
       "bar_style": "success",
       "description": "",
       "description_tooltip": null,
       "layout": "IPY_MODEL_50f30d489e564eb4b430e7af1a380dca",
       "max": 3.0,
       "min": 0.0,
       "orientation": "horizontal",
       "style": "IPY_MODEL_464af44086124aba83b744a27e1498e0",
       "value": 3.0
      }
     },
     "e73b2f7c64e14a099d0bb8caa8a035f9": {
      "model_module": "@jupyter-widgets/controls",
      "model_module_version": "1.5.0",
      "model_name": "HBoxModel",
      "state": {
       "_dom_classes": [],
       "_model_module": "@jupyter-widgets/controls",
       "_model_module_version": "1.5.0",
       "_model_name": "HBoxModel",
       "_view_count": null,
       "_view_module": "@jupyter-widgets/controls",
       "_view_module_version": "1.5.0",
       "_view_name": "HBoxView",
       "box_style": "",
       "children": [
        "IPY_MODEL_783d28c4e1b54dfcb34bbe6df4d1d1df",
        "IPY_MODEL_d44b1065c98043ca913f0eed680df40e",
        "IPY_MODEL_67680b2080224eddacf5d73837c3dfba"
       ],
       "layout": "IPY_MODEL_f4ef55834f71485d9f6e45789dd02634"
      }
     },
     "f4ef55834f71485d9f6e45789dd02634": {
      "model_module": "@jupyter-widgets/base",
      "model_module_version": "1.2.0",
      "model_name": "LayoutModel",
      "state": {
       "_model_module": "@jupyter-widgets/base",
       "_model_module_version": "1.2.0",
       "_model_name": "LayoutModel",
       "_view_count": null,
       "_view_module": "@jupyter-widgets/base",
       "_view_module_version": "1.2.0",
       "_view_name": "LayoutView",
       "align_content": null,
       "align_items": null,
       "align_self": null,
       "border": null,
       "bottom": null,
       "display": null,
       "flex": null,
       "flex_flow": null,
       "grid_area": null,
       "grid_auto_columns": null,
       "grid_auto_flow": null,
       "grid_auto_rows": null,
       "grid_column": null,
       "grid_gap": null,
       "grid_row": null,
       "grid_template_areas": null,
       "grid_template_columns": null,
       "grid_template_rows": null,
       "height": null,
       "justify_content": null,
       "justify_items": null,
       "left": null,
       "margin": null,
       "max_height": null,
       "max_width": null,
       "min_height": null,
       "min_width": null,
       "object_fit": null,
       "object_position": null,
       "order": null,
       "overflow": null,
       "overflow_x": null,
       "overflow_y": null,
       "padding": null,
       "right": null,
       "top": null,
       "visibility": null,
       "width": null
      }
     }
    },
    "version_major": 2,
    "version_minor": 0
   }
  }
 },
 "nbformat": 4,
 "nbformat_minor": 5
}
