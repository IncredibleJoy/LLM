{
 "cells": [
  {
   "cell_type": "code",
   "execution_count": 1,
   "id": "16b48c1c",
   "metadata": {
    "execution": {
     "iopub.execute_input": "2024-04-13T05:10:35.688671Z",
     "iopub.status.busy": "2024-04-13T05:10:35.687651Z",
     "iopub.status.idle": "2024-04-13T05:10:35.692886Z",
     "shell.execute_reply": "2024-04-13T05:10:35.692104Z"
    },
    "papermill": {
     "duration": 0.017971,
     "end_time": "2024-04-13T05:10:35.694725",
     "exception": false,
     "start_time": "2024-04-13T05:10:35.676754",
     "status": "completed"
    },
    "tags": []
   },
   "outputs": [],
   "source": [
    "# credits:\n",
    "# https://www.kaggle.com/code/olyatsimboy/aimo-openmath-mistral-baseline\n",
    "# https://www.kaggle.com/code/aatiffraz/prompt-prediction-w-mixtral-mistral7b-gemma-llama\n",
    "# https://www.kaggle.com/code/thedrcat/aimo-mixtral-baseline"
   ]
  },
  {
   "cell_type": "markdown",
   "id": "c8b42e0d",
   "metadata": {
    "papermill": {
     "duration": 0.009377,
     "end_time": "2024-04-13T05:10:35.712921",
     "exception": false,
     "start_time": "2024-04-13T05:10:35.703544",
     "status": "completed"
    },
    "tags": []
   },
   "source": [
    "# Zero-shot MMOS-DeepSeekMath-7B with self-consistency and generated code reasoning evaluation\n",
    "\n",
    "Self-consistency is a modification of the standard greedy decoding in reasoning pipelines via sampling several diverse answers followed by aggregation, e.g., most common answer ([SC-CoT paper](https://arxiv.org/pdf/2203.11171.pdf)).\n",
    "\n",
    "In this kernel, we will consider MMOS-DeepSeekMath-7B RL-tuned backbone; in my experiments, this model produces more consistent code reasoning and the code block execution will allow us to decrease arithmetic hallucinations."
   ]
  },
  {
   "cell_type": "code",
   "execution_count": 2,
   "id": "70429c70",
   "metadata": {
    "execution": {
     "iopub.execute_input": "2024-04-13T05:10:35.733065Z",
     "iopub.status.busy": "2024-04-13T05:10:35.732325Z",
     "iopub.status.idle": "2024-04-13T05:11:15.329206Z",
     "shell.execute_reply": "2024-04-13T05:11:15.327943Z"
    },
    "papermill": {
     "duration": 39.609719,
     "end_time": "2024-04-13T05:11:15.331791",
     "exception": false,
     "start_time": "2024-04-13T05:10:35.722072",
     "status": "completed"
    },
    "tags": []
   },
   "outputs": [],
   "source": [
    "!pip install -U /kaggle/input/bitsandbytes-0-42-0-py3-none-any-whl/bitsandbytes-0.42.0-py3-none-any.whl -qq"
   ]
  },
  {
   "cell_type": "code",
   "execution_count": 3,
   "id": "d12f1228",
   "metadata": {
    "execution": {
     "iopub.execute_input": "2024-04-13T05:11:15.352348Z",
     "iopub.status.busy": "2024-04-13T05:11:15.351953Z",
     "iopub.status.idle": "2024-04-13T05:15:19.533162Z",
     "shell.execute_reply": "2024-04-13T05:15:19.532259Z"
    },
    "papermill": {
     "duration": 244.194315,
     "end_time": "2024-04-13T05:15:19.535750",
     "exception": false,
     "start_time": "2024-04-13T05:11:15.341435",
     "status": "completed"
    },
    "tags": []
   },
   "outputs": [
    {
     "name": "stderr",
     "output_type": "stream",
     "text": [
      "2024-04-13 05:11:23.452225: E external/local_xla/xla/stream_executor/cuda/cuda_dnn.cc:9261] Unable to register cuDNN factory: Attempting to register factory for plugin cuDNN when one has already been registered\n",
      "2024-04-13 05:11:23.452361: E external/local_xla/xla/stream_executor/cuda/cuda_fft.cc:607] Unable to register cuFFT factory: Attempting to register factory for plugin cuFFT when one has already been registered\n",
      "2024-04-13 05:11:23.585056: E external/local_xla/xla/stream_executor/cuda/cuda_blas.cc:1515] Unable to register cuBLAS factory: Attempting to register factory for plugin cuBLAS when one has already been registered\n",
      "Special tokens have been added in the vocabulary, make sure the associated word embeddings are fine-tuned or trained.\n"
     ]
    },
    {
     "data": {
      "application/vnd.jupyter.widget-view+json": {
       "model_id": "9b57c8996bd043daae2cb0ecfac461d8",
       "version_major": 2,
       "version_minor": 0
      },
      "text/plain": [
       "Loading checkpoint shards:   0%|          | 0/3 [00:00<?, ?it/s]"
      ]
     },
     "metadata": {},
     "output_type": "display_data"
    }
   ],
   "source": [
    "import torch\n",
    "from transformers import (\n",
    "    AutoModelForCausalLM, \n",
    "    AutoTokenizer, \n",
    "    BitsAndBytesConfig, \n",
    "    AutoConfig,\n",
    "    set_seed\n",
    ")\n",
    "\n",
    "set_seed(42)\n",
    "\n",
    "MODEL_PATH = \"/kaggle/input/deepseek-math\"\n",
    "\n",
    "quantization_config = BitsAndBytesConfig(\n",
    "    load_in_4bit = True,\n",
    "    bnb_4bit_quant_type=\"nf4\",\n",
    "    bnb_4bit_compute_dtype=torch.bfloat16,\n",
    "    bnb_4bit_use_double_quant=True,\n",
    ")\n",
    "\n",
    "config = AutoConfig.from_pretrained(MODEL_PATH)\n",
    "config.gradient_checkpointing = True\n",
    "\n",
    "\n",
    "tokenizer = AutoTokenizer.from_pretrained(MODEL_PATH)\n",
    "\n",
    "model = AutoModelForCausalLM.from_pretrained(\n",
    "    MODEL_PATH,\n",
    "    device_map=\"auto\",\n",
    "    torch_dtype=\"auto\",\n",
    "    trust_remote_code=True,\n",
    "#     quantization_config=quantization_config,\n",
    "    config=config\n",
    ")"
   ]
  },
  {
   "cell_type": "code",
   "execution_count": 4,
   "id": "6458e291",
   "metadata": {
    "execution": {
     "iopub.execute_input": "2024-04-13T05:15:19.557995Z",
     "iopub.status.busy": "2024-04-13T05:15:19.557259Z",
     "iopub.status.idle": "2024-04-13T05:15:19.564807Z",
     "shell.execute_reply": "2024-04-13T05:15:19.563757Z"
    },
    "papermill": {
     "duration": 0.021277,
     "end_time": "2024-04-13T05:15:19.567350",
     "exception": false,
     "start_time": "2024-04-13T05:15:19.546073",
     "status": "completed"
    },
    "tags": []
   },
   "outputs": [
    {
     "data": {
      "text/plain": [
       "torch.bfloat16"
      ]
     },
     "execution_count": 4,
     "metadata": {},
     "output_type": "execute_result"
    }
   ],
   "source": [
    "model.dtype"
   ]
  },
  {
   "cell_type": "code",
   "execution_count": 5,
   "id": "c445f7d0",
   "metadata": {
    "execution": {
     "iopub.execute_input": "2024-04-13T05:15:19.588392Z",
     "iopub.status.busy": "2024-04-13T05:15:19.588041Z",
     "iopub.status.idle": "2024-04-13T05:15:19.614138Z",
     "shell.execute_reply": "2024-04-13T05:15:19.613215Z"
    },
    "papermill": {
     "duration": 0.039238,
     "end_time": "2024-04-13T05:15:19.616520",
     "exception": false,
     "start_time": "2024-04-13T05:15:19.577282",
     "status": "completed"
    },
    "tags": []
   },
   "outputs": [
    {
     "data": {
      "text/html": [
       "<div>\n",
       "<style scoped>\n",
       "    .dataframe tbody tr th:only-of-type {\n",
       "        vertical-align: middle;\n",
       "    }\n",
       "\n",
       "    .dataframe tbody tr th {\n",
       "        vertical-align: top;\n",
       "    }\n",
       "\n",
       "    .dataframe thead th {\n",
       "        text-align: right;\n",
       "    }\n",
       "</style>\n",
       "<table border=\"1\" class=\"dataframe\">\n",
       "  <thead>\n",
       "    <tr style=\"text-align: right;\">\n",
       "      <th></th>\n",
       "      <th>id</th>\n",
       "      <th>problem</th>\n",
       "    </tr>\n",
       "  </thead>\n",
       "  <tbody>\n",
       "    <tr>\n",
       "      <th>0</th>\n",
       "      <td>000aaa</td>\n",
       "      <td>What is $1-1$?</td>\n",
       "    </tr>\n",
       "    <tr>\n",
       "      <th>1</th>\n",
       "      <td>111bbb</td>\n",
       "      <td>What is $0\\times10$?</td>\n",
       "    </tr>\n",
       "    <tr>\n",
       "      <th>2</th>\n",
       "      <td>222ccc</td>\n",
       "      <td>Solve $4+x=4$ for $x$.</td>\n",
       "    </tr>\n",
       "  </tbody>\n",
       "</table>\n",
       "</div>"
      ],
      "text/plain": [
       "       id                 problem\n",
       "0  000aaa          What is $1-1$?\n",
       "1  111bbb    What is $0\\times10$?\n",
       "2  222ccc  Solve $4+x=4$ for $x$."
      ]
     },
     "execution_count": 5,
     "metadata": {},
     "output_type": "execute_result"
    }
   ],
   "source": [
    "import pandas as pd\n",
    "from tqdm import tqdm\n",
    "PRIVATE = True\n",
    "\n",
    "df = pd.read_csv('/kaggle/input/ai-mathematical-olympiad-prize/test.csv')\n",
    "df.head()"
   ]
  },
  {
   "cell_type": "code",
   "execution_count": 6,
   "id": "c2caf33c",
   "metadata": {
    "execution": {
     "iopub.execute_input": "2024-04-13T05:15:19.638152Z",
     "iopub.status.busy": "2024-04-13T05:15:19.637854Z",
     "iopub.status.idle": "2024-04-13T05:15:19.654643Z",
     "shell.execute_reply": "2024-04-13T05:15:19.653646Z"
    },
    "papermill": {
     "duration": 0.030219,
     "end_time": "2024-04-13T05:15:19.657069",
     "exception": false,
     "start_time": "2024-04-13T05:15:19.626850",
     "status": "completed"
    },
    "tags": []
   },
   "outputs": [
    {
     "data": {
      "text/html": [
       "<div>\n",
       "<style scoped>\n",
       "    .dataframe tbody tr th:only-of-type {\n",
       "        vertical-align: middle;\n",
       "    }\n",
       "\n",
       "    .dataframe tbody tr th {\n",
       "        vertical-align: top;\n",
       "    }\n",
       "\n",
       "    .dataframe thead th {\n",
       "        text-align: right;\n",
       "    }\n",
       "</style>\n",
       "<table border=\"1\" class=\"dataframe\">\n",
       "  <thead>\n",
       "    <tr style=\"text-align: right;\">\n",
       "      <th></th>\n",
       "      <th>id</th>\n",
       "      <th>problem</th>\n",
       "      <th>answer</th>\n",
       "    </tr>\n",
       "  </thead>\n",
       "  <tbody>\n",
       "    <tr>\n",
       "      <th>0</th>\n",
       "      <td>229ee8</td>\n",
       "      <td>Let $k, l &gt; 0$ be parameters. The parabola $y ...</td>\n",
       "      <td>52</td>\n",
       "    </tr>\n",
       "    <tr>\n",
       "      <th>1</th>\n",
       "      <td>246d26</td>\n",
       "      <td>Each of the three-digits numbers $111$ to $999...</td>\n",
       "      <td>250</td>\n",
       "    </tr>\n",
       "    <tr>\n",
       "      <th>2</th>\n",
       "      <td>2fc4ad</td>\n",
       "      <td>Let the `sparkle' operation on positive intege...</td>\n",
       "      <td>702</td>\n",
       "    </tr>\n",
       "    <tr>\n",
       "      <th>3</th>\n",
       "      <td>430b63</td>\n",
       "      <td>What is the minimum value of $5x^2+5y^2-8xy$ w...</td>\n",
       "      <td>800</td>\n",
       "    </tr>\n",
       "    <tr>\n",
       "      <th>4</th>\n",
       "      <td>5277ed</td>\n",
       "      <td>There exists a unique increasing geometric seq...</td>\n",
       "      <td>211</td>\n",
       "    </tr>\n",
       "  </tbody>\n",
       "</table>\n",
       "</div>"
      ],
      "text/plain": [
       "       id                                            problem  answer\n",
       "0  229ee8  Let $k, l > 0$ be parameters. The parabola $y ...      52\n",
       "1  246d26  Each of the three-digits numbers $111$ to $999...     250\n",
       "2  2fc4ad  Let the `sparkle' operation on positive intege...     702\n",
       "3  430b63  What is the minimum value of $5x^2+5y^2-8xy$ w...     800\n",
       "4  5277ed  There exists a unique increasing geometric seq...     211"
      ]
     },
     "execution_count": 6,
     "metadata": {},
     "output_type": "execute_result"
    }
   ],
   "source": [
    "if len(df) < 5:\n",
    "    df = pd.read_csv('/kaggle/input/ai-mathematical-olympiad-prize/train.csv')\n",
    "    PRIVATE = False\n",
    "df.head()"
   ]
  },
  {
   "cell_type": "code",
   "execution_count": 7,
   "id": "7a5dcb3c",
   "metadata": {
    "execution": {
     "iopub.execute_input": "2024-04-13T05:15:19.680454Z",
     "iopub.status.busy": "2024-04-13T05:15:19.680135Z",
     "iopub.status.idle": "2024-04-13T05:15:19.687590Z",
     "shell.execute_reply": "2024-04-13T05:15:19.684466Z"
    },
    "papermill": {
     "duration": 0.021133,
     "end_time": "2024-04-13T05:15:19.689746",
     "exception": false,
     "start_time": "2024-04-13T05:15:19.668613",
     "status": "completed"
    },
    "tags": []
   },
   "outputs": [],
   "source": [
    "import gc\n",
    "device = 'cuda'"
   ]
  },
  {
   "cell_type": "code",
   "execution_count": 8,
   "id": "befb7e54",
   "metadata": {
    "execution": {
     "iopub.execute_input": "2024-04-13T05:15:19.711727Z",
     "iopub.status.busy": "2024-04-13T05:15:19.711428Z",
     "iopub.status.idle": "2024-04-13T05:15:19.717297Z",
     "shell.execute_reply": "2024-04-13T05:15:19.716343Z"
    },
    "papermill": {
     "duration": 0.019435,
     "end_time": "2024-04-13T05:15:19.719248",
     "exception": false,
     "start_time": "2024-04-13T05:15:19.699813",
     "status": "completed"
    },
    "tags": []
   },
   "outputs": [],
   "source": [
    "def naive_parse(answer):\n",
    "    out = []\n",
    "    start = False\n",
    "    end = False\n",
    "    for l in reversed(list(answer)):\n",
    "        if l in '0123456789' and not end:\n",
    "            start = True\n",
    "            out.append(l)\n",
    "        else:\n",
    "            if start:\n",
    "                end = True\n",
    "        \n",
    "    out = reversed(out)\n",
    "    return ''.join(out)"
   ]
  },
  {
   "cell_type": "code",
   "execution_count": 9,
   "id": "194e1233",
   "metadata": {
    "execution": {
     "iopub.execute_input": "2024-04-13T05:15:19.743784Z",
     "iopub.status.busy": "2024-04-13T05:15:19.743261Z",
     "iopub.status.idle": "2024-04-13T05:15:22.175620Z",
     "shell.execute_reply": "2024-04-13T05:15:22.174271Z"
    },
    "papermill": {
     "duration": 2.449158,
     "end_time": "2024-04-13T05:15:22.178381",
     "exception": false,
     "start_time": "2024-04-13T05:15:19.729223",
     "status": "completed"
    },
    "tags": []
   },
   "outputs": [],
   "source": [
    "import transformers\n",
    "\n",
    "pipeline = transformers.pipeline(\n",
    "    \"text-generation\",\n",
    "    model=model,\n",
    "    tokenizer=tokenizer,\n",
    "    torch_dtype='auto',\n",
    "    device_map=\"auto\",\n",
    ")"
   ]
  },
  {
   "cell_type": "code",
   "execution_count": 10,
   "id": "61ce47ef",
   "metadata": {
    "execution": {
     "iopub.execute_input": "2024-04-13T05:15:22.201764Z",
     "iopub.status.busy": "2024-04-13T05:15:22.201044Z",
     "iopub.status.idle": "2024-04-13T05:15:22.206585Z",
     "shell.execute_reply": "2024-04-13T05:15:22.205592Z"
    },
    "papermill": {
     "duration": 0.01934,
     "end_time": "2024-04-13T05:15:22.208902",
     "exception": false,
     "start_time": "2024-04-13T05:15:22.189562",
     "status": "completed"
    },
    "tags": []
   },
   "outputs": [
    {
     "name": "stdout",
     "output_type": "stream",
     "text": [
      "Transformers Version: 4.38.2\n"
     ]
    }
   ],
   "source": [
    "print(f\"Transformers Version: {transformers.__version__}\")"
   ]
  },
  {
   "cell_type": "code",
   "execution_count": 11,
   "id": "f18ef9b5",
   "metadata": {
    "execution": {
     "iopub.execute_input": "2024-04-13T05:15:22.232074Z",
     "iopub.status.busy": "2024-04-13T05:15:22.231797Z",
     "iopub.status.idle": "2024-04-13T05:15:22.236478Z",
     "shell.execute_reply": "2024-04-13T05:15:22.235503Z"
    },
    "papermill": {
     "duration": 0.018562,
     "end_time": "2024-04-13T05:15:22.238682",
     "exception": false,
     "start_time": "2024-04-13T05:15:22.220120",
     "status": "completed"
    },
    "tags": []
   },
   "outputs": [],
   "source": [
    "import torch\n",
    "\n",
    "torch.backends.cuda.enable_mem_efficient_sdp(False)"
   ]
  },
  {
   "cell_type": "code",
   "execution_count": 12,
   "id": "9ee7ba22",
   "metadata": {
    "execution": {
     "iopub.execute_input": "2024-04-13T05:15:22.262476Z",
     "iopub.status.busy": "2024-04-13T05:15:22.262106Z",
     "iopub.status.idle": "2024-04-13T05:15:22.275302Z",
     "shell.execute_reply": "2024-04-13T05:15:22.274218Z"
    },
    "papermill": {
     "duration": 0.02753,
     "end_time": "2024-04-13T05:15:22.277525",
     "exception": false,
     "start_time": "2024-04-13T05:15:22.249995",
     "status": "completed"
    },
    "tags": []
   },
   "outputs": [],
   "source": [
    "import re\n",
    "import sys\n",
    "import subprocess\n",
    "\n",
    "\n",
    "def process_output(output):\n",
    "    result = output\n",
    "    \n",
    "    try:\n",
    "        code = output.split('```')[1][7:]\n",
    "\n",
    "        with open('code.py', 'w') as fout:\n",
    "            fout.write(code)\n",
    "\n",
    "        batcmd = 'timeout 7 ' + sys.executable + ' code.py'\n",
    "        try:\n",
    "            shell_output = subprocess.check_output(batcmd, shell=True).decode('utf8')\n",
    "            print(shell_output)\n",
    "            code_output = round(float(eval(shell_output))) % 1000\n",
    "        except:\n",
    "            code_output = -1\n",
    "\n",
    "        print('CODE RESULTS', code_output)\n",
    "    \n",
    "    except Exception as e:\n",
    "        print(e)\n",
    "        print('ERROR PARSING')\n",
    "        code_output = -1\n",
    "    \n",
    "    try:\n",
    "        result_output = re.findall(r'\\\\boxed\\{(.*)\\}', result)\n",
    "\n",
    "        print('BOXED', result_output)\n",
    "        if not len(result_output):\n",
    "            result_output = naive_parse(result)\n",
    "        else:\n",
    "            result_output = result_output[-1]\n",
    "\n",
    "        print('BOXED', result_output)\n",
    "        if not len(result_output):\n",
    "            result_output = -1\n",
    "        \n",
    "        else:\n",
    "            result_output = round(float(eval(result_output))) % 1000\n",
    "    \n",
    "    except Exception as e:\n",
    "        print(e)\n",
    "        print('ERROR PARSING')\n",
    "        result_output = -1\n",
    "    \n",
    "    return result_output, code_output"
   ]
  },
  {
   "cell_type": "code",
   "execution_count": 13,
   "id": "bc34dc5a",
   "metadata": {
    "_kg_hide-output": true,
    "execution": {
     "iopub.execute_input": "2024-04-13T05:15:22.300777Z",
     "iopub.status.busy": "2024-04-13T05:15:22.300456Z",
     "iopub.status.idle": "2024-04-13T05:42:25.273254Z",
     "shell.execute_reply": "2024-04-13T05:42:25.272194Z"
    },
    "papermill": {
     "duration": 1623.01122,
     "end_time": "2024-04-13T05:42:25.299730",
     "exception": false,
     "start_time": "2024-04-13T05:15:22.288510",
     "status": "completed"
    },
    "scrolled": true,
    "tags": []
   },
   "outputs": [
    {
     "name": "stderr",
     "output_type": "stream",
     "text": [
      "  0%|          | 0/10 [00:00<?, ?it/s]\n",
      "  0%|          | 0/2 [00:00<?, ?it/s]\u001b[ASetting `pad_token_id` to `eos_token_id`:100001 for open-end generation.\n"
     ]
    },
    {
     "name": "stdout",
     "output_type": "stream",
     "text": [
      "77/2\n",
      "\n",
      "CODE RESULTS 38\n",
      "BOXED ['988']\n",
      "BOXED 988\n"
     ]
    },
    {
     "name": "stderr",
     "output_type": "stream",
     "text": [
      "\n",
      " 50%|█████     | 1/2 [01:33<01:33, 93.12s/it]\u001b[ASetting `pad_token_id` to `eos_token_id`:100001 for open-end generation.\n"
     ]
    },
    {
     "name": "stdout",
     "output_type": "stream",
     "text": [
      "36\n",
      "\n",
      "CODE RESULTS 36\n",
      "BOXED ['36']\n",
      "BOXED 36\n"
     ]
    },
    {
     "name": "stderr",
     "output_type": "stream",
     "text": [
      "\n",
      "100%|██████████| 2/2 [03:47<00:00, 113.91s/it]\n",
      " 10%|█         | 1/10 [03:47<34:10, 227.82s/it]\n",
      "  0%|          | 0/2 [00:00<?, ?it/s]\u001b[ASetting `pad_token_id` to `eos_token_id`:100001 for open-end generation.\n"
     ]
    },
    {
     "name": "stdout",
     "output_type": "stream",
     "text": [
      "0\n",
      "\n",
      "CODE RESULTS 0\n",
      "BOXED ['10']\n",
      "BOXED 10\n"
     ]
    },
    {
     "name": "stderr",
     "output_type": "stream",
     "text": [
      "\n",
      " 50%|█████     | 1/2 [02:24<02:24, 144.64s/it]\u001b[ASetting `pad_token_id` to `eos_token_id`:100001 for open-end generation.\n"
     ]
    },
    {
     "name": "stdout",
     "output_type": "stream",
     "text": [
      "list index out of range\n",
      "ERROR PARSING\n",
      "BOXED ['499}$. This means that the maximum possible number of yellow numbers there can be is 499. The answer is $\\\\boxed{499']\n",
      "BOXED 499}$. This means that the maximum possible number of yellow numbers there can be is 499. The answer is $\\boxed{499\n",
      "unmatched '}' (<string>, line 1)\n",
      "ERROR PARSING\n"
     ]
    },
    {
     "name": "stderr",
     "output_type": "stream",
     "text": [
      "\n",
      "100%|██████████| 2/2 [03:29<00:00, 104.77s/it]\n",
      " 20%|██        | 2/10 [07:17<28:56, 217.07s/it]\n",
      "  0%|          | 0/2 [00:00<?, ?it/s]\u001b[ASetting `pad_token_id` to `eos_token_id`:100001 for open-end generation.\n",
      "Traceback (most recent call last):\n",
      "  File \"/kaggle/working/code.py\", line 20, in <module>\n",
      "    result = sparkle_of_number(36)\n",
      "  File \"/kaggle/working/code.py\", line 12, in sparkle_of_number\n",
      "    n = sum(int(digit) for digit in str(n))\n",
      "  File \"/opt/conda/lib/python3.10/site-packages/sympy/core/_print_helpers.py\", line 29, in __str__\n",
      "    return sstr(self, order=None)\n",
      "  File \"/opt/conda/lib/python3.10/site-packages/sympy/printing/printer.py\", line 372, in __call__\n",
      "    return self.__wrapped__(*args, **kwargs)\n",
      "  File \"/opt/conda/lib/python3.10/site-packages/sympy/printing/str.py\", line 998, in sstr\n",
      "    s = p.doprint(expr)\n",
      "  File \"/opt/conda/lib/python3.10/site-packages/sympy/printing/printer.py\", line 292, in doprint\n",
      "    return self._str(self._print(expr))\n",
      "  File \"/opt/conda/lib/python3.10/site-packages/sympy/printing/printer.py\", line 331, in _print\n",
      "    return printmethod(expr, **kwargs)\n",
      "  File \"/opt/conda/lib/python3.10/site-packages/sympy/printing/str.py\", line 679, in _print_Integer\n",
      "    return str(expr.p)\n",
      "ValueError: Exceeds the limit (4300) for integer string conversion; use sys.set_int_max_str_digits() to increase the limit\n"
     ]
    },
    {
     "name": "stdout",
     "output_type": "stream",
     "text": [
      "CODE RESULTS -1\n",
      "BOXED ['415', '415']\n",
      "BOXED 415\n"
     ]
    },
    {
     "name": "stderr",
     "output_type": "stream",
     "text": [
      "\n",
      " 50%|█████     | 1/2 [01:04<01:04, 64.71s/it]\u001b[ASetting `pad_token_id` to `eos_token_id`:100001 for open-end generation.\n"
     ]
    },
    {
     "name": "stdout",
     "output_type": "stream",
     "text": [
      "\n",
      "CODE RESULTS -1\n",
      "BOXED ['156']\n",
      "BOXED 156\n"
     ]
    },
    {
     "name": "stderr",
     "output_type": "stream",
     "text": [
      "\n",
      "100%|██████████| 2/2 [02:06<00:00, 63.36s/it]\n",
      " 30%|███       | 3/10 [09:24<20:30, 175.81s/it]\n",
      "  0%|          | 0/2 [00:00<?, ?it/s]\u001b[ASetting `pad_token_id` to `eos_token_id`:100001 for open-end generation.\n"
     ]
    },
    {
     "name": "stdout",
     "output_type": "stream",
     "text": [
      "800.0\n",
      "\n",
      "CODE RESULTS 800\n",
      "BOXED ['400']\n",
      "BOXED 400\n"
     ]
    },
    {
     "name": "stderr",
     "output_type": "stream",
     "text": [
      "\n",
      " 50%|█████     | 1/2 [00:45<00:45, 45.32s/it]\u001b[ASetting `pad_token_id` to `eos_token_id`:100001 for open-end generation.\n"
     ]
    },
    {
     "name": "stdout",
     "output_type": "stream",
     "text": [
      "800.0\n",
      "\n",
      "CODE RESULTS 800\n",
      "BOXED ['311']\n",
      "BOXED 311\n"
     ]
    },
    {
     "name": "stderr",
     "output_type": "stream",
     "text": [
      "\n",
      "100%|██████████| 2/2 [02:01<00:00, 60.84s/it]\n",
      " 40%|████      | 4/10 [11:25<15:26, 154.44s/it]\n",
      "  0%|          | 0/2 [00:00<?, ?it/s]\u001b[ASetting `pad_token_id` to `eos_token_id`:100001 for open-end generation.\n",
      "Traceback (most recent call last):\n",
      "  File \"/kaggle/working/code.py\", line 26, in <module>\n",
      "    result = geometric_sequence_sum()\n",
      "  File \"/kaggle/working/code.py\", line 15, in geometric_sequence_sum\n",
      "    for r_value in symbols('r'):\n",
      "TypeError: 'Symbol' object is not iterable\n"
     ]
    },
    {
     "name": "stdout",
     "output_type": "stream",
     "text": [
      "CODE RESULTS -1\n",
      "BOXED []\n",
      "BOXED 715\n"
     ]
    },
    {
     "name": "stderr",
     "output_type": "stream",
     "text": [
      "\n",
      " 50%|█████     | 1/2 [01:22<01:22, 82.50s/it]\u001b[ASetting `pad_token_id` to `eos_token_id`:100001 for open-end generation.\n"
     ]
    },
    {
     "name": "stdout",
     "output_type": "stream",
     "text": [
      "11*sqrt(10) + 111\n",
      "\n",
      "CODE RESULTS -1\n",
      "BOXED ['889']\n",
      "BOXED 889\n"
     ]
    },
    {
     "name": "stderr",
     "output_type": "stream",
     "text": [
      "\n",
      "100%|██████████| 2/2 [02:27<00:00, 73.93s/it]\n",
      " 50%|█████     | 5/10 [13:53<12:40, 152.07s/it]\n",
      "  0%|          | 0/2 [00:00<?, ?it/s]\u001b[A/opt/conda/lib/python3.10/site-packages/transformers/pipelines/base.py:1157: UserWarning: You seem to be using the pipelines sequentially on GPU. In order to maximize efficiency please use a dataset\n",
      "  warnings.warn(\n",
      "Setting `pad_token_id` to `eos_token_id`:100001 for open-end generation.\n"
     ]
    },
    {
     "name": "stdout",
     "output_type": "stream",
     "text": [
      "100\n",
      "\n",
      "CODE RESULTS 100\n",
      "BOXED []\n",
      "BOXED 1\n"
     ]
    },
    {
     "name": "stderr",
     "output_type": "stream",
     "text": [
      "\n",
      " 50%|█████     | 1/2 [01:21<01:21, 81.44s/it]\u001b[ASetting `pad_token_id` to `eos_token_id`:100001 for open-end generation.\n"
     ]
    },
    {
     "name": "stdout",
     "output_type": "stream",
     "text": [
      "100\n",
      "\n",
      "CODE RESULTS 100\n",
      "BOXED ['1']\n",
      "BOXED 1\n"
     ]
    },
    {
     "name": "stderr",
     "output_type": "stream",
     "text": [
      "\n",
      "100%|██████████| 2/2 [02:06<00:00, 63.33s/it]\n",
      " 60%|██████    | 6/10 [16:00<09:33, 143.44s/it]\n",
      "  0%|          | 0/2 [00:00<?, ?it/s]\u001b[ASetting `pad_token_id` to `eos_token_id`:100001 for open-end generation.\n"
     ]
    },
    {
     "name": "stdout",
     "output_type": "stream",
     "text": [
      "list index out of range\n",
      "ERROR PARSING\n",
      "BOXED []\n",
      "BOXED 97\n"
     ]
    },
    {
     "name": "stderr",
     "output_type": "stream",
     "text": [
      "\n",
      " 50%|█████     | 1/2 [00:56<00:56, 56.59s/it]\u001b[ASetting `pad_token_id` to `eos_token_id`:100001 for open-end generation.\n"
     ]
    },
    {
     "name": "stdout",
     "output_type": "stream",
     "text": [
      "list index out of range\n",
      "ERROR PARSING\n",
      "BOXED []\n",
      "BOXED 921\n"
     ]
    },
    {
     "name": "stderr",
     "output_type": "stream",
     "text": [
      "\n",
      "100%|██████████| 2/2 [01:27<00:00, 43.96s/it]\n",
      " 70%|███████   | 7/10 [17:28<06:15, 125.29s/it]\n",
      "  0%|          | 0/2 [00:00<?, ?it/s]\u001b[ASetting `pad_token_id` to `eos_token_id`:100001 for open-end generation.\n"
     ]
    },
    {
     "name": "stdout",
     "output_type": "stream",
     "text": [
      "256\n",
      "\n",
      "CODE RESULTS 256\n",
      "BOXED ['256', '256']\n",
      "BOXED 256\n"
     ]
    },
    {
     "name": "stderr",
     "output_type": "stream",
     "text": [
      "\n",
      " 50%|█████     | 1/2 [00:59<00:59, 59.25s/it]\u001b[ASetting `pad_token_id` to `eos_token_id`:100001 for open-end generation.\n",
      "\n",
      "100%|██████████| 2/2 [03:34<00:00, 107.37s/it]\n",
      " 80%|████████  | 8/10 [21:02<05:07, 153.77s/it]"
     ]
    },
    {
     "name": "stdout",
     "output_type": "stream",
     "text": [
      "652.0\n",
      "\n",
      "CODE RESULTS 652\n",
      "BOXED ['652', '652']\n",
      "BOXED 652\n"
     ]
    },
    {
     "name": "stderr",
     "output_type": "stream",
     "text": [
      "\n",
      "  0%|          | 0/2 [00:00<?, ?it/s]\u001b[ASetting `pad_token_id` to `eos_token_id`:100001 for open-end generation.\n"
     ]
    },
    {
     "name": "stdout",
     "output_type": "stream",
     "text": [
      "list index out of range\n",
      "ERROR PARSING\n",
      "BOXED ['58', '58']\n",
      "BOXED 58\n"
     ]
    },
    {
     "name": "stderr",
     "output_type": "stream",
     "text": [
      "\n",
      " 50%|█████     | 1/2 [01:08<01:08, 68.00s/it]\u001b[ASetting `pad_token_id` to `eos_token_id`:100001 for open-end generation.\n"
     ]
    },
    {
     "name": "stdout",
     "output_type": "stream",
     "text": [
      "58/3\n",
      "\n",
      "CODE RESULTS 19\n",
      "BOXED ['801', '801']\n",
      "BOXED 801\n"
     ]
    },
    {
     "name": "stderr",
     "output_type": "stream",
     "text": [
      "\n",
      "100%|██████████| 2/2 [02:25<00:00, 72.82s/it]\n",
      " 90%|█████████ | 9/10 [23:28<02:31, 151.23s/it]\n",
      "  0%|          | 0/2 [00:00<?, ?it/s]\u001b[ASetting `pad_token_id` to `eos_token_id`:100001 for open-end generation.\n"
     ]
    },
    {
     "name": "stdout",
     "output_type": "stream",
     "text": [
      "list index out of range\n",
      "ERROR PARSING\n",
      "BOXED ['71']\n",
      "BOXED 71\n"
     ]
    },
    {
     "name": "stderr",
     "output_type": "stream",
     "text": [
      "\n",
      " 50%|█████     | 1/2 [02:47<02:47, 167.67s/it]\u001b[ASetting `pad_token_id` to `eos_token_id`:100001 for open-end generation.\n"
     ]
    },
    {
     "name": "stdout",
     "output_type": "stream",
     "text": [
      "387\n",
      "\n",
      "CODE RESULTS 387\n",
      "BOXED ['3']\n",
      "BOXED 3\n"
     ]
    },
    {
     "name": "stderr",
     "output_type": "stream",
     "text": [
      "\n",
      "100%|██████████| 2/2 [03:34<00:00, 107.15s/it]\n",
      "100%|██████████| 10/10 [27:02<00:00, 162.30s/it]\n"
     ]
    }
   ],
   "source": [
    "import re\n",
    "from collections import defaultdict\n",
    "\n",
    "\n",
    "tool_instruction0 = \" The answer should be given as a non-negative modulo 1000.\"\n",
    "tool_instruction0 += '\\nPlease integrate natural language reasoning with programs to solve the problem above, and put your final answer within \\\\boxed{}.'\n",
    "tool_instruction1 = \"\\nThe answer should be given as a non-negative modulo 1000.\"\n",
    "tool_instruction1 += '\\nPlease integrate natural language reasoning with programs to solve the problem above, and put your final answer within \\\\boxed{}.'\n",
    "tool_instruction2 = \" The answer should be given as a non-negative modulo 1000.\"\n",
    "tool_instruction2 += '\\n\\nPlease integrate natural language reasoning with programs to solve the problem above, and put your final answer within \\\\boxed{}.'\n",
    "tool_instruction3 = \"\\nThe answer should be given as a non-negative modulo 1000.\"\n",
    "tool_instruction3 += '\\n\\nPlease integrate natural language reasoning with programs to solve the problem above, and put your final answer within \\\\boxed{}.'\n",
    "tool_instruction4 = \" The answer should be given as a non-negative modulo 1000.\"\n",
    "tool_instruction4 += '\\nPlease integrate natural language reasoning with python programs to solve the problem above, and put your final answer within \\\\boxed{}.'\n",
    "\n",
    "tool_instructions = [tool_instruction0, tool_instruction1, tool_instruction2, tool_instruction3, tool_instruction4]\n",
    "\n",
    "n_repetitions = 5 if PRIVATE else 2\n",
    "\n",
    "total_results = []\n",
    "total_answers = []\n",
    "\n",
    "for i in tqdm(range(len(df))):\n",
    "    id_ = df['id'].loc[i]\n",
    "    problem = df['problem'].loc[i]\n",
    "    \n",
    "    results = []\n",
    "    answers = []\n",
    "    \n",
    "    for i in tqdm(range(n_repetitions)):\n",
    "        try:\n",
    "            tool_instruction = tool_instructions[i]\n",
    "            \n",
    "            messages = [\n",
    "                {\n",
    "                    \"role\": \"user\", \n",
    "                    \"content\": problem + tool_instruction\n",
    "                }\n",
    "            ]\n",
    "    \n",
    "            query_prompt = tokenizer.apply_chat_template(\n",
    "                messages,\n",
    "                tokenize=False\n",
    "            )\n",
    "            \n",
    "            raw_output = pipeline(\n",
    "                query_prompt, \n",
    "                max_new_tokens=2048, \n",
    "                do_sample=True, \n",
    "                temperature=0.9,\n",
    "                return_full_text=False\n",
    "            )\n",
    "            raw_output = raw_output[0]['generated_text']\n",
    "\n",
    "            result_output, code_output = process_output(raw_output)\n",
    "\n",
    "            torch.cuda.empty_cache()\n",
    "            gc.collect()\n",
    "\n",
    "        except Exception as e:\n",
    "            print(e)\n",
    "            result_output, code_output = -1, -1\n",
    "        \n",
    "        results.append(result_output)\n",
    "        answers.append(code_output)\n",
    "    \n",
    "    total_results.append(results)\n",
    "    total_answers.append(answers)"
   ]
  },
  {
   "cell_type": "code",
   "execution_count": 14,
   "id": "b99acd43",
   "metadata": {
    "execution": {
     "iopub.execute_input": "2024-04-13T05:42:25.348880Z",
     "iopub.status.busy": "2024-04-13T05:42:25.348181Z",
     "iopub.status.idle": "2024-04-13T05:42:25.356957Z",
     "shell.execute_reply": "2024-04-13T05:42:25.355765Z"
    },
    "papermill": {
     "duration": 0.036016,
     "end_time": "2024-04-13T05:42:25.359147",
     "exception": false,
     "start_time": "2024-04-13T05:42:25.323131",
     "status": "completed"
    },
    "tags": []
   },
   "outputs": [
    {
     "name": "stdout",
     "output_type": "stream",
     "text": [
      "38\n",
      "0\n",
      "415\n",
      "800\n",
      "715\n",
      "100\n",
      "97\n",
      "256\n",
      "58\n",
      "71\n"
     ]
    }
   ],
   "source": [
    "import numpy as np\n",
    "from collections import Counter\n",
    "\n",
    "final_answers = []\n",
    "\n",
    "for a, b in zip(total_answers, total_results):\n",
    "    a = np.array(a)\n",
    "    b = np.array(b)\n",
    "    a[a < 0] = b[a < 0]\n",
    "    \n",
    "    pred = Counter(a.tolist()).most_common(2)\n",
    "\n",
    "    ans = pred[0][0] if not pred[0][0] < 0 else pred[1][0]\n",
    "\n",
    "    final_answers.append(ans)\n",
    "    print(ans)\n"
   ]
  },
  {
   "cell_type": "code",
   "execution_count": 15,
   "id": "c40718f7",
   "metadata": {
    "execution": {
     "iopub.execute_input": "2024-04-13T05:42:25.413027Z",
     "iopub.status.busy": "2024-04-13T05:42:25.412650Z",
     "iopub.status.idle": "2024-04-13T05:42:25.417864Z",
     "shell.execute_reply": "2024-04-13T05:42:25.416828Z"
    },
    "papermill": {
     "duration": 0.037422,
     "end_time": "2024-04-13T05:42:25.420434",
     "exception": false,
     "start_time": "2024-04-13T05:42:25.383012",
     "status": "completed"
    },
    "tags": []
   },
   "outputs": [],
   "source": [
    "df['answer'] = final_answers"
   ]
  },
  {
   "cell_type": "code",
   "execution_count": 16,
   "id": "6d95771c",
   "metadata": {
    "execution": {
     "iopub.execute_input": "2024-04-13T05:42:25.532250Z",
     "iopub.status.busy": "2024-04-13T05:42:25.531245Z",
     "iopub.status.idle": "2024-04-13T05:42:25.544719Z",
     "shell.execute_reply": "2024-04-13T05:42:25.543513Z"
    },
    "papermill": {
     "duration": 0.098507,
     "end_time": "2024-04-13T05:42:25.547178",
     "exception": false,
     "start_time": "2024-04-13T05:42:25.448671",
     "status": "completed"
    },
    "tags": []
   },
   "outputs": [
    {
     "data": {
      "text/html": [
       "<div>\n",
       "<style scoped>\n",
       "    .dataframe tbody tr th:only-of-type {\n",
       "        vertical-align: middle;\n",
       "    }\n",
       "\n",
       "    .dataframe tbody tr th {\n",
       "        vertical-align: top;\n",
       "    }\n",
       "\n",
       "    .dataframe thead th {\n",
       "        text-align: right;\n",
       "    }\n",
       "</style>\n",
       "<table border=\"1\" class=\"dataframe\">\n",
       "  <thead>\n",
       "    <tr style=\"text-align: right;\">\n",
       "      <th></th>\n",
       "      <th>id</th>\n",
       "      <th>problem</th>\n",
       "      <th>answer</th>\n",
       "    </tr>\n",
       "  </thead>\n",
       "  <tbody>\n",
       "    <tr>\n",
       "      <th>0</th>\n",
       "      <td>229ee8</td>\n",
       "      <td>Let $k, l &gt; 0$ be parameters. The parabola $y ...</td>\n",
       "      <td>38</td>\n",
       "    </tr>\n",
       "    <tr>\n",
       "      <th>1</th>\n",
       "      <td>246d26</td>\n",
       "      <td>Each of the three-digits numbers $111$ to $999...</td>\n",
       "      <td>0</td>\n",
       "    </tr>\n",
       "    <tr>\n",
       "      <th>2</th>\n",
       "      <td>2fc4ad</td>\n",
       "      <td>Let the `sparkle' operation on positive intege...</td>\n",
       "      <td>415</td>\n",
       "    </tr>\n",
       "    <tr>\n",
       "      <th>3</th>\n",
       "      <td>430b63</td>\n",
       "      <td>What is the minimum value of $5x^2+5y^2-8xy$ w...</td>\n",
       "      <td>800</td>\n",
       "    </tr>\n",
       "    <tr>\n",
       "      <th>4</th>\n",
       "      <td>5277ed</td>\n",
       "      <td>There exists a unique increasing geometric seq...</td>\n",
       "      <td>715</td>\n",
       "    </tr>\n",
       "    <tr>\n",
       "      <th>5</th>\n",
       "      <td>739bc9</td>\n",
       "      <td>For how many positive integers $m$ does the eq...</td>\n",
       "      <td>100</td>\n",
       "    </tr>\n",
       "    <tr>\n",
       "      <th>6</th>\n",
       "      <td>82e2a0</td>\n",
       "      <td>Suppose that we roll four 6-sided fair dice wi...</td>\n",
       "      <td>97</td>\n",
       "    </tr>\n",
       "    <tr>\n",
       "      <th>7</th>\n",
       "      <td>8ee6f3</td>\n",
       "      <td>The points $\\left(x, y\\right)$ satisfying $((\\...</td>\n",
       "      <td>256</td>\n",
       "    </tr>\n",
       "    <tr>\n",
       "      <th>8</th>\n",
       "      <td>bedda4</td>\n",
       "      <td>Let $ABCD$ be a unit square. Let $P$ be the po...</td>\n",
       "      <td>58</td>\n",
       "    </tr>\n",
       "    <tr>\n",
       "      <th>9</th>\n",
       "      <td>d7e9c9</td>\n",
       "      <td>A function $f: \\mathbb N \\to \\mathbb N$ satisf...</td>\n",
       "      <td>71</td>\n",
       "    </tr>\n",
       "  </tbody>\n",
       "</table>\n",
       "</div>"
      ],
      "text/plain": [
       "       id                                            problem  answer\n",
       "0  229ee8  Let $k, l > 0$ be parameters. The parabola $y ...      38\n",
       "1  246d26  Each of the three-digits numbers $111$ to $999...       0\n",
       "2  2fc4ad  Let the `sparkle' operation on positive intege...     415\n",
       "3  430b63  What is the minimum value of $5x^2+5y^2-8xy$ w...     800\n",
       "4  5277ed  There exists a unique increasing geometric seq...     715\n",
       "5  739bc9  For how many positive integers $m$ does the eq...     100\n",
       "6  82e2a0  Suppose that we roll four 6-sided fair dice wi...      97\n",
       "7  8ee6f3  The points $\\left(x, y\\right)$ satisfying $((\\...     256\n",
       "8  bedda4  Let $ABCD$ be a unit square. Let $P$ be the po...      58\n",
       "9  d7e9c9  A function $f: \\mathbb N \\to \\mathbb N$ satisf...      71"
      ]
     },
     "execution_count": 16,
     "metadata": {},
     "output_type": "execute_result"
    }
   ],
   "source": [
    "df"
   ]
  },
  {
   "cell_type": "code",
   "execution_count": 17,
   "id": "0429923b",
   "metadata": {
    "execution": {
     "iopub.execute_input": "2024-04-13T05:42:25.599638Z",
     "iopub.status.busy": "2024-04-13T05:42:25.598863Z",
     "iopub.status.idle": "2024-04-13T05:42:25.613370Z",
     "shell.execute_reply": "2024-04-13T05:42:25.612371Z"
    },
    "papermill": {
     "duration": 0.042593,
     "end_time": "2024-04-13T05:42:25.615690",
     "exception": false,
     "start_time": "2024-04-13T05:42:25.573097",
     "status": "completed"
    },
    "tags": []
   },
   "outputs": [],
   "source": [
    "df[['id','answer']].to_csv(\"submission.csv\", header=True, index=False)"
   ]
  },
  {
   "cell_type": "code",
   "execution_count": 18,
   "id": "9d64ca34",
   "metadata": {
    "execution": {
     "iopub.execute_input": "2024-04-13T05:42:25.668156Z",
     "iopub.status.busy": "2024-04-13T05:42:25.667293Z",
     "iopub.status.idle": "2024-04-13T05:42:25.679908Z",
     "shell.execute_reply": "2024-04-13T05:42:25.678818Z"
    },
    "papermill": {
     "duration": 0.041384,
     "end_time": "2024-04-13T05:42:25.682186",
     "exception": false,
     "start_time": "2024-04-13T05:42:25.640802",
     "status": "completed"
    },
    "tags": []
   },
   "outputs": [
    {
     "data": {
      "text/html": [
       "<div>\n",
       "<style scoped>\n",
       "    .dataframe tbody tr th:only-of-type {\n",
       "        vertical-align: middle;\n",
       "    }\n",
       "\n",
       "    .dataframe tbody tr th {\n",
       "        vertical-align: top;\n",
       "    }\n",
       "\n",
       "    .dataframe thead th {\n",
       "        text-align: right;\n",
       "    }\n",
       "</style>\n",
       "<table border=\"1\" class=\"dataframe\">\n",
       "  <thead>\n",
       "    <tr style=\"text-align: right;\">\n",
       "      <th></th>\n",
       "      <th>id</th>\n",
       "      <th>answer</th>\n",
       "    </tr>\n",
       "  </thead>\n",
       "  <tbody>\n",
       "    <tr>\n",
       "      <th>0</th>\n",
       "      <td>229ee8</td>\n",
       "      <td>38</td>\n",
       "    </tr>\n",
       "    <tr>\n",
       "      <th>1</th>\n",
       "      <td>246d26</td>\n",
       "      <td>0</td>\n",
       "    </tr>\n",
       "    <tr>\n",
       "      <th>2</th>\n",
       "      <td>2fc4ad</td>\n",
       "      <td>415</td>\n",
       "    </tr>\n",
       "    <tr>\n",
       "      <th>3</th>\n",
       "      <td>430b63</td>\n",
       "      <td>800</td>\n",
       "    </tr>\n",
       "    <tr>\n",
       "      <th>4</th>\n",
       "      <td>5277ed</td>\n",
       "      <td>715</td>\n",
       "    </tr>\n",
       "  </tbody>\n",
       "</table>\n",
       "</div>"
      ],
      "text/plain": [
       "       id  answer\n",
       "0  229ee8      38\n",
       "1  246d26       0\n",
       "2  2fc4ad     415\n",
       "3  430b63     800\n",
       "4  5277ed     715"
      ]
     },
     "execution_count": 18,
     "metadata": {},
     "output_type": "execute_result"
    }
   ],
   "source": [
    "df[['id','answer']].head()"
   ]
  },
  {
   "cell_type": "code",
   "execution_count": 19,
   "id": "71a08ac5",
   "metadata": {
    "execution": {
     "iopub.execute_input": "2024-04-13T05:42:25.734049Z",
     "iopub.status.busy": "2024-04-13T05:42:25.733717Z",
     "iopub.status.idle": "2024-04-13T05:42:25.744964Z",
     "shell.execute_reply": "2024-04-13T05:42:25.743749Z"
    },
    "papermill": {
     "duration": 0.038352,
     "end_time": "2024-04-13T05:42:25.747234",
     "exception": false,
     "start_time": "2024-04-13T05:42:25.708882",
     "status": "completed"
    },
    "tags": []
   },
   "outputs": [
    {
     "name": "stdout",
     "output_type": "stream",
     "text": [
      "1 matches in 10 examples\n"
     ]
    }
   ],
   "source": [
    "if not PRIVATE:\n",
    "    df = pd.read_csv('/kaggle/input/ai-mathematical-olympiad-prize/train.csv')\n",
    "    df['model_answer'] = final_answers\n",
    "    df['match'] = df.answer == df.model_answer\n",
    "    print(f'{df.match.sum()} matches in {len(df)} examples')"
   ]
  },
  {
   "cell_type": "code",
   "execution_count": null,
   "id": "27731e88",
   "metadata": {
    "papermill": {
     "duration": 0.025753,
     "end_time": "2024-04-13T05:42:25.798931",
     "exception": false,
     "start_time": "2024-04-13T05:42:25.773178",
     "status": "completed"
    },
    "tags": []
   },
   "outputs": [],
   "source": []
  }
 ],
 "metadata": {
  "kaggle": {
   "accelerator": "nvidiaTeslaT4",
   "dataSources": [
    {
     "databundleVersionId": 8133715,
     "sourceId": 73231,
     "sourceType": "competition"
    },
    {
     "datasetId": 4281572,
     "sourceId": 7369493,
     "sourceType": "datasetVersion"
    },
    {
     "datasetId": 4720595,
     "sourceId": 8012825,
     "sourceType": "datasetVersion"
    },
    {
     "datasetId": 4728129,
     "sourceId": 8023365,
     "sourceType": "datasetVersion"
    },
    {
     "modelInstanceId": 3900,
     "sourceId": 5112,
     "sourceType": "modelInstanceVersion"
    },
    {
     "modelInstanceId": 4761,
     "sourceId": 5994,
     "sourceType": "modelInstanceVersion"
    },
    {
     "modelInstanceId": 8318,
     "sourceId": 11382,
     "sourceType": "modelInstanceVersion"
    },
    {
     "modelInstanceId": 8332,
     "sourceId": 11394,
     "sourceType": "modelInstanceVersion"
    }
   ],
   "dockerImageVersionId": 30674,
   "isGpuEnabled": true,
   "isInternetEnabled": false,
   "language": "python",
   "sourceType": "notebook"
  },
  "kernelspec": {
   "display_name": "Python 3",
   "language": "python",
   "name": "python3"
  },
  "language_info": {
   "codemirror_mode": {
    "name": "ipython",
    "version": 3
   },
   "file_extension": ".py",
   "mimetype": "text/x-python",
   "name": "python",
   "nbconvert_exporter": "python",
   "pygments_lexer": "ipython3",
   "version": "3.10.13"
  },
  "papermill": {
   "default_parameters": {},
   "duration": 1916.118266,
   "end_time": "2024-04-13T05:42:28.929097",
   "environment_variables": {},
   "exception": null,
   "input_path": "__notebook__.ipynb",
   "output_path": "__notebook__.ipynb",
   "parameters": {},
   "start_time": "2024-04-13T05:10:32.810831",
   "version": "2.5.0"
  },
  "widgets": {
   "application/vnd.jupyter.widget-state+json": {
    "state": {
     "0deb667f0ced43619c5707f559e29db1": {
      "model_module": "@jupyter-widgets/base",
      "model_module_version": "1.2.0",
      "model_name": "LayoutModel",
      "state": {
       "_model_module": "@jupyter-widgets/base",
       "_model_module_version": "1.2.0",
       "_model_name": "LayoutModel",
       "_view_count": null,
       "_view_module": "@jupyter-widgets/base",
       "_view_module_version": "1.2.0",
       "_view_name": "LayoutView",
       "align_content": null,
       "align_items": null,
       "align_self": null,
       "border": null,
       "bottom": null,
       "display": null,
       "flex": null,
       "flex_flow": null,
       "grid_area": null,
       "grid_auto_columns": null,
       "grid_auto_flow": null,
       "grid_auto_rows": null,
       "grid_column": null,
       "grid_gap": null,
       "grid_row": null,
       "grid_template_areas": null,
       "grid_template_columns": null,
       "grid_template_rows": null,
       "height": null,
       "justify_content": null,
       "justify_items": null,
       "left": null,
       "margin": null,
       "max_height": null,
       "max_width": null,
       "min_height": null,
       "min_width": null,
       "object_fit": null,
       "object_position": null,
       "order": null,
       "overflow": null,
       "overflow_x": null,
       "overflow_y": null,
       "padding": null,
       "right": null,
       "top": null,
       "visibility": null,
       "width": null
      }
     },
     "1593d0017e154b2cbdb2949f9f9ad117": {
      "model_module": "@jupyter-widgets/base",
      "model_module_version": "1.2.0",
      "model_name": "LayoutModel",
      "state": {
       "_model_module": "@jupyter-widgets/base",
       "_model_module_version": "1.2.0",
       "_model_name": "LayoutModel",
       "_view_count": null,
       "_view_module": "@jupyter-widgets/base",
       "_view_module_version": "1.2.0",
       "_view_name": "LayoutView",
       "align_content": null,
       "align_items": null,
       "align_self": null,
       "border": null,
       "bottom": null,
       "display": null,
       "flex": null,
       "flex_flow": null,
       "grid_area": null,
       "grid_auto_columns": null,
       "grid_auto_flow": null,
       "grid_auto_rows": null,
       "grid_column": null,
       "grid_gap": null,
       "grid_row": null,
       "grid_template_areas": null,
       "grid_template_columns": null,
       "grid_template_rows": null,
       "height": null,
       "justify_content": null,
       "justify_items": null,
       "left": null,
       "margin": null,
       "max_height": null,
       "max_width": null,
       "min_height": null,
       "min_width": null,
       "object_fit": null,
       "object_position": null,
       "order": null,
       "overflow": null,
       "overflow_x": null,
       "overflow_y": null,
       "padding": null,
       "right": null,
       "top": null,
       "visibility": null,
       "width": null
      }
     },
     "312cd0f74b574b23b6d8cc6e6c274d8c": {
      "model_module": "@jupyter-widgets/base",
      "model_module_version": "1.2.0",
      "model_name": "LayoutModel",
      "state": {
       "_model_module": "@jupyter-widgets/base",
       "_model_module_version": "1.2.0",
       "_model_name": "LayoutModel",
       "_view_count": null,
       "_view_module": "@jupyter-widgets/base",
       "_view_module_version": "1.2.0",
       "_view_name": "LayoutView",
       "align_content": null,
       "align_items": null,
       "align_self": null,
       "border": null,
       "bottom": null,
       "display": null,
       "flex": null,
       "flex_flow": null,
       "grid_area": null,
       "grid_auto_columns": null,
       "grid_auto_flow": null,
       "grid_auto_rows": null,
       "grid_column": null,
       "grid_gap": null,
       "grid_row": null,
       "grid_template_areas": null,
       "grid_template_columns": null,
       "grid_template_rows": null,
       "height": null,
       "justify_content": null,
       "justify_items": null,
       "left": null,
       "margin": null,
       "max_height": null,
       "max_width": null,
       "min_height": null,
       "min_width": null,
       "object_fit": null,
       "object_position": null,
       "order": null,
       "overflow": null,
       "overflow_x": null,
       "overflow_y": null,
       "padding": null,
       "right": null,
       "top": null,
       "visibility": null,
       "width": null
      }
     },
     "76f8dd2a2dd043baa0c22558b5ac9925": {
      "model_module": "@jupyter-widgets/controls",
      "model_module_version": "1.5.0",
      "model_name": "FloatProgressModel",
      "state": {
       "_dom_classes": [],
       "_model_module": "@jupyter-widgets/controls",
       "_model_module_version": "1.5.0",
       "_model_name": "FloatProgressModel",
       "_view_count": null,
       "_view_module": "@jupyter-widgets/controls",
       "_view_module_version": "1.5.0",
       "_view_name": "ProgressView",
       "bar_style": "success",
       "description": "",
       "description_tooltip": null,
       "layout": "IPY_MODEL_0deb667f0ced43619c5707f559e29db1",
       "max": 3.0,
       "min": 0.0,
       "orientation": "horizontal",
       "style": "IPY_MODEL_94ac79899edf47eeb6c7a5a66642e7e6",
       "value": 3.0
      }
     },
     "84b42a2897b04996b6458d7e1ad07056": {
      "model_module": "@jupyter-widgets/base",
      "model_module_version": "1.2.0",
      "model_name": "LayoutModel",
      "state": {
       "_model_module": "@jupyter-widgets/base",
       "_model_module_version": "1.2.0",
       "_model_name": "LayoutModel",
       "_view_count": null,
       "_view_module": "@jupyter-widgets/base",
       "_view_module_version": "1.2.0",
       "_view_name": "LayoutView",
       "align_content": null,
       "align_items": null,
       "align_self": null,
       "border": null,
       "bottom": null,
       "display": null,
       "flex": null,
       "flex_flow": null,
       "grid_area": null,
       "grid_auto_columns": null,
       "grid_auto_flow": null,
       "grid_auto_rows": null,
       "grid_column": null,
       "grid_gap": null,
       "grid_row": null,
       "grid_template_areas": null,
       "grid_template_columns": null,
       "grid_template_rows": null,
       "height": null,
       "justify_content": null,
       "justify_items": null,
       "left": null,
       "margin": null,
       "max_height": null,
       "max_width": null,
       "min_height": null,
       "min_width": null,
       "object_fit": null,
       "object_position": null,
       "order": null,
       "overflow": null,
       "overflow_x": null,
       "overflow_y": null,
       "padding": null,
       "right": null,
       "top": null,
       "visibility": null,
       "width": null
      }
     },
     "86add59cdbcb4ef18dfd258ef1be19fe": {
      "model_module": "@jupyter-widgets/controls",
      "model_module_version": "1.5.0",
      "model_name": "DescriptionStyleModel",
      "state": {
       "_model_module": "@jupyter-widgets/controls",
       "_model_module_version": "1.5.0",
       "_model_name": "DescriptionStyleModel",
       "_view_count": null,
       "_view_module": "@jupyter-widgets/base",
       "_view_module_version": "1.2.0",
       "_view_name": "StyleView",
       "description_width": ""
      }
     },
     "94ac79899edf47eeb6c7a5a66642e7e6": {
      "model_module": "@jupyter-widgets/controls",
      "model_module_version": "1.5.0",
      "model_name": "ProgressStyleModel",
      "state": {
       "_model_module": "@jupyter-widgets/controls",
       "_model_module_version": "1.5.0",
       "_model_name": "ProgressStyleModel",
       "_view_count": null,
       "_view_module": "@jupyter-widgets/base",
       "_view_module_version": "1.2.0",
       "_view_name": "StyleView",
       "bar_color": null,
       "description_width": ""
      }
     },
     "9b57c8996bd043daae2cb0ecfac461d8": {
      "model_module": "@jupyter-widgets/controls",
      "model_module_version": "1.5.0",
      "model_name": "HBoxModel",
      "state": {
       "_dom_classes": [],
       "_model_module": "@jupyter-widgets/controls",
       "_model_module_version": "1.5.0",
       "_model_name": "HBoxModel",
       "_view_count": null,
       "_view_module": "@jupyter-widgets/controls",
       "_view_module_version": "1.5.0",
       "_view_name": "HBoxView",
       "box_style": "",
       "children": [
        "IPY_MODEL_a36f5fbd85954274886fbabaeb8ba363",
        "IPY_MODEL_76f8dd2a2dd043baa0c22558b5ac9925",
        "IPY_MODEL_9bb3d527370f47218d3d85424c326d99"
       ],
       "layout": "IPY_MODEL_1593d0017e154b2cbdb2949f9f9ad117"
      }
     },
     "9bb3d527370f47218d3d85424c326d99": {
      "model_module": "@jupyter-widgets/controls",
      "model_module_version": "1.5.0",
      "model_name": "HTMLModel",
      "state": {
       "_dom_classes": [],
       "_model_module": "@jupyter-widgets/controls",
       "_model_module_version": "1.5.0",
       "_model_name": "HTMLModel",
       "_view_count": null,
       "_view_module": "@jupyter-widgets/controls",
       "_view_module_version": "1.5.0",
       "_view_name": "HTMLView",
       "description": "",
       "description_tooltip": null,
       "layout": "IPY_MODEL_84b42a2897b04996b6458d7e1ad07056",
       "placeholder": "​",
       "style": "IPY_MODEL_bf063af9b9b442e7990c31fb3e78ee00",
       "value": " 3/3 [03:44&lt;00:00, 70.07s/it]"
      }
     },
     "a36f5fbd85954274886fbabaeb8ba363": {
      "model_module": "@jupyter-widgets/controls",
      "model_module_version": "1.5.0",
      "model_name": "HTMLModel",
      "state": {
       "_dom_classes": [],
       "_model_module": "@jupyter-widgets/controls",
       "_model_module_version": "1.5.0",
       "_model_name": "HTMLModel",
       "_view_count": null,
       "_view_module": "@jupyter-widgets/controls",
       "_view_module_version": "1.5.0",
       "_view_name": "HTMLView",
       "description": "",
       "description_tooltip": null,
       "layout": "IPY_MODEL_312cd0f74b574b23b6d8cc6e6c274d8c",
       "placeholder": "​",
       "style": "IPY_MODEL_86add59cdbcb4ef18dfd258ef1be19fe",
       "value": "Loading checkpoint shards: 100%"
      }
     },
     "bf063af9b9b442e7990c31fb3e78ee00": {
      "model_module": "@jupyter-widgets/controls",
      "model_module_version": "1.5.0",
      "model_name": "DescriptionStyleModel",
      "state": {
       "_model_module": "@jupyter-widgets/controls",
       "_model_module_version": "1.5.0",
       "_model_name": "DescriptionStyleModel",
       "_view_count": null,
       "_view_module": "@jupyter-widgets/base",
       "_view_module_version": "1.2.0",
       "_view_name": "StyleView",
       "description_width": ""
      }
     }
    },
    "version_major": 2,
    "version_minor": 0
   }
  }
 },
 "nbformat": 4,
 "nbformat_minor": 5
}
