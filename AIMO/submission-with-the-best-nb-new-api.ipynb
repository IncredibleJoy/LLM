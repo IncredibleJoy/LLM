{
 "cells": [
  {
   "cell_type": "code",
   "execution_count": 1,
   "id": "826c31dc",
   "metadata": {
    "execution": {
     "iopub.execute_input": "2024-05-15T12:07:30.707970Z",
     "iopub.status.busy": "2024-05-15T12:07:30.707680Z",
     "iopub.status.idle": "2024-05-15T12:07:30.712175Z",
     "shell.execute_reply": "2024-05-15T12:07:30.711438Z"
    },
    "papermill": {
     "duration": 0.016953,
     "end_time": "2024-05-15T12:07:30.713994",
     "exception": false,
     "start_time": "2024-05-15T12:07:30.697041",
     "status": "completed"
    },
    "tags": []
   },
   "outputs": [],
   "source": [
    "## Forked From  https://www.kaggle.com/code/abdurrafae/improved-code-interpretation\n"
   ]
  },
  {
   "cell_type": "markdown",
   "id": "f4543844",
   "metadata": {
    "papermill": {
     "duration": 0.008642,
     "end_time": "2024-05-15T12:07:30.731514",
     "exception": false,
     "start_time": "2024-05-15T12:07:30.722872",
     "status": "completed"
    },
    "tags": []
   },
   "source": [
    "This notebook is forked from [the Notebook](https://www.kaggle.com/code/abdurrafae/improved-code-interpretation) that won the early sharing prize by @[abdurrafae](https://www.kaggle.com/abdurrafae)\n",
    "\n",
    "I tried to use this notebook to submit with the new API"
   ]
  },
  {
   "cell_type": "code",
   "execution_count": 2,
   "id": "d75603d1",
   "metadata": {
    "execution": {
     "iopub.execute_input": "2024-05-15T12:07:30.750309Z",
     "iopub.status.busy": "2024-05-15T12:07:30.750042Z",
     "iopub.status.idle": "2024-05-15T12:07:30.759341Z",
     "shell.execute_reply": "2024-05-15T12:07:30.758621Z"
    },
    "papermill": {
     "duration": 0.020905,
     "end_time": "2024-05-15T12:07:30.761157",
     "exception": false,
     "start_time": "2024-05-15T12:07:30.740252",
     "status": "completed"
    },
    "tags": []
   },
   "outputs": [],
   "source": [
    "import time\n",
    "\n",
    "NOTEBOOK_START_TIME = time.time()"
   ]
  },
  {
   "cell_type": "markdown",
   "id": "5b10acce",
   "metadata": {
    "papermill": {
     "duration": 0.008714,
     "end_time": "2024-05-15T12:07:30.778553",
     "exception": false,
     "start_time": "2024-05-15T12:07:30.769839",
     "status": "completed"
    },
    "tags": []
   },
   "source": [
    "# Zero-shot MMOS-DeepSeekMath-7B with self-consistency and generated code reasoning evaluation\n",
    "\n",
    "Self-consistency is a modification of the standard greedy decoding in reasoning pipelines via sampling several diverse answers followed by aggregation, e.g., most common answer ([SC-CoT paper](https://arxiv.org/pdf/2203.11171.pdf)).\n",
    "\n",
    "In this kernel, we will consider MMOS-DeepSeekMath-7B RL-tuned backbone; in my experiments, this model produces more consistent code reasoning and the code block execution will allow us to decrease arithmetic hallucinations."
   ]
  },
  {
   "cell_type": "code",
   "execution_count": 3,
   "id": "53c4eb4c",
   "metadata": {
    "execution": {
     "iopub.execute_input": "2024-05-15T12:07:30.797267Z",
     "iopub.status.busy": "2024-05-15T12:07:30.797001Z",
     "iopub.status.idle": "2024-05-15T12:07:30.801505Z",
     "shell.execute_reply": "2024-05-15T12:07:30.800759Z"
    },
    "papermill": {
     "duration": 0.016209,
     "end_time": "2024-05-15T12:07:30.803423",
     "exception": false,
     "start_time": "2024-05-15T12:07:30.787214",
     "status": "completed"
    },
    "tags": []
   },
   "outputs": [],
   "source": [
    "DEBUG = False\n",
    "\n",
    "QUANT = False\n",
    "\n",
    "if QUANT:\n",
    "    from transformers import BitsAndBytesConfig\n",
    "    quantization_config = BitsAndBytesConfig(\n",
    "        load_in_4bit = True,\n",
    "        bnb_4bit_quant_type=\"nf4\",\n",
    "        bnb_4bit_compute_dtype=torch.bfloat16,\n",
    "        bnb_4bit_use_double_quant=True,\n",
    "    )\n",
    "\n",
    "USE_PAST_KEY = True"
   ]
  },
  {
   "cell_type": "code",
   "execution_count": 4,
   "id": "bebd3692",
   "metadata": {
    "execution": {
     "iopub.execute_input": "2024-05-15T12:07:30.822058Z",
     "iopub.status.busy": "2024-05-15T12:07:30.821804Z",
     "iopub.status.idle": "2024-05-15T12:07:46.390664Z",
     "shell.execute_reply": "2024-05-15T12:07:46.389529Z"
    },
    "papermill": {
     "duration": 15.580424,
     "end_time": "2024-05-15T12:07:46.392755",
     "exception": false,
     "start_time": "2024-05-15T12:07:30.812331",
     "status": "completed"
    },
    "tags": []
   },
   "outputs": [
    {
     "name": "stdout",
     "output_type": "stream",
     "text": [
      "Transformers Version: 4.39.3\n"
     ]
    },
    {
     "name": "stderr",
     "output_type": "stream",
     "text": [
      "2024-05-15 12:07:37.887213: E external/local_xla/xla/stream_executor/cuda/cuda_dnn.cc:9261] Unable to register cuDNN factory: Attempting to register factory for plugin cuDNN when one has already been registered\n",
      "2024-05-15 12:07:37.887308: E external/local_xla/xla/stream_executor/cuda/cuda_fft.cc:607] Unable to register cuFFT factory: Attempting to register factory for plugin cuFFT when one has already been registered\n",
      "2024-05-15 12:07:37.998741: E external/local_xla/xla/stream_executor/cuda/cuda_blas.cc:1515] Unable to register cuBLAS factory: Attempting to register factory for plugin cuBLAS when one has already been registered\n"
     ]
    },
    {
     "name": "stdout",
     "output_type": "stream",
     "text": [
      "CPU times: user 8.46 s, sys: 1.5 s, total: 9.97 s\n",
      "Wall time: 15.6 s\n"
     ]
    }
   ],
   "source": [
    "%%time\n",
    "if QUANT:\n",
    "    !pip install -U /kaggle/input/accelerate-wheelwhl/accelerate-0.29.1-py3-none-any.whl -qq\n",
    "    !pip install -U /kaggle/input/bitsandbytes-0-42-0-py3-none-any-whl/bitsandbytes-0.42.0-py3-none-any.whl -qq\n",
    "\n",
    "\n",
    "import torch\n",
    "import gc\n",
    "torch.backends.cuda.enable_mem_efficient_sdp(False)\n",
    "\n",
    "from transformers import (\n",
    "    AutoModelForCausalLM, \n",
    "    AutoTokenizer, \n",
    "    AutoConfig,\n",
    "    StoppingCriteria,\n",
    "    set_seed\n",
    ")\n",
    "\n",
    "import transformers\n",
    "print(f\"Transformers Version: {transformers.__version__}\")\n",
    "set_seed(42)"
   ]
  },
  {
   "cell_type": "code",
   "execution_count": 5,
   "id": "58e14b22",
   "metadata": {
    "execution": {
     "iopub.execute_input": "2024-05-15T12:07:46.413428Z",
     "iopub.status.busy": "2024-05-15T12:07:46.412869Z",
     "iopub.status.idle": "2024-05-15T12:07:46.417246Z",
     "shell.execute_reply": "2024-05-15T12:07:46.416382Z"
    },
    "papermill": {
     "duration": 0.017263,
     "end_time": "2024-05-15T12:07:46.419236",
     "exception": false,
     "start_time": "2024-05-15T12:07:46.401973",
     "status": "completed"
    },
    "tags": []
   },
   "outputs": [],
   "source": [
    "import pandas as pd\n",
    "from tqdm import tqdm\n",
    "PRIVATE = True"
   ]
  },
  {
   "cell_type": "code",
   "execution_count": 6,
   "id": "e1fded96",
   "metadata": {
    "execution": {
     "iopub.execute_input": "2024-05-15T12:07:46.438389Z",
     "iopub.status.busy": "2024-05-15T12:07:46.438121Z",
     "iopub.status.idle": "2024-05-15T12:07:46.443432Z",
     "shell.execute_reply": "2024-05-15T12:07:46.442600Z"
    },
    "papermill": {
     "duration": 0.017044,
     "end_time": "2024-05-15T12:07:46.445269",
     "exception": false,
     "start_time": "2024-05-15T12:07:46.428225",
     "status": "completed"
    },
    "tags": []
   },
   "outputs": [],
   "source": [
    "def naive_parse(answer):\n",
    "    out = []\n",
    "    start = False\n",
    "    end = False\n",
    "    for l in reversed(list(answer)):\n",
    "        if l in '0123456789' and not end:\n",
    "            start = True\n",
    "            out.append(l)\n",
    "        else:\n",
    "            if start:\n",
    "                end = True\n",
    "        \n",
    "    out = reversed(out)\n",
    "    return ''.join(out)"
   ]
  },
  {
   "cell_type": "code",
   "execution_count": 7,
   "id": "61c5cf0e",
   "metadata": {
    "execution": {
     "iopub.execute_input": "2024-05-15T12:07:46.464453Z",
     "iopub.status.busy": "2024-05-15T12:07:46.464190Z",
     "iopub.status.idle": "2024-05-15T12:07:46.702415Z",
     "shell.execute_reply": "2024-05-15T12:07:46.701604Z"
    },
    "papermill": {
     "duration": 0.250774,
     "end_time": "2024-05-15T12:07:46.705081",
     "exception": false,
     "start_time": "2024-05-15T12:07:46.454307",
     "status": "completed"
    },
    "tags": []
   },
   "outputs": [],
   "source": [
    "import re\n",
    "import sys\n",
    "import subprocess\n",
    "\n",
    "def return_last_print(output, n):\n",
    "    lines = output.strip().split('\\n')\n",
    "    if lines:\n",
    "        return lines[n]\n",
    "    else:\n",
    "        return \"\"\n",
    "\n",
    "def process_code(code, return_shell_output=False):\n",
    "    \n",
    "    def repl(match):\n",
    "        if \"real\" not in match.group():\n",
    "            return \"{}{}\".format(match.group()[:-1], ', real=True)')\n",
    "        else:\n",
    "            return \"{}{}\".format(match.group()[:-1], ')')\n",
    "    code = re.sub(r\"symbols\\([^)]+\\)\", repl, code)\n",
    "\n",
    "    if return_shell_output:\n",
    "        code = code.replace('\\n', '\\n    ')\n",
    "            # Add a try...except block\n",
    "        code = \"\\ntry:\\n    from sympy import *\\n{}\\nexcept Exception as e:\\n    print(e)\\n    print('FAIL')\\n\".format(code)\n",
    "    \n",
    "    if not return_shell_output:\n",
    "        print(code)\n",
    "    with open('code.py', 'w') as fout:\n",
    "        fout.write(code)\n",
    "    \n",
    "    batcmd = 'timeout 7 ' + sys.executable + ' code.py'\n",
    "    try:\n",
    "        shell_output = subprocess.check_output(batcmd, shell=True).decode('utf8')\n",
    "        return_value = return_last_print(shell_output, -1)\n",
    "        print(shell_output)\n",
    "        if return_shell_output:\n",
    "            if return_value=='FAIL':\n",
    "                CODE_STATUS = False\n",
    "                return_value = return_last_print(shell_output, -2)\n",
    "                if \"not defined\" in return_value:\n",
    "                    return_value+='\\nTry checking the formatting and imports'\n",
    "            else:\n",
    "                CODE_STATUS = True\n",
    "            return return_value, CODE_STATUS  \n",
    "        code_output = round(float(eval(return_value))) % 1000\n",
    "    except Exception as e:\n",
    "        print(e,'shell_output')\n",
    "        code_output = -1\n",
    "    \n",
    "    if return_shell_output:\n",
    "        if code_output==-1:\n",
    "            CODE_STATUS = False\n",
    "        else:\n",
    "            CODE_STATUS = True\n",
    "        return code_output, CODE_STATUS  \n",
    "    \n",
    "    \n",
    "    return code_output\n",
    "\n",
    "\n",
    "def process_text_output(output):\n",
    "    result = output    \n",
    "    try:\n",
    "        result_output = re.findall(r'\\\\boxed\\{(\\d+)\\}', result)\n",
    "\n",
    "        print('BOXED', result_output)\n",
    "        if not len(result_output):\n",
    "            result_output = naive_parse(result)\n",
    "        else:\n",
    "            result_output = result_output[-1]\n",
    "\n",
    "        print('BOXED FINAL', result_output)\n",
    "        if not len(result_output):\n",
    "            result_output = -1\n",
    "        \n",
    "        else:\n",
    "            result_output = round(float(eval(result_output))) % 1000\n",
    "    \n",
    "    except Exception as e:\n",
    "        print(e)\n",
    "        print('ERROR PARSING TEXT')\n",
    "        result_output = -1\n",
    "    \n",
    "    return result_output\n"
   ]
  },
  {
   "cell_type": "code",
   "execution_count": 8,
   "id": "3fc368f1",
   "metadata": {
    "execution": {
     "iopub.execute_input": "2024-05-15T12:07:46.732146Z",
     "iopub.status.busy": "2024-05-15T12:07:46.731690Z",
     "iopub.status.idle": "2024-05-15T12:07:46.953466Z",
     "shell.execute_reply": "2024-05-15T12:07:46.952629Z"
    },
    "papermill": {
     "duration": 0.237093,
     "end_time": "2024-05-15T12:07:46.955383",
     "exception": false,
     "start_time": "2024-05-15T12:07:46.718290",
     "status": "completed"
    },
    "tags": []
   },
   "outputs": [
    {
     "data": {
      "text/plain": [
       "0"
      ]
     },
     "execution_count": 8,
     "metadata": {},
     "output_type": "execute_result"
    }
   ],
   "source": [
    "torch.cuda.empty_cache()\n",
    "gc.collect()"
   ]
  },
  {
   "cell_type": "code",
   "execution_count": 9,
   "id": "53f1d760",
   "metadata": {
    "execution": {
     "iopub.execute_input": "2024-05-15T12:07:46.975318Z",
     "iopub.status.busy": "2024-05-15T12:07:46.975026Z",
     "iopub.status.idle": "2024-05-15T12:07:46.979295Z",
     "shell.execute_reply": "2024-05-15T12:07:46.978533Z"
    },
    "papermill": {
     "duration": 0.016331,
     "end_time": "2024-05-15T12:07:46.981171",
     "exception": false,
     "start_time": "2024-05-15T12:07:46.964840",
     "status": "completed"
    },
    "tags": []
   },
   "outputs": [],
   "source": [
    "import re\n",
    "import math\n",
    "import random\n",
    "\n",
    "from collections import defaultdict\n",
    "\n",
    "n_repetitions = 17 if PRIVATE else 2\n",
    "TOTAL_TOKENS = 2048 # if PRIVATE else 512"
   ]
  },
  {
   "cell_type": "code",
   "execution_count": 10,
   "id": "122f7a8c",
   "metadata": {
    "execution": {
     "iopub.execute_input": "2024-05-15T12:07:47.000792Z",
     "iopub.status.busy": "2024-05-15T12:07:47.000304Z",
     "iopub.status.idle": "2024-05-15T12:10:30.175851Z",
     "shell.execute_reply": "2024-05-15T12:10:30.175031Z"
    },
    "papermill": {
     "duration": 163.187632,
     "end_time": "2024-05-15T12:10:30.178001",
     "exception": false,
     "start_time": "2024-05-15T12:07:46.990369",
     "status": "completed"
    },
    "tags": []
   },
   "outputs": [
    {
     "name": "stderr",
     "output_type": "stream",
     "text": [
      "Special tokens have been added in the vocabulary, make sure the associated word embeddings are fine-tuned or trained.\n"
     ]
    },
    {
     "data": {
      "application/vnd.jupyter.widget-view+json": {
       "model_id": "7e16680212714892a9fd926fc2924542",
       "version_major": 2,
       "version_minor": 0
      },
      "text/plain": [
       "Loading checkpoint shards:   0%|          | 0/3 [00:00<?, ?it/s]"
      ]
     },
     "metadata": {},
     "output_type": "display_data"
    }
   ],
   "source": [
    "if True:\n",
    "\n",
    "    MODEL_PATH = \"/kaggle/input/deepseek-math\"#\"/kaggle/input/gemma/transformers/7b-it/1\"\n",
    "    DEEP = True\n",
    "\n",
    "    config = AutoConfig.from_pretrained(MODEL_PATH)\n",
    "    config.gradient_checkpointing = True\n",
    "\n",
    "    tokenizer = AutoTokenizer.from_pretrained(MODEL_PATH)\n",
    "\n",
    "    device_map = [('model.embed_tokens', 0),\n",
    "                 ('model.layers.0', 0),\n",
    "                 ('model.layers.1', 0),\n",
    "                 ('model.layers.2', 0),\n",
    "                 ('model.layers.3', 0),\n",
    "                 ('model.layers.4', 0),\n",
    "                 ('model.layers.5', 0),\n",
    "                 ('model.layers.6', 0),\n",
    "                 ('model.layers.7', 0),\n",
    "                 ('model.layers.8', 0),\n",
    "                 ('model.layers.9', 0),\n",
    "                 ('model.layers.10', 0),\n",
    "                 ('model.layers.11', 0),\n",
    "                 ('model.layers.12', 0),\n",
    "                 ('model.layers.13', 0),\n",
    "                 ('model.layers.14', 0),\n",
    "                 ('model.layers.15', 0),\n",
    "                 ('model.layers.16', 0),\n",
    "                 ('model.layers.17', 0),\n",
    "                 ('model.layers.18', 0),\n",
    "                 ('model.layers.19', 0),\n",
    "                 ('model.layers.20', 0),\n",
    "                 ('model.layers.21', 0),\n",
    "                 ('model.layers.22', 1),\n",
    "                 ('model.layers.23', 1),\n",
    "                 ('model.layers.24', 1),\n",
    "                 ('model.layers.25', 1),\n",
    "                 ('model.layers.26', 1),\n",
    "                 ('model.layers.27', 1),\n",
    "                 ('model.layers.28', 1),\n",
    "                 ('model.layers.29', 1),\n",
    "                 ('model.norm', 1),\n",
    "                 ('lm_head', 1)]\n",
    "\n",
    "    device_map = {ii:jj for (ii,jj) in device_map}\n",
    "\n",
    "    if QUANT:\n",
    "        from transformers import BitsAndBytesConfig\n",
    "        quantization_config = BitsAndBytesConfig(\n",
    "            load_in_4bit = True,\n",
    "            bnb_4bit_quant_type=\"nf4\",\n",
    "            bnb_4bit_compute_dtype=torch.bfloat16,\n",
    "            bnb_4bit_use_double_quant=True,\n",
    "        )\n",
    "        model = AutoModelForCausalLM.from_pretrained(\n",
    "            MODEL_PATH,\n",
    "            device_map=\"sequential\",\n",
    "            torch_dtype=\"auto\",\n",
    "            trust_remote_code=True, \n",
    "            quantization_config=quantization_config,\n",
    "            config=config\n",
    "        )\n",
    "    else:  \n",
    "        model = AutoModelForCausalLM.from_pretrained(\n",
    "            MODEL_PATH,\n",
    "            device_map=device_map,\n",
    "            torch_dtype=\"auto\",\n",
    "            trust_remote_code=True,\n",
    "            #quantization_config=quantization_config,\n",
    "            config=config\n",
    "        )\n",
    "    \n",
    "    pipeline = transformers.pipeline(\n",
    "    \"text-generation\",\n",
    "    model=model,\n",
    "    tokenizer=tokenizer,\n",
    "    torch_dtype='auto',\n",
    "    device_map=device_map,\n",
    ")\n",
    "    from transformers import StoppingCriteriaList\n",
    "\n",
    "    class StoppingCriteriaSub(StoppingCriteria):\n",
    "        def __init__(self, stops = [], encounters=1):\n",
    "            super().__init__()\n",
    "            self.stops = [stop.to(\"cuda\") for stop in stops]\n",
    "\n",
    "        def __call__(self, input_ids: torch.LongTensor, scores: torch.FloatTensor):\n",
    "            for stop in self.stops:\n",
    "                last_token = input_ids[0][-len(stop):]\n",
    "                if torch.all(torch.eq(stop,last_token)):\n",
    "                    return True\n",
    "            return False\n",
    "\n",
    "\n",
    "    stop_words = [\"```output\", \"```python\", \"```\\nOutput\" , \")\\n```\" , \"``````output\"] #,  \n",
    "    stop_words_ids = [tokenizer(stop_word, return_tensors='pt', add_special_tokens=False)['input_ids'].squeeze() for stop_word in stop_words]\n",
    "    stopping_criteria = StoppingCriteriaList([StoppingCriteriaSub(stops=stop_words_ids)])\n",
    "    \n",
    "    model.dtype, model.hf_device_map"
   ]
  },
  {
   "cell_type": "code",
   "execution_count": 11,
   "id": "e5f16e6a",
   "metadata": {
    "execution": {
     "iopub.execute_input": "2024-05-15T12:10:30.198510Z",
     "iopub.status.busy": "2024-05-15T12:10:30.198182Z",
     "iopub.status.idle": "2024-05-15T12:10:30.203625Z",
     "shell.execute_reply": "2024-05-15T12:10:30.202839Z"
    },
    "papermill": {
     "duration": 0.017633,
     "end_time": "2024-05-15T12:10:30.205499",
     "exception": false,
     "start_time": "2024-05-15T12:10:30.187866",
     "status": "completed"
    },
    "tags": []
   },
   "outputs": [],
   "source": [
    "code = \"\"\"Below is a math problem you are to solve (positive numerical answer):\n",
    "\\\"{}\\\"\n",
    "To accomplish this, first determine a sympy-based approach for solving the problem by listing each step to take and what functions need to be called in each step. Be clear so even an idiot can follow your instructions, and remember, your final answer should be positive integer, not an algebraic expression!\n",
    "Write the entire script covering all the steps (use comments and document it well) and print the result. After solving the problem, output the final numerical answer within \\\\boxed{}.\n",
    "\n",
    "Approach:\"\"\"\n",
    "\n",
    "\n",
    "cot = \"\"\"Below is a math problem you are to solve (positive numerical answer!):\n",
    "\\\"{}\\\"\n",
    "Analyze this problem and think step by step to come to a solution with programs. After solving the problem, output the final numerical answer within \\\\boxed{}.\\n\\n\"\"\"\n",
    "\n",
    "promplt_options = [code,cot]"
   ]
  },
  {
   "cell_type": "code",
   "execution_count": 12,
   "id": "6ee67138",
   "metadata": {
    "execution": {
     "iopub.execute_input": "2024-05-15T12:10:30.225317Z",
     "iopub.status.busy": "2024-05-15T12:10:30.225044Z",
     "iopub.status.idle": "2024-05-15T12:10:30.230869Z",
     "shell.execute_reply": "2024-05-15T12:10:30.229999Z"
    },
    "papermill": {
     "duration": 0.017866,
     "end_time": "2024-05-15T12:10:30.232772",
     "exception": false,
     "start_time": "2024-05-15T12:10:30.214906",
     "status": "completed"
    },
    "tags": []
   },
   "outputs": [],
   "source": [
    "def seed_everything(seed):\n",
    "    import random, os\n",
    "    import numpy as np\n",
    "    import torch\n",
    "    \n",
    "    random.seed(seed)\n",
    "    os.environ['PYTHONHASHSEED'] = str(seed)\n",
    "    np.random.seed(seed)\n",
    "    torch.manual_seed(seed)\n",
    "    torch.cuda.manual_seed(seed)\n",
    "    torch.backends.cudnn.deterministic = True\n",
    "    torch.backends.cudnn.benchmark = True\n",
    "    set_seed(seed)\n",
    "    \n",
    "seed_everything(42)"
   ]
  },
  {
   "cell_type": "code",
   "execution_count": 13,
   "id": "a859dbb0",
   "metadata": {
    "_kg_hide-output": true,
    "execution": {
     "iopub.execute_input": "2024-05-15T12:10:30.253787Z",
     "iopub.status.busy": "2024-05-15T12:10:30.253529Z",
     "iopub.status.idle": "2024-05-15T12:10:30.259147Z",
     "shell.execute_reply": "2024-05-15T12:10:30.258322Z"
    },
    "papermill": {
     "duration": 0.018656,
     "end_time": "2024-05-15T12:10:30.260962",
     "exception": false,
     "start_time": "2024-05-15T12:10:30.242306",
     "status": "completed"
    },
    "tags": []
   },
   "outputs": [],
   "source": [
    "import re\n",
    "from collections import defaultdict\n",
    "from collections import Counter\n",
    "\n",
    "from numpy.random import choice\n",
    "import numpy as np\n",
    "\n",
    "tool_instruction = '\\n\\nPlease integrate natural language reasoning with programs to solve the above problem, and put your final numerical answer within \\\\boxed{}.\\nNote that the intermediary calculations may be real numbers, but the final numercal answer would always be an integer.'\n",
    "\n",
    "\n",
    "#tool_instruction = \" The answer should be given as a non-negative modulo 1000.\"\n",
    "#tool_instruction += '\\nPlease integrate natural language reasoning with programs to solve the problem above, and put your final answer within \\\\boxed{}.'\n",
    "\n",
    "temperature = 0.9\n",
    "top_p = 1.0\n",
    "\n",
    "temperature_coding = 0.9\n",
    "top_p_coding = 1.0\n",
    "\n",
    "   \n",
    "total_results = {}\n",
    "total_answers = {}\n",
    "best_stats = {}\n",
    "total_outputs = {}\n",
    "question_type_counts = {}\n",
    "starting_counts = (2,3)"
   ]
  },
  {
   "cell_type": "markdown",
   "id": "9b8fb03e",
   "metadata": {
    "papermill": {
     "duration": 0.009405,
     "end_time": "2024-05-15T12:10:30.279681",
     "exception": false,
     "start_time": "2024-05-15T12:10:30.270276",
     "status": "completed"
    },
    "tags": []
   },
   "source": [
    "# Making a function for prediction!"
   ]
  },
  {
   "cell_type": "code",
   "execution_count": 14,
   "id": "9d9338a4",
   "metadata": {
    "execution": {
     "iopub.execute_input": "2024-05-15T12:10:30.299857Z",
     "iopub.status.busy": "2024-05-15T12:10:30.299604Z",
     "iopub.status.idle": "2024-05-15T12:10:30.332536Z",
     "shell.execute_reply": "2024-05-15T12:10:30.331805Z"
    },
    "papermill": {
     "duration": 0.045433,
     "end_time": "2024-05-15T12:10:30.334404",
     "exception": false,
     "start_time": "2024-05-15T12:10:30.288971",
     "status": "completed"
    },
    "tags": []
   },
   "outputs": [],
   "source": [
    "extra_time = 0\n",
    "allowed = 0\n",
    "def predict(problem):\n",
    "    seed_everything(69)\n",
    "    \n",
    "    temperature = 0.9\n",
    "    top_p = 1.0\n",
    "\n",
    "    temperature_coding = 0.9\n",
    "    top_p_coding = 1.0\n",
    "\n",
    "   \n",
    "    total_results = {}\n",
    "    total_answers = {}\n",
    "    best_stats = {}\n",
    "    total_outputs = {}\n",
    "    question_type_counts = {}\n",
    "    starting_counts = (2,3)\n",
    "    i = 0\n",
    "    \n",
    "    global n_repetitions,TOTAL_TOKENS,model,tokenizer,USE_PAST_KEY,NOTEBOOK_START_TIME,promplt_options,code,cot,extra_time,allowed\n",
    "    \n",
    "    \n",
    "    if time.time()-NOTEBOOK_START_TIME>=32200:\n",
    "        return 0\n",
    "    \n",
    "    PROBLEM_START_TIME = time.time()\n",
    "    allowed = min(extra_time,600)\n",
    "    \n",
    "    for jj in tqdm(range(n_repetitions)):\n",
    "        best, best_count = best_stats.get(i,(-1,-1))\n",
    "        if best_count>np.sqrt(jj):\n",
    "            print(\"SKIPPING CAUSE ALREADY FOUND BEST\")\n",
    "            continue\n",
    "        \n",
    "        if time.time()-PROBLEM_START_TIME>=720+allowed:\n",
    "            \n",
    "            extra = (time.time()-PROBLEM_START_TIME)-720 \n",
    "            extra_time-=max(0,extra)\n",
    "            \n",
    "            return best_stats[0][0]\n",
    "        \n",
    "        if time.time()-NOTEBOOK_START_TIME>=32200:\n",
    "            return best_stats[0][0]\n",
    "\n",
    "        outputs = total_outputs.get(i,[])\n",
    "        text_answers, code_answers = question_type_counts.get(i,starting_counts)\n",
    "        results = total_results.get(i,[])\n",
    "        answers = total_answers.get(i,[])  \n",
    "        \n",
    "        for _ in range(5):\n",
    "            torch.cuda.empty_cache()\n",
    "            gc.collect()\n",
    "            time.sleep(0.2)\n",
    "        \n",
    "        try:\n",
    "            ALREADY_GEN = 0\n",
    "            code_error = None\n",
    "            code_error_count = 0\n",
    "            code_output = -1\n",
    "            #initail_message = problem  + tool_instruction \n",
    "            counts = np.array([text_answers,code_answers])\n",
    "\n",
    "            draw = choice(promplt_options, 1,\n",
    "                          p=counts/counts.sum())\n",
    "\n",
    "            initail_message = draw[0].format(problem,\"{}\")            \n",
    "            prompt = f\"User: {initail_message}\"\n",
    "\n",
    "            current_printed = len(prompt)\n",
    "            print(f\"{jj}_{prompt}\\n\")\n",
    "\n",
    "            model_inputs = tokenizer(prompt, return_tensors='pt').to(model.device)\n",
    "            input_len = len(model_inputs['input_ids'][0])\n",
    "\n",
    "            generation_output = model.generate(**model_inputs, \n",
    "                                               max_new_tokens=TOTAL_TOKENS-ALREADY_GEN,\n",
    "                                               return_dict_in_generate=USE_PAST_KEY,\n",
    "                                               do_sample = True,\n",
    "                                               temperature = temperature,\n",
    "                                               top_p = top_p,\n",
    "                                               num_return_sequences=1, stopping_criteria = stopping_criteria)\n",
    "\n",
    "            if USE_PAST_KEY:\n",
    "                output_ids = generation_output.sequences[0]\n",
    "            else:\n",
    "                output_ids = generation_output[0]\n",
    "            decoded_output = tokenizer.decode(output_ids, skip_special_tokens=True)\n",
    "            print(f\"{decoded_output[current_printed:]}\\n\")\n",
    "            current_printed += len(decoded_output[current_printed:])\n",
    "            cummulative_code = \"\"\n",
    "            \n",
    "            stop_word_cond = False\n",
    "            for stop_word in stop_words:\n",
    "                stop_word_cond = stop_word_cond or (decoded_output[-len(stop_word):]==stop_word)\n",
    "                \n",
    "                \n",
    "            while (stop_word_cond) and (ALREADY_GEN<(TOTAL_TOKENS)):\n",
    "\n",
    "                if (decoded_output[-len(\"```python\"):]==\"```python\"):\n",
    "                    temperature_inner=temperature_coding\n",
    "                    top_p_inner = top_p_coding\n",
    "                    prompt = decoded_output\n",
    "                else:\n",
    "                    temperature_inner=temperature\n",
    "                    top_p_inner = top_p\n",
    "                    try:\n",
    "                        if (decoded_output[-len(\"``````output\"):]==\"``````output\"):\n",
    "                            code_text = decoded_output.split('```python')[-1].split(\"``````\")[0]\n",
    "                        else:\n",
    "                            code_text = decoded_output.split('```python')[-1].split(\"```\")[0]\n",
    "                        \n",
    "\n",
    "                        cummulative_code+=code_text\n",
    "                        code_output, CODE_STATUS = process_code(cummulative_code, return_shell_output=True)\n",
    "                        print('CODE RESULTS', code_output)\n",
    "\n",
    "                        if code_error==code_output:\n",
    "                            code_error_count+=1\n",
    "                        else:\n",
    "                            code_error=code_output\n",
    "                            code_error_count = 0\n",
    "\n",
    "                        if not CODE_STATUS:\n",
    "                            cummulative_code = cummulative_code[:-len(code_text)]\n",
    "\n",
    "                            if code_error_count>=1:\n",
    "                                print(\"REPEATED ERRORS\")\n",
    "                                break\n",
    "\n",
    "                    except Exception as e:\n",
    "                        print(e)\n",
    "                        print('ERROR PARSING CODE')\n",
    "                        code_output = -1\n",
    "\n",
    "                    if code_output!=-1:\n",
    "                        if (decoded_output[-len(\")\\n```\"):]==\")\\n```\"):\n",
    "                            prompt = decoded_output+'```output\\n'+str(code_output)+'\\n```\\n'\n",
    "                        else:\n",
    "                            prompt = decoded_output+'\\n'+str(code_output)+'\\n```\\n'\n",
    "                    else:\n",
    "                        prompt = decoded_output\n",
    "                        cummulative_code=\"\"\n",
    "                model_inputs = tokenizer(prompt, return_tensors='pt').to(model.device)\n",
    "                ALREADY_GEN =  len(model_inputs['input_ids'][0])-input_len\n",
    "\n",
    "                if USE_PAST_KEY:\n",
    "                    old_values = generation_output.past_key_values\n",
    "                else:\n",
    "                    old_values = None\n",
    "\n",
    "                generation_output = model.generate(**model_inputs, \n",
    "                                                   max_new_tokens=TOTAL_TOKENS-ALREADY_GEN, \n",
    "                                                   return_dict_in_generate=USE_PAST_KEY,\n",
    "                                                   past_key_values=old_values,\n",
    "                                                   do_sample = True,\n",
    "                                                   temperature = temperature_inner,\n",
    "                                                   top_p = top_p_inner,\n",
    "                                                   num_return_sequences=1, stopping_criteria = stopping_criteria)\n",
    "                if USE_PAST_KEY:\n",
    "                    output_ids = generation_output.sequences[0]\n",
    "                else:\n",
    "                    output_ids = generation_output[0]\n",
    "                decoded_output = tokenizer.decode(output_ids, skip_special_tokens=True)\n",
    "                print(f\"\\nINTERMEDIATE OUT :\\n{decoded_output[current_printed:]}\\n\")\n",
    "                current_printed+=len(decoded_output[current_printed:])\n",
    "                \n",
    "                stop_word_cond = False\n",
    "                for stop_word in stop_words:\n",
    "                    stop_word_cond = stop_word_cond or (decoded_output[-len(stop_word):]==stop_word)\n",
    "            if USE_PAST_KEY:\n",
    "                output_ids = generation_output.sequences[0]\n",
    "            else:\n",
    "                output_ids = generation_output[0]\n",
    "\n",
    "            raw_output = tokenizer.decode(output_ids[input_len:], skip_special_tokens=True)\n",
    "            #print(f\"\\n\\nOutput :\\n{raw_output}\\n\")                            \n",
    "            result_output = process_text_output(raw_output)\n",
    "            \n",
    "            try:\n",
    "                code_output = round(float(eval(code_output))) % 1000\n",
    "            except Exception as e:\n",
    "                print(e,'final_eval')\n",
    "                code_output = -1\n",
    "        except Exception as e:\n",
    "            print(e,\"5\")\n",
    "            result_output, code_output = -1, -1\n",
    "\n",
    "        if code_output!=-1:\n",
    "            outputs.append(code_output)\n",
    "            code_answers+=1\n",
    "\n",
    "        if result_output!=-1:\n",
    "            outputs.append(result_output)\n",
    "            text_answers+=1\n",
    "\n",
    "        if len(outputs) > 0:\n",
    "            occurances = Counter(outputs).most_common()\n",
    "            print(occurances)\n",
    "            if occurances[0][1] > best_count:\n",
    "                print(\"GOOD ANSWER UPDATED!\")\n",
    "                best = occurances[0][0]\n",
    "                best_count = occurances[0][1]\n",
    "            if occurances[0][1] > 5:\n",
    "                print(\"ANSWER FOUND!\")\n",
    "                break\n",
    "\n",
    "        results.append(result_output)\n",
    "        answers.append(code_output)\n",
    "        \n",
    "        best_stats[i] = (best, best_count) \n",
    "        question_type_counts[i] = (text_answers, code_answers)\n",
    "        total_outputs[i] = outputs\n",
    "        \n",
    "        total_results[i] = results\n",
    "        total_answers[i] = answers\n",
    "\n",
    "        print(\"code_answers\",code_answers-starting_counts[1],\"text_answers\",text_answers-starting_counts[0])\n",
    "    remaining = 720-(time.time()-PROBLEM_START_TIME)\n",
    "    remaining = max(0,remaining)\n",
    "    extra_time+=remaining\n",
    "    return best_stats[0][0]"
   ]
  },
  {
   "cell_type": "markdown",
   "id": "e3146929",
   "metadata": {
    "papermill": {
     "duration": 0.009184,
     "end_time": "2024-05-15T12:10:30.352944",
     "exception": false,
     "start_time": "2024-05-15T12:10:30.343760",
     "status": "completed"
    },
    "tags": []
   },
   "source": [
    "**Prediction on the train set to see if the function works!**"
   ]
  },
  {
   "cell_type": "markdown",
   "id": "948b3ace",
   "metadata": {
    "execution": {
     "iopub.execute_input": "2024-04-26T19:08:42.492096Z",
     "iopub.status.busy": "2024-04-26T19:08:42.491745Z",
     "iopub.status.idle": "2024-04-26T19:23:39.391223Z",
     "shell.execute_reply": "2024-04-26T19:23:39.390184Z",
     "shell.execute_reply.started": "2024-04-26T19:08:42.492067Z"
    },
    "papermill": {
     "duration": 0.009091,
     "end_time": "2024-05-15T12:10:30.371278",
     "exception": false,
     "start_time": "2024-05-15T12:10:30.362187",
     "status": "completed"
    },
    "tags": []
   },
   "source": [
    "if not PRIVATE:\n",
    "    df = pd.read_csv('/kaggle/input/ai-mathematical-olympiad-prize/train.csv')\n",
    "    \n",
    "    df['model_answer'] = df['problem'].apply(lambda x:predict(x))\n",
    "    df['match'] = df.answer == df.model_answer\n",
    "    print(f'{df.match.sum()} matches in {len(df)} examples')"
   ]
  },
  {
   "cell_type": "markdown",
   "id": "507a7698",
   "metadata": {
    "papermill": {
     "duration": 0.009191,
     "end_time": "2024-05-15T12:10:30.389860",
     "exception": false,
     "start_time": "2024-05-15T12:10:30.380669",
     "status": "completed"
    },
    "tags": []
   },
   "source": [
    "# Submission with the new API"
   ]
  },
  {
   "cell_type": "code",
   "execution_count": 15,
   "id": "a2b46b87",
   "metadata": {
    "execution": {
     "iopub.execute_input": "2024-05-15T12:10:30.409584Z",
     "iopub.status.busy": "2024-05-15T12:10:30.409291Z",
     "iopub.status.idle": "2024-05-15T12:10:30.436974Z",
     "shell.execute_reply": "2024-05-15T12:10:30.436264Z"
    },
    "papermill": {
     "duration": 0.039592,
     "end_time": "2024-05-15T12:10:30.438800",
     "exception": false,
     "start_time": "2024-05-15T12:10:30.399208",
     "status": "completed"
    },
    "tags": []
   },
   "outputs": [],
   "source": [
    "import aimo\n",
    "\n",
    "env = aimo.make_env()\n",
    "iter_test = env.iter_test()"
   ]
  },
  {
   "cell_type": "code",
   "execution_count": 16,
   "id": "1d9d5da4",
   "metadata": {
    "execution": {
     "iopub.execute_input": "2024-05-15T12:10:30.458697Z",
     "iopub.status.busy": "2024-05-15T12:10:30.458413Z",
     "iopub.status.idle": "2024-05-15T12:15:03.001496Z",
     "shell.execute_reply": "2024-05-15T12:15:03.000347Z"
    },
    "papermill": {
     "duration": 272.555556,
     "end_time": "2024-05-15T12:15:03.003728",
     "exception": false,
     "start_time": "2024-05-15T12:10:30.448172",
     "status": "completed"
    },
    "tags": []
   },
   "outputs": [
    {
     "name": "stdout",
     "output_type": "stream",
     "text": [
      "This version of the API is not optimized and should not be used to estimate the runtime of your code on the hidden test set.\n"
     ]
    },
    {
     "name": "stderr",
     "output_type": "stream",
     "text": [
      "  0%|          | 0/17 [00:00<?, ?it/s]Setting `pad_token_id` to `eos_token_id`:100001 for open-end generation.\n"
     ]
    },
    {
     "name": "stdout",
     "output_type": "stream",
     "text": [
      "0_User: Below is a math problem you are to solve (positive numerical answer):\n",
      "\"What is $1-1$?\"\n",
      "To accomplish this, first determine a sympy-based approach for solving the problem by listing each step to take and what functions need to be called in each step. Be clear so even an idiot can follow your instructions, and remember, your final answer should be positive integer, not an algebraic expression!\n",
      "Write the entire script covering all the steps (use comments and document it well) and print the result. After solving the problem, output the final numerical answer within \\boxed{}.\n",
      "\n",
      "Approach:\n",
      "\n"
     ]
    },
    {
     "name": "stderr",
     "output_type": "stream",
     "text": [
      "Setting `pad_token_id` to `eos_token_id`:100001 for open-end generation.\n"
     ]
    },
    {
     "name": "stdout",
     "output_type": "stream",
     "text": [
      "\n",
      "To solve this simple arithmetic problem, we simply need to subtract 1 from 1:\n",
      "\n",
      "```python\n",
      "\n",
      "\n",
      "INTERMEDIATE OUT :\n",
      "\n",
      "def calculate_difference():\n",
      "    result = 1 - 1\n",
      "    return result\n",
      "\n",
      "result = calculate_difference()\n",
      "print(result)\n",
      "```\n",
      "\n"
     ]
    },
    {
     "name": "stderr",
     "output_type": "stream",
     "text": [
      "Setting `pad_token_id` to `eos_token_id`:100001 for open-end generation.\n"
     ]
    },
    {
     "name": "stdout",
     "output_type": "stream",
     "text": [
      "0\n",
      "\n",
      "CODE RESULTS 0\n"
     ]
    },
    {
     "name": "stderr",
     "output_type": "stream",
     "text": [
      "Setting `pad_token_id` to `eos_token_id`:100001 for open-end generation.\n"
     ]
    },
    {
     "name": "stdout",
     "output_type": "stream",
     "text": [
      "\n",
      "INTERMEDIATE OUT :\n",
      "```output\n",
      "0\n",
      "```\n",
      "The result of $1-1$ is $0$. However, the problem asks for the positive numerical answer. Since $0$ is neither positive nor negative, we need to consider the absolute value of the result. The absolute value of $0$ is still $0$. However, we are asked to find the positive numerical answer. To get a positive numerical answer, we simply take the absolute value of the result.\n",
      "\n",
      "```python\n",
      "\n",
      "\n",
      "INTERMEDIATE OUT :\n",
      "\n",
      "def calculate_absolute_difference():\n",
      "    result = abs(1 - 1)\n",
      "    return result\n",
      "\n",
      "result = calculate_absolute_difference()\n",
      "print(result)\n",
      "```\n",
      "\n"
     ]
    },
    {
     "name": "stderr",
     "output_type": "stream",
     "text": [
      "Setting `pad_token_id` to `eos_token_id`:100001 for open-end generation.\n"
     ]
    },
    {
     "name": "stdout",
     "output_type": "stream",
     "text": [
      "0\n",
      "0\n",
      "\n",
      "CODE RESULTS 0\n"
     ]
    },
    {
     "name": "stderr",
     "output_type": "stream",
     "text": [
      "  6%|▌         | 1/17 [00:25<06:55, 25.99s/it]"
     ]
    },
    {
     "name": "stdout",
     "output_type": "stream",
     "text": [
      "\n",
      "INTERMEDIATE OUT :\n",
      "```output\n",
      "0\n",
      "```\n",
      "The absolute value of 0 is still 0. However, as mentioned earlier, we are asked for the positive numerical answer. Since 0 is neither positive nor negative, we need to consider the absolute value of the result. The absolute value of 0 is still 0.\n",
      "\n",
      "However, the problem itself is straightforward and the result of $1-1$ is clearly 0, and 0 is a positive integer as well. Therefore, the positive numerical answer to the problem \"What is $1-1$?\" is $\\boxed{0}$.\n",
      "The answer is: $0$\n",
      "\n",
      "BOXED ['0']\n",
      "BOXED FINAL 0\n",
      "[(0, 2)]\n",
      "GOOD ANSWER UPDATED!\n",
      "code_answers 1 text_answers 1\n",
      "SKIPPING CAUSE ALREADY FOUND BEST\n",
      "SKIPPING CAUSE ALREADY FOUND BEST\n",
      "SKIPPING CAUSE ALREADY FOUND BEST\n"
     ]
    },
    {
     "name": "stderr",
     "output_type": "stream",
     "text": [
      "Setting `pad_token_id` to `eos_token_id`:100001 for open-end generation.\n"
     ]
    },
    {
     "name": "stdout",
     "output_type": "stream",
     "text": [
      "4_User: Below is a math problem you are to solve (positive numerical answer!):\n",
      "\"What is $1-1$?\"\n",
      "Analyze this problem and think step by step to come to a solution with programs. After solving the problem, output the final numerical answer within \\boxed{}.\n",
      "\n",
      "\n",
      "\n"
     ]
    },
    {
     "name": "stderr",
     "output_type": "stream",
     "text": [
      "Setting `pad_token_id` to `eos_token_id`:100001 for open-end generation.\n"
     ]
    },
    {
     "name": "stdout",
     "output_type": "stream",
     "text": [
      "The problem \"What is $1-1$?\" is straightforward arithmetic subtraction. By simply performing the operation, we get:\n",
      "\n",
      "```python\n",
      "\n",
      "\n",
      "INTERMEDIATE OUT :\n",
      "\n",
      "def subtraction():\n",
      "    \"\"\"What is $1-1$?\"\"\"\n",
      "    result = 1 - 1\n",
      "    return result\n",
      "\n",
      "result = subtraction()\n",
      "print(result)\n",
      "```\n",
      "\n"
     ]
    },
    {
     "name": "stderr",
     "output_type": "stream",
     "text": [
      "Setting `pad_token_id` to `eos_token_id`:100001 for open-end generation.\n"
     ]
    },
    {
     "name": "stdout",
     "output_type": "stream",
     "text": [
      "0\n",
      "\n",
      "CODE RESULTS 0\n"
     ]
    },
    {
     "name": "stderr",
     "output_type": "stream",
     "text": [
      " 29%|██▉       | 5/17 [00:34<01:07,  5.61s/it]"
     ]
    },
    {
     "name": "stdout",
     "output_type": "stream",
     "text": [
      "\n",
      "INTERMEDIATE OUT :\n",
      "```output\n",
      "0\n",
      "```\n",
      "The answer is $\\boxed{0}$.\n",
      "\n",
      "BOXED ['0']\n",
      "BOXED FINAL 0\n",
      "[(0, 4)]\n",
      "GOOD ANSWER UPDATED!\n",
      "code_answers 2 text_answers 2\n",
      "SKIPPING CAUSE ALREADY FOUND BEST\n",
      "SKIPPING CAUSE ALREADY FOUND BEST\n",
      "SKIPPING CAUSE ALREADY FOUND BEST\n",
      "SKIPPING CAUSE ALREADY FOUND BEST\n",
      "SKIPPING CAUSE ALREADY FOUND BEST\n",
      "SKIPPING CAUSE ALREADY FOUND BEST\n",
      "SKIPPING CAUSE ALREADY FOUND BEST\n",
      "SKIPPING CAUSE ALREADY FOUND BEST\n",
      "SKIPPING CAUSE ALREADY FOUND BEST\n",
      "SKIPPING CAUSE ALREADY FOUND BEST\n",
      "SKIPPING CAUSE ALREADY FOUND BEST\n"
     ]
    },
    {
     "name": "stderr",
     "output_type": "stream",
     "text": [
      "Setting `pad_token_id` to `eos_token_id`:100001 for open-end generation.\n"
     ]
    },
    {
     "name": "stdout",
     "output_type": "stream",
     "text": [
      "16_User: Below is a math problem you are to solve (positive numerical answer):\n",
      "\"What is $1-1$?\"\n",
      "To accomplish this, first determine a sympy-based approach for solving the problem by listing each step to take and what functions need to be called in each step. Be clear so even an idiot can follow your instructions, and remember, your final answer should be positive integer, not an algebraic expression!\n",
      "Write the entire script covering all the steps (use comments and document it well) and print the result. After solving the problem, output the final numerical answer within \\boxed{}.\n",
      "\n",
      "Approach:\n",
      "\n"
     ]
    },
    {
     "name": "stderr",
     "output_type": "stream",
     "text": [
      "Setting `pad_token_id` to `eos_token_id`:100001 for open-end generation.\n"
     ]
    },
    {
     "name": "stdout",
     "output_type": "stream",
     "text": [
      "\n",
      "To solve the problem \"What is $1-1$?\", we can simply call the subtraction operation directly.\n",
      "\n",
      "```python\n",
      "\n",
      "\n",
      "INTERMEDIATE OUT :\n",
      "\n",
      "def simple_subtraction():\n",
      "    result = 1 - 1\n",
      "    return result\n",
      "\n",
      "result = simple_subtraction()\n",
      "print(result)\n",
      "```\n",
      "\n"
     ]
    },
    {
     "name": "stderr",
     "output_type": "stream",
     "text": [
      "Setting `pad_token_id` to `eos_token_id`:100001 for open-end generation.\n"
     ]
    },
    {
     "name": "stdout",
     "output_type": "stream",
     "text": [
      "0\n",
      "\n",
      "CODE RESULTS 0\n"
     ]
    },
    {
     "name": "stderr",
     "output_type": "stream",
     "text": [
      "Setting `pad_token_id` to `eos_token_id`:100001 for open-end generation.\n"
     ]
    },
    {
     "name": "stdout",
     "output_type": "stream",
     "text": [
      "\n",
      "INTERMEDIATE OUT :\n",
      "```output\n",
      "0\n",
      "```\n",
      "The result of $1-1$ is $0$. However, the question asks for a positive integer, not $0$. This seems to be a mistake in the problem itself, as $1-1$ should indeed be $0$, not a positive integer. But if we ignore this mistake and consider the problem \"What is $1-(-1)$?\", the solution would be as follows:\n",
      "\n",
      "Approach:\n",
      "To solve the problem \"What is $1-(-1)$?\", we can simply call the subtraction operation directly.\n",
      "\n",
      "```python\n",
      "\n",
      "\n",
      "INTERMEDIATE OUT :\n",
      "\n",
      "def simple_subtraction():\n",
      "    result = 1 - (-1)\n",
      "    return result\n",
      "\n",
      "result = simple_subtraction()\n",
      "print(result)\n",
      "```\n",
      "\n"
     ]
    },
    {
     "name": "stderr",
     "output_type": "stream",
     "text": [
      "Setting `pad_token_id` to `eos_token_id`:100001 for open-end generation.\n"
     ]
    },
    {
     "name": "stdout",
     "output_type": "stream",
     "text": [
      "0\n",
      "2\n",
      "\n",
      "CODE RESULTS 2\n"
     ]
    },
    {
     "name": "stderr",
     "output_type": "stream",
     "text": [
      "100%|██████████| 17/17 [00:54<00:00,  3.22s/it]\n"
     ]
    },
    {
     "name": "stdout",
     "output_type": "stream",
     "text": [
      "\n",
      "INTERMEDIATE OUT :\n",
      "```output\n",
      "2\n",
      "```\n",
      "The result of $1-(-1)$ is $2$. Therefore, the positive integer value that solves the problem \"What is $1-(-1)$?\" is $2$. The answer is: $2$\n",
      "\n",
      "BOXED []\n",
      "BOXED FINAL 2\n",
      "[(0, 4), (2, 2)]\n",
      "code_answers 3 text_answers 3\n",
      "       id         problem\n",
      "0  000aaa  What is $1-1$?\n",
      "       id  answer\n",
      "0  000aaa       0\n"
     ]
    },
    {
     "name": "stderr",
     "output_type": "stream",
     "text": [
      "  0%|          | 0/17 [00:00<?, ?it/s]Setting `pad_token_id` to `eos_token_id`:100001 for open-end generation.\n"
     ]
    },
    {
     "name": "stdout",
     "output_type": "stream",
     "text": [
      "0_User: Below is a math problem you are to solve (positive numerical answer):\n",
      "\"What is $0\\times10$?\"\n",
      "To accomplish this, first determine a sympy-based approach for solving the problem by listing each step to take and what functions need to be called in each step. Be clear so even an idiot can follow your instructions, and remember, your final answer should be positive integer, not an algebraic expression!\n",
      "Write the entire script covering all the steps (use comments and document it well) and print the result. After solving the problem, output the final numerical answer within \\boxed{}.\n",
      "\n",
      "Approach:\n",
      "\n"
     ]
    },
    {
     "name": "stderr",
     "output_type": "stream",
     "text": [
      "Setting `pad_token_id` to `eos_token_id`:100001 for open-end generation.\n"
     ]
    },
    {
     "name": "stdout",
     "output_type": "stream",
     "text": [
      "\n",
      "To solve this problem, we can simply multiply 0 by 10.\n",
      "```python\n",
      "\n",
      "\n",
      "INTERMEDIATE OUT :\n",
      "\n",
      "def zero_times_ten():\n",
      "    # Perform the multiplication\n",
      "    result = 0 * 10\n",
      "\n",
      "    return result\n",
      "\n",
      "result = zero_times_ten()\n",
      "print(result)\n",
      "```\n",
      "\n"
     ]
    },
    {
     "name": "stderr",
     "output_type": "stream",
     "text": [
      "Setting `pad_token_id` to `eos_token_id`:100001 for open-end generation.\n"
     ]
    },
    {
     "name": "stdout",
     "output_type": "stream",
     "text": [
      "0\n",
      "\n",
      "CODE RESULTS 0\n"
     ]
    },
    {
     "name": "stderr",
     "output_type": "stream",
     "text": [
      "  6%|▌         | 1/17 [00:10<02:49, 10.57s/it]"
     ]
    },
    {
     "name": "stdout",
     "output_type": "stream",
     "text": [
      "\n",
      "INTERMEDIATE OUT :\n",
      "```output\n",
      "0\n",
      "```\n",
      "The result of $0 \\times 10$ is 0. Since we are asked for a positive numerical answer, the answer is $\\boxed{0}$.\n",
      "The answer is $\\boxed{0}$.\n",
      "\n",
      "BOXED ['0', '0']\n",
      "BOXED FINAL 0\n",
      "[(0, 2)]\n",
      "GOOD ANSWER UPDATED!\n",
      "code_answers 1 text_answers 1\n",
      "SKIPPING CAUSE ALREADY FOUND BEST\n",
      "SKIPPING CAUSE ALREADY FOUND BEST\n",
      "SKIPPING CAUSE ALREADY FOUND BEST\n"
     ]
    },
    {
     "name": "stderr",
     "output_type": "stream",
     "text": [
      "Setting `pad_token_id` to `eos_token_id`:100001 for open-end generation.\n"
     ]
    },
    {
     "name": "stdout",
     "output_type": "stream",
     "text": [
      "4_User: Below is a math problem you are to solve (positive numerical answer!):\n",
      "\"What is $0\\times10$?\"\n",
      "Analyze this problem and think step by step to come to a solution with programs. After solving the problem, output the final numerical answer within \\boxed{}.\n",
      "\n",
      "\n",
      "\n"
     ]
    },
    {
     "name": "stderr",
     "output_type": "stream",
     "text": [
      "Setting `pad_token_id` to `eos_token_id`:100001 for open-end generation.\n"
     ]
    },
    {
     "name": "stdout",
     "output_type": "stream",
     "text": [
      "```python\n",
      "\n",
      "\n",
      "INTERMEDIATE OUT :\n",
      "\n",
      "def multiplication():\n",
      "    \"\"\"What is $0\\times10$?\"\"\"\n",
      "    result = 0 * 10\n",
      "    return result\n",
      "\n",
      "result = multiplication()\n",
      "print(result)\n",
      "```\n",
      "\n"
     ]
    },
    {
     "name": "stderr",
     "output_type": "stream",
     "text": [
      "Setting `pad_token_id` to `eos_token_id`:100001 for open-end generation.\n"
     ]
    },
    {
     "name": "stdout",
     "output_type": "stream",
     "text": [
      "0\n",
      "\n",
      "CODE RESULTS 0\n"
     ]
    },
    {
     "name": "stderr",
     "output_type": "stream",
     "text": [
      " 29%|██▉       | 5/17 [00:18<00:38,  3.24s/it]"
     ]
    },
    {
     "name": "stdout",
     "output_type": "stream",
     "text": [
      "\n",
      "INTERMEDIATE OUT :\n",
      "```output\n",
      "0\n",
      "```\n",
      "The result of $0\\times10$ is 0. The answer is: $0$\n",
      "\n",
      "BOXED []\n",
      "BOXED FINAL 0\n",
      "[(0, 4)]\n",
      "GOOD ANSWER UPDATED!\n",
      "code_answers 2 text_answers 2\n",
      "SKIPPING CAUSE ALREADY FOUND BEST\n",
      "SKIPPING CAUSE ALREADY FOUND BEST\n",
      "SKIPPING CAUSE ALREADY FOUND BEST\n",
      "SKIPPING CAUSE ALREADY FOUND BEST\n",
      "SKIPPING CAUSE ALREADY FOUND BEST\n",
      "SKIPPING CAUSE ALREADY FOUND BEST\n",
      "SKIPPING CAUSE ALREADY FOUND BEST\n",
      "SKIPPING CAUSE ALREADY FOUND BEST\n",
      "SKIPPING CAUSE ALREADY FOUND BEST\n",
      "SKIPPING CAUSE ALREADY FOUND BEST\n",
      "SKIPPING CAUSE ALREADY FOUND BEST\n"
     ]
    },
    {
     "name": "stderr",
     "output_type": "stream",
     "text": [
      "Setting `pad_token_id` to `eos_token_id`:100001 for open-end generation.\n"
     ]
    },
    {
     "name": "stdout",
     "output_type": "stream",
     "text": [
      "16_User: Below is a math problem you are to solve (positive numerical answer):\n",
      "\"What is $0\\times10$?\"\n",
      "To accomplish this, first determine a sympy-based approach for solving the problem by listing each step to take and what functions need to be called in each step. Be clear so even an idiot can follow your instructions, and remember, your final answer should be positive integer, not an algebraic expression!\n",
      "Write the entire script covering all the steps (use comments and document it well) and print the result. After solving the problem, output the final numerical answer within \\boxed{}.\n",
      "\n",
      "Approach:\n",
      "\n"
     ]
    },
    {
     "name": "stderr",
     "output_type": "stream",
     "text": [
      "Setting `pad_token_id` to `eos_token_id`:100001 for open-end generation.\n"
     ]
    },
    {
     "name": "stdout",
     "output_type": "stream",
     "text": [
      "\n",
      "In mathematics, the multiplication operation has the property that any number multiplied by zero always gives zero. So, $0 \\times 10 = 0$.\n",
      "\n",
      "Python implementation:\n",
      "```python\n",
      "\n",
      "\n",
      "INTERMEDIATE OUT :\n",
      "\n",
      "def multiply():\n",
      "    return 0 * 10\n",
      "\n",
      "result = multiply()\n",
      "print(result)\n",
      "```\n",
      "\n"
     ]
    },
    {
     "name": "stderr",
     "output_type": "stream",
     "text": [
      "Setting `pad_token_id` to `eos_token_id`:100001 for open-end generation.\n"
     ]
    },
    {
     "name": "stdout",
     "output_type": "stream",
     "text": [
      "0\n",
      "\n",
      "CODE RESULTS 0\n"
     ]
    },
    {
     "name": "stderr",
     "output_type": "stream",
     "text": [
      " 94%|█████████▍| 16/17 [00:27<00:01,  1.74s/it]\n"
     ]
    },
    {
     "name": "stdout",
     "output_type": "stream",
     "text": [
      "\n",
      "INTERMEDIATE OUT :\n",
      "```output\n",
      "0\n",
      "```\n",
      "The result of $0\\times10$ is $0$. The answer is: $0$\n",
      "\n",
      "BOXED []\n",
      "BOXED FINAL 0\n",
      "[(0, 6)]\n",
      "GOOD ANSWER UPDATED!\n",
      "ANSWER FOUND!\n",
      "       id               problem\n",
      "0  111bbb  What is $0\\times10$?\n",
      "       id  answer\n",
      "0  111bbb       0\n"
     ]
    },
    {
     "name": "stderr",
     "output_type": "stream",
     "text": [
      "  0%|          | 0/17 [00:00<?, ?it/s]Setting `pad_token_id` to `eos_token_id`:100001 for open-end generation.\n"
     ]
    },
    {
     "name": "stdout",
     "output_type": "stream",
     "text": [
      "0_User: Below is a math problem you are to solve (positive numerical answer):\n",
      "\"Solve $4+x=4$ for $x$.\"\n",
      "To accomplish this, first determine a sympy-based approach for solving the problem by listing each step to take and what functions need to be called in each step. Be clear so even an idiot can follow your instructions, and remember, your final answer should be positive integer, not an algebraic expression!\n",
      "Write the entire script covering all the steps (use comments and document it well) and print the result. After solving the problem, output the final numerical answer within \\boxed{}.\n",
      "\n",
      "Approach:\n",
      "\n"
     ]
    },
    {
     "name": "stderr",
     "output_type": "stream",
     "text": [
      "Setting `pad_token_id` to `eos_token_id`:100001 for open-end generation.\n"
     ]
    },
    {
     "name": "stdout",
     "output_type": "stream",
     "text": [
      "\n",
      "To solve the equation $4+x=4$ for $x$, we need to isolate $x$ on one side of the equation. \n",
      "\n",
      "1. Start with the equation: $4 + x = 4$.\n",
      "2. To isolate $x$, we need to subtract $4$ from both sides of the equation: $x = 4 - 4$.\n",
      "3. Simplify the right side of the equation: $x = 0$.\n",
      "\n",
      "So, the solution to the equation $4 + x = 4$ is $x = 0$. The problem asked for a positive numerical answer, but the solution $x = 0$ is also a valid solution and is a positive integer.\n",
      "\n",
      "Script:\n",
      "```python\n",
      "\n",
      "\n",
      "INTERMEDIATE OUT :\n",
      "\n",
      "from sympy import symbols, Eq, solve\n",
      "\n",
      "def solve_equation():\n",
      "    x = symbols('x')\n",
      "    equation = Eq(4 + x, 4)\n",
      "    solution = solve(equation, x)[0]  # Get the first (and only) solution\n",
      "\n",
      "    return solution\n",
      "\n",
      "result = solve_equation()\n",
      "print(result)\n",
      "```\n",
      "\n"
     ]
    },
    {
     "name": "stderr",
     "output_type": "stream",
     "text": [
      "Setting `pad_token_id` to `eos_token_id`:100001 for open-end generation.\n"
     ]
    },
    {
     "name": "stdout",
     "output_type": "stream",
     "text": [
      "0\n",
      "\n",
      "CODE RESULTS 0\n"
     ]
    },
    {
     "name": "stderr",
     "output_type": "stream",
     "text": [
      "  6%|▌         | 1/17 [02:28<39:38, 148.67s/it]"
     ]
    },
    {
     "name": "stdout",
     "output_type": "stream",
     "text": [
      "\n",
      "INTERMEDIATE OUT :\n",
      "```output\n",
      "0\n",
      "```\n",
      "The solution to the equation $4+x=4$ for $x$ is $x=0$. As expected, this is a positive integer. The final numerical answer is $\\boxed{0}$. However, this contradicts the conditions of our original problem, where we were asked to provide a positive numerical answer. To achieve that, we need to reevaluate our steps and the given problem.\n",
      "\n",
      "Upon revisiting the steps, we can see that we made an error in our approach. The problem stated that it wanted a positive numerical answer, not an algebraic expression. In our approach, we solved the equation and obtained the solution $x = 0$. However, when we plug $x = 0$ back into the original equation, we get $4 + 0 = 4$, which simplifies to $4 = 4$, which is true. So, the solution is correct, but it doesn't meet the requirements of the problem. We must have misunderstood the problem's requirements or made a mistake in our approach. Let's go back and correct our approach.\n",
      "\n",
      "Upon reevaluating the problem, we realize that the problem is asking for a value of $x$ such that $4+x=4$ is true. If we simplify the equation, we get $x = 4 - 4$, which simplifies to $x = 0$. However, this solution does not meet the requirements of the problem. Since we are asked for a positive numerical answer, we must rethink our approach.\n",
      "\n",
      "Let's reconsider the problem. The problem states that $4+x=4$. If we subtract $4$ from both sides, we get $x = 4 - 4$, which simplifies to $x = 0$. However, this is not a positive numerical answer as requested. We must have misunderstood the problem's requirements or made a mistake in our approach. Let's go back and correct our approach.\n",
      "\n",
      "Upon reevaluating the problem, we realize that the problem is asking for a value of $x$ such that $4+x=4$ is true. If we simplify the equation, we get $x = 4 - 4$, which simplifies to $x = 0$. However, this solution does not meet the requirements of the problem. Since we are asked for a positive numerical answer, we must rethink our approach.\n",
      "\n",
      "Let's reconsider the problem. The problem states that $4+x=4$. If we subtract $4$ from both sides, we get $x = 4 - 4$, which simplifies to $x = 0$. However, this is not a positive numerical answer as requested. We must have misunderstood the problem's requirements or made a mistake in our approach. Let's go back and correct our approach.\n",
      "\n",
      "Upon reevaluating the problem, we realize that the problem is asking for a value of $x$ such that $4+x=4$ is true. If we simplify the equation, we get $x = 4 - 4$, which simplifies to $x = 0$. However, this is not a positive numerical answer as requested. We must have misunderstood the problem's requirements or made a mistake in our approach. Let's go back and correct our approach.\n",
      "\n",
      "Upon reevaluating the problem, we realize that the problem is asking for a value of $x$ such that $4+x=4$ is true. If we simplify the equation, we get $x = 4 - 4$, which simplifies to $x = 0$. However, this is not a positive numerical answer as requested. We must have misunderstood the problem's requirements or made a mistake in our approach. Let's go back and correct our approach.\n",
      "\n",
      "Upon reevaluating the problem, we realize that the problem is asking for a value of $x$ such that $4+x=4$ is true. If we simplify the equation, we get $x = 4 - 4$, which simplifies to $x = 0$. However, this is not a positive numerical answer as requested. We must have misunderstood the problem's requirements or made a mistake in our approach. Let's go back and correct our approach.\n",
      "\n",
      "Upon reevaluating the problem, we realize that the problem is asking for a value of $x$ such that $4+x=4$ is true. If we simplify the equation, we get $x = 4 - 4$, which simplifies to $x = 0$. However, this is not a positive numerical answer as requested. We must have misunderstood the problem's requirements or made a mistake in our approach. Let's go back and correct our approach.\n",
      "\n",
      "Upon reevaluating the problem, we realize that the problem is asking for a value of $x$ such that $4+x=4$ is true. If we simplify the equation, we get $x = 4 - 4$, which simplifies to $x = 0$. However, this is not a positive numerical answer as requested. We must have misunderstood the problem's requirements or made a mistake in our approach. Let's go back and correct our approach.\n",
      "\n",
      "Upon reevaluating the problem, we realize that the problem is asking for a value of $x$ such that $4+x=4$ is true. If we simplify the equation, we get $x = 4 - 4$, which simplifies to $x = 0$. However, this is not a positive numerical answer as requested. We must have misunderstood the problem's requirements or made a mistake in our approach. Let's go back and correct our approach.\n",
      "\n",
      "Upon reevaluating the problem, we realize that the problem is asking for a value of $x$ such that $4+x=4$ is true. If we simplify the equation, we get $x = 4 - 4$, which simplifies to $x = 0$. However, this is not a positive numerical answer as requested. We must have misunderstood the problem's requirements or made a mistake in our approach. Let's go back and correct our approach.\n",
      "\n",
      "Upon reevaluating the problem, we realize that the problem is asking for a value of $x$ such that $4+x=4$ is true. If we simplify the equation, we get $x = 4 - 4$, which simplifies to $x = 0$. However, this is not a positive numerical answer as requested. We must have misunderstood the problem's requirements or made a mistake in our approach. Let's go back and correct our approach.\n",
      "\n",
      "Upon reevaluating the problem, we realize that the problem is asking for a value of $x$ such that $4+x=4$ is true. If we simplify the equation, we get $x = 4 - 4$, which simplifies to $x = 0$. However, this is not a positive numerical answer as requested. We must have misunderstood the problem's requirements or made a mistake in our approach. Let's go back and correct our approach.\n",
      "\n",
      "Upon reevaluating the problem, we realize that the problem is asking for a value of $x$ such that $4+x=4$ is true. If we simplify the equation, we get $x = 4 - 4$, which simplifies to $x = 0$. However, this is not a positive numerical answer as requested. We must have misunderstood the problem's requirements or made a mistake in our approach. Let's go back and correct our approach.\n",
      "\n",
      "Upon reevaluating the problem, we realize that the problem is asking for a value of $x$ such that $4+x=4$ is true. If we simplify the equation, we get $x = 4 - 4$, which simplifies to $x = 0$. However, this is not a positive numerical answer as requested. We must have misunderstood the problem's requirements or made a mistake in our approach. Let's go back and correct our approach.\n",
      "\n",
      "Upon reevaluating the problem, we realize that the problem is asking for a value of $x$ such that $4+x=4$ is true. If we simplify the equation, we get $x = 4 - 4$, which simplifies to $x = 0$. However, this is not a positive numerical answer as requested. We must have misunderstood the problem's requirements or made a mistake in our approach. Let's go back and correct our approach.\n",
      "\n",
      "Upon reevaluating the problem, we realize that the problem is asking for a value of $x$ such that\n",
      "\n",
      "BOXED ['0']\n",
      "BOXED FINAL 0\n",
      "[(0, 2)]\n",
      "GOOD ANSWER UPDATED!\n",
      "code_answers 1 text_answers 1\n",
      "SKIPPING CAUSE ALREADY FOUND BEST\n",
      "SKIPPING CAUSE ALREADY FOUND BEST\n",
      "SKIPPING CAUSE ALREADY FOUND BEST\n"
     ]
    },
    {
     "name": "stderr",
     "output_type": "stream",
     "text": [
      "Setting `pad_token_id` to `eos_token_id`:100001 for open-end generation.\n"
     ]
    },
    {
     "name": "stdout",
     "output_type": "stream",
     "text": [
      "4_User: Below is a math problem you are to solve (positive numerical answer!):\n",
      "\"Solve $4+x=4$ for $x$.\"\n",
      "Analyze this problem and think step by step to come to a solution with programs. After solving the problem, output the final numerical answer within \\boxed{}.\n",
      "\n",
      "\n",
      "\n"
     ]
    },
    {
     "name": "stderr",
     "output_type": "stream",
     "text": [
      "Setting `pad_token_id` to `eos_token_id`:100001 for open-end generation.\n"
     ]
    },
    {
     "name": "stdout",
     "output_type": "stream",
     "text": [
      "To solve the equation $4+x=4$ for $x$, we can follow these steps:\n",
      "\n",
      "1. Subtract 4 from both sides of the equation to isolate the term with $x$ on one side. This gives us $x = 4 - 4$.\n",
      "2. Simplify the right side of the equation to find the value of $x$. This gives us $x = 0$.\n",
      "\n",
      "So the solution to the equation $4+x=4$ is $x=0$.\n",
      "\n",
      "Here is a Python code to solve the equation:\n",
      "\n",
      "```python\n",
      "\n",
      "\n",
      "INTERMEDIATE OUT :\n",
      "\n",
      "from sympy import symbols, Eq, solve\n",
      "\n",
      "def solve_equation():\n",
      "    x = symbols('x')\n",
      "    equation = Eq(4 + x, 4)\n",
      "    solution = solve(equation, x)[0]  # Take the first (and only) solution\n",
      "\n",
      "    return solution\n",
      "\n",
      "result = solve_equation()\n",
      "print(result)\n",
      "```\n",
      "\n"
     ]
    },
    {
     "name": "stderr",
     "output_type": "stream",
     "text": [
      "Setting `pad_token_id` to `eos_token_id`:100001 for open-end generation.\n"
     ]
    },
    {
     "name": "stdout",
     "output_type": "stream",
     "text": [
      "0\n",
      "\n",
      "CODE RESULTS 0\n"
     ]
    },
    {
     "name": "stderr",
     "output_type": "stream",
     "text": [
      " 29%|██▉       | 5/17 [02:46<05:11, 25.94s/it] "
     ]
    },
    {
     "name": "stdout",
     "output_type": "stream",
     "text": [
      "\n",
      "INTERMEDIATE OUT :\n",
      "```output\n",
      "0\n",
      "```\n",
      "The solution to the equation $4+x=4$ is $x=0$. The answer is: $0$.\n",
      "\n",
      "BOXED []\n",
      "BOXED FINAL 0\n",
      "[(0, 4)]\n",
      "GOOD ANSWER UPDATED!\n",
      "code_answers 2 text_answers 2\n",
      "SKIPPING CAUSE ALREADY FOUND BEST\n",
      "SKIPPING CAUSE ALREADY FOUND BEST\n",
      "SKIPPING CAUSE ALREADY FOUND BEST\n",
      "SKIPPING CAUSE ALREADY FOUND BEST\n",
      "SKIPPING CAUSE ALREADY FOUND BEST\n",
      "SKIPPING CAUSE ALREADY FOUND BEST\n",
      "SKIPPING CAUSE ALREADY FOUND BEST\n",
      "SKIPPING CAUSE ALREADY FOUND BEST\n",
      "SKIPPING CAUSE ALREADY FOUND BEST\n",
      "SKIPPING CAUSE ALREADY FOUND BEST\n",
      "SKIPPING CAUSE ALREADY FOUND BEST\n"
     ]
    },
    {
     "name": "stderr",
     "output_type": "stream",
     "text": [
      "Setting `pad_token_id` to `eos_token_id`:100001 for open-end generation.\n"
     ]
    },
    {
     "name": "stdout",
     "output_type": "stream",
     "text": [
      "16_User: Below is a math problem you are to solve (positive numerical answer):\n",
      "\"Solve $4+x=4$ for $x$.\"\n",
      "To accomplish this, first determine a sympy-based approach for solving the problem by listing each step to take and what functions need to be called in each step. Be clear so even an idiot can follow your instructions, and remember, your final answer should be positive integer, not an algebraic expression!\n",
      "Write the entire script covering all the steps (use comments and document it well) and print the result. After solving the problem, output the final numerical answer within \\boxed{}.\n",
      "\n",
      "Approach:\n",
      "\n"
     ]
    },
    {
     "name": "stderr",
     "output_type": "stream",
     "text": [
      "Setting `pad_token_id` to `eos_token_id`:100001 for open-end generation.\n"
     ]
    },
    {
     "name": "stdout",
     "output_type": "stream",
     "text": [
      "\n",
      "The equation $4+x=4$ can be simplified by subtracting 4 from both sides to get $x=0$. This can be easily solved using Python's Sympy library.\n",
      "\n",
      "```python\n",
      "\n",
      "\n",
      "INTERMEDIATE OUT :\n",
      "\n",
      "from sympy import symbols, Eq, solve\n",
      "\n",
      "def solve_equation():\n",
      "    x = symbols('x')\n",
      "    equation = Eq(4 + x, 4)\n",
      "    solution = solve(equation, x)[0]  # Take the first (and only) solution\n",
      "    return solution\n",
      "\n",
      "result = solve_equation()\n",
      "print(result)\n",
      "```\n",
      "\n"
     ]
    },
    {
     "name": "stderr",
     "output_type": "stream",
     "text": [
      "Setting `pad_token_id` to `eos_token_id`:100001 for open-end generation.\n"
     ]
    },
    {
     "name": "stdout",
     "output_type": "stream",
     "text": [
      "0\n",
      "\n",
      "CODE RESULTS 0\n"
     ]
    },
    {
     "name": "stderr",
     "output_type": "stream",
     "text": [
      "Setting `pad_token_id` to `eos_token_id`:100001 for open-end generation.\n"
     ]
    },
    {
     "name": "stdout",
     "output_type": "stream",
     "text": [
      "\n",
      "INTERMEDIATE OUT :\n",
      "```output\n",
      "0\n",
      "```\n",
      "The solution to the equation $4+x=4$ is $x=0$. The numerical answer is $\\boxed{0}$.\n",
      "The entire script is as follows:\n",
      "\n",
      "```python\n",
      "\n",
      "\n",
      "INTERMEDIATE OUT :\n",
      "\n",
      "from sympy import symbols, Eq, solve\n",
      "\n",
      "def solve_equation():\n",
      "    x = symbols('x')\n",
      "    equation = Eq(4 + x, 4)\n",
      "    solution = solve(equation, x)[0]  # Take the first (and only) solution\n",
      "    return solution\n",
      "\n",
      "result = solve_equation()\n",
      "print(result)\n",
      "```\n",
      "\n"
     ]
    },
    {
     "name": "stderr",
     "output_type": "stream",
     "text": [
      "Setting `pad_token_id` to `eos_token_id`:100001 for open-end generation.\n"
     ]
    },
    {
     "name": "stdout",
     "output_type": "stream",
     "text": [
      "0\n",
      "0\n",
      "\n",
      "CODE RESULTS 0\n"
     ]
    },
    {
     "name": "stderr",
     "output_type": "stream",
     "text": [
      " 94%|█████████▍| 16/17 [03:09<00:11, 11.87s/it]"
     ]
    },
    {
     "name": "stdout",
     "output_type": "stream",
     "text": [
      "\n",
      "INTERMEDIATE OUT :\n",
      "```output\n",
      "0\n",
      "```\n",
      "The solution to the equation $4+x=4$ is $x=0$. The numerical answer is $\\boxed{0}$. So, the value of x that satisfies the equation $4+x=4$ is $x=0$. The answer is: $0$\n",
      "\n",
      "BOXED ['0', '0']\n",
      "BOXED FINAL 0\n",
      "[(0, 6)]\n",
      "GOOD ANSWER UPDATED!\n",
      "ANSWER FOUND!\n",
      "       id                 problem\n",
      "0  222ccc  Solve $4+x=4$ for $x$.\n",
      "       id  answer\n",
      "0  222ccc       0\n"
     ]
    },
    {
     "name": "stderr",
     "output_type": "stream",
     "text": [
      "\n"
     ]
    }
   ],
   "source": [
    "if PRIVATE:\n",
    "    for test, sample_submission in iter_test:\n",
    "        sample_submission['answer'] = predict(test['problem'].values[0])\n",
    "        env.predict(sample_submission)\n",
    "        print(test)\n",
    "        print(sample_submission)\n",
    "        \n",
    "else:\n",
    "    for test, sample_submission in iter_test:\n",
    "        sample_submission['answer'] = predict(test['problem'].values[0])\n",
    "        env.predict(sample_submission)\n",
    "        print(test)\n",
    "        print(sample_submission)\n",
    "    \n"
   ]
  },
  {
   "cell_type": "code",
   "execution_count": 17,
   "id": "e48f795b",
   "metadata": {
    "execution": {
     "iopub.execute_input": "2024-05-15T12:15:03.041656Z",
     "iopub.status.busy": "2024-05-15T12:15:03.041351Z",
     "iopub.status.idle": "2024-05-15T12:15:03.148246Z",
     "shell.execute_reply": "2024-05-15T12:15:03.147068Z"
    },
    "papermill": {
     "duration": 0.127868,
     "end_time": "2024-05-15T12:15:03.150278",
     "exception": false,
     "start_time": "2024-05-15T12:15:03.022410",
     "status": "completed"
    },
    "tags": []
   },
   "outputs": [
    {
     "name": "stdout",
     "output_type": "stream",
     "text": [
      "done\n",
      "\n"
     ]
    }
   ],
   "source": [
    "with open('code.py', 'w') as fout:\n",
    "    fout.write(\"print('done')\")\n",
    "\n",
    "batcmd = 'timeout 7 ' + sys.executable + ' code.py'\n",
    "try:\n",
    "    shell_output = subprocess.check_output(batcmd, shell=True).decode('utf8')\n",
    "    print(shell_output)\n",
    "except:\n",
    "    pass"
   ]
  }
 ],
 "metadata": {
  "kaggle": {
   "accelerator": "nvidiaTeslaT4",
   "dataSources": [
    {
     "databundleVersionId": 8365361,
     "sourceId": 73231,
     "sourceType": "competition"
    },
    {
     "datasetId": 4281572,
     "sourceId": 7369493,
     "sourceType": "datasetVersion"
    },
    {
     "datasetId": 4720595,
     "sourceId": 8012825,
     "sourceType": "datasetVersion"
    },
    {
     "datasetId": 4728129,
     "sourceId": 8023365,
     "sourceType": "datasetVersion"
    },
    {
     "datasetId": 4748944,
     "sourceId": 8052555,
     "sourceType": "datasetVersion"
    },
    {
     "modelInstanceId": 8332,
     "sourceId": 11261,
     "sourceType": "modelInstanceVersion"
    },
    {
     "modelInstanceId": 8318,
     "sourceId": 11264,
     "sourceType": "modelInstanceVersion"
    }
   ],
   "dockerImageVersionId": 30699,
   "isGpuEnabled": true,
   "isInternetEnabled": false,
   "language": "python",
   "sourceType": "notebook"
  },
  "kernelspec": {
   "display_name": "Python 3",
   "language": "python",
   "name": "python3"
  },
  "language_info": {
   "codemirror_mode": {
    "name": "ipython",
    "version": 3
   },
   "file_extension": ".py",
   "mimetype": "text/x-python",
   "name": "python",
   "nbconvert_exporter": "python",
   "pygments_lexer": "ipython3",
   "version": "3.10.13"
  },
  "papermill": {
   "default_parameters": {},
   "duration": 458.261228,
   "end_time": "2024-05-15T12:15:06.366699",
   "environment_variables": {},
   "exception": null,
   "input_path": "__notebook__.ipynb",
   "output_path": "__notebook__.ipynb",
   "parameters": {},
   "start_time": "2024-05-15T12:07:28.105471",
   "version": "2.5.0"
  },
  "widgets": {
   "application/vnd.jupyter.widget-state+json": {
    "state": {
     "0335bf2f4fde472b934195f42bcfd93f": {
      "model_module": "@jupyter-widgets/controls",
      "model_module_version": "1.5.0",
      "model_name": "HTMLModel",
      "state": {
       "_dom_classes": [],
       "_model_module": "@jupyter-widgets/controls",
       "_model_module_version": "1.5.0",
       "_model_name": "HTMLModel",
       "_view_count": null,
       "_view_module": "@jupyter-widgets/controls",
       "_view_module_version": "1.5.0",
       "_view_name": "HTMLView",
       "description": "",
       "description_tooltip": null,
       "layout": "IPY_MODEL_bbf804e73f9d47818449f2e10116f685",
       "placeholder": "​",
       "style": "IPY_MODEL_9187c043b4594a73ac9f6f64c09c63ec",
       "value": "Loading checkpoint shards: 100%"
      }
     },
     "0e7698cf6e9441ce9473c16ea96018a6": {
      "model_module": "@jupyter-widgets/base",
      "model_module_version": "1.2.0",
      "model_name": "LayoutModel",
      "state": {
       "_model_module": "@jupyter-widgets/base",
       "_model_module_version": "1.2.0",
       "_model_name": "LayoutModel",
       "_view_count": null,
       "_view_module": "@jupyter-widgets/base",
       "_view_module_version": "1.2.0",
       "_view_name": "LayoutView",
       "align_content": null,
       "align_items": null,
       "align_self": null,
       "border": null,
       "bottom": null,
       "display": null,
       "flex": null,
       "flex_flow": null,
       "grid_area": null,
       "grid_auto_columns": null,
       "grid_auto_flow": null,
       "grid_auto_rows": null,
       "grid_column": null,
       "grid_gap": null,
       "grid_row": null,
       "grid_template_areas": null,
       "grid_template_columns": null,
       "grid_template_rows": null,
       "height": null,
       "justify_content": null,
       "justify_items": null,
       "left": null,
       "margin": null,
       "max_height": null,
       "max_width": null,
       "min_height": null,
       "min_width": null,
       "object_fit": null,
       "object_position": null,
       "order": null,
       "overflow": null,
       "overflow_x": null,
       "overflow_y": null,
       "padding": null,
       "right": null,
       "top": null,
       "visibility": null,
       "width": null
      }
     },
     "216db69c734c44c181ac4c4092c89947": {
      "model_module": "@jupyter-widgets/controls",
      "model_module_version": "1.5.0",
      "model_name": "FloatProgressModel",
      "state": {
       "_dom_classes": [],
       "_model_module": "@jupyter-widgets/controls",
       "_model_module_version": "1.5.0",
       "_model_name": "FloatProgressModel",
       "_view_count": null,
       "_view_module": "@jupyter-widgets/controls",
       "_view_module_version": "1.5.0",
       "_view_name": "ProgressView",
       "bar_style": "success",
       "description": "",
       "description_tooltip": null,
       "layout": "IPY_MODEL_d91ebdd939384b7ba07f15af1b698aa9",
       "max": 3.0,
       "min": 0.0,
       "orientation": "horizontal",
       "style": "IPY_MODEL_cd927463a67741718787bdcfe5679908",
       "value": 3.0
      }
     },
     "57a374f7a0734fbab6329beab5897fc9": {
      "model_module": "@jupyter-widgets/controls",
      "model_module_version": "1.5.0",
      "model_name": "DescriptionStyleModel",
      "state": {
       "_model_module": "@jupyter-widgets/controls",
       "_model_module_version": "1.5.0",
       "_model_name": "DescriptionStyleModel",
       "_view_count": null,
       "_view_module": "@jupyter-widgets/base",
       "_view_module_version": "1.2.0",
       "_view_name": "StyleView",
       "description_width": ""
      }
     },
     "6cbd9569e9b342eaa6328106cf9125f3": {
      "model_module": "@jupyter-widgets/controls",
      "model_module_version": "1.5.0",
      "model_name": "HTMLModel",
      "state": {
       "_dom_classes": [],
       "_model_module": "@jupyter-widgets/controls",
       "_model_module_version": "1.5.0",
       "_model_name": "HTMLModel",
       "_view_count": null,
       "_view_module": "@jupyter-widgets/controls",
       "_view_module_version": "1.5.0",
       "_view_name": "HTMLView",
       "description": "",
       "description_tooltip": null,
       "layout": "IPY_MODEL_0e7698cf6e9441ce9473c16ea96018a6",
       "placeholder": "​",
       "style": "IPY_MODEL_57a374f7a0734fbab6329beab5897fc9",
       "value": " 3/3 [02:40&lt;00:00, 52.32s/it]"
      }
     },
     "7e16680212714892a9fd926fc2924542": {
      "model_module": "@jupyter-widgets/controls",
      "model_module_version": "1.5.0",
      "model_name": "HBoxModel",
      "state": {
       "_dom_classes": [],
       "_model_module": "@jupyter-widgets/controls",
       "_model_module_version": "1.5.0",
       "_model_name": "HBoxModel",
       "_view_count": null,
       "_view_module": "@jupyter-widgets/controls",
       "_view_module_version": "1.5.0",
       "_view_name": "HBoxView",
       "box_style": "",
       "children": [
        "IPY_MODEL_0335bf2f4fde472b934195f42bcfd93f",
        "IPY_MODEL_216db69c734c44c181ac4c4092c89947",
        "IPY_MODEL_6cbd9569e9b342eaa6328106cf9125f3"
       ],
       "layout": "IPY_MODEL_e999228a38f94494930144c524911aa2"
      }
     },
     "9187c043b4594a73ac9f6f64c09c63ec": {
      "model_module": "@jupyter-widgets/controls",
      "model_module_version": "1.5.0",
      "model_name": "DescriptionStyleModel",
      "state": {
       "_model_module": "@jupyter-widgets/controls",
       "_model_module_version": "1.5.0",
       "_model_name": "DescriptionStyleModel",
       "_view_count": null,
       "_view_module": "@jupyter-widgets/base",
       "_view_module_version": "1.2.0",
       "_view_name": "StyleView",
       "description_width": ""
      }
     },
     "bbf804e73f9d47818449f2e10116f685": {
      "model_module": "@jupyter-widgets/base",
      "model_module_version": "1.2.0",
      "model_name": "LayoutModel",
      "state": {
       "_model_module": "@jupyter-widgets/base",
       "_model_module_version": "1.2.0",
       "_model_name": "LayoutModel",
       "_view_count": null,
       "_view_module": "@jupyter-widgets/base",
       "_view_module_version": "1.2.0",
       "_view_name": "LayoutView",
       "align_content": null,
       "align_items": null,
       "align_self": null,
       "border": null,
       "bottom": null,
       "display": null,
       "flex": null,
       "flex_flow": null,
       "grid_area": null,
       "grid_auto_columns": null,
       "grid_auto_flow": null,
       "grid_auto_rows": null,
       "grid_column": null,
       "grid_gap": null,
       "grid_row": null,
       "grid_template_areas": null,
       "grid_template_columns": null,
       "grid_template_rows": null,
       "height": null,
       "justify_content": null,
       "justify_items": null,
       "left": null,
       "margin": null,
       "max_height": null,
       "max_width": null,
       "min_height": null,
       "min_width": null,
       "object_fit": null,
       "object_position": null,
       "order": null,
       "overflow": null,
       "overflow_x": null,
       "overflow_y": null,
       "padding": null,
       "right": null,
       "top": null,
       "visibility": null,
       "width": null
      }
     },
     "cd927463a67741718787bdcfe5679908": {
      "model_module": "@jupyter-widgets/controls",
      "model_module_version": "1.5.0",
      "model_name": "ProgressStyleModel",
      "state": {
       "_model_module": "@jupyter-widgets/controls",
       "_model_module_version": "1.5.0",
       "_model_name": "ProgressStyleModel",
       "_view_count": null,
       "_view_module": "@jupyter-widgets/base",
       "_view_module_version": "1.2.0",
       "_view_name": "StyleView",
       "bar_color": null,
       "description_width": ""
      }
     },
     "d91ebdd939384b7ba07f15af1b698aa9": {
      "model_module": "@jupyter-widgets/base",
      "model_module_version": "1.2.0",
      "model_name": "LayoutModel",
      "state": {
       "_model_module": "@jupyter-widgets/base",
       "_model_module_version": "1.2.0",
       "_model_name": "LayoutModel",
       "_view_count": null,
       "_view_module": "@jupyter-widgets/base",
       "_view_module_version": "1.2.0",
       "_view_name": "LayoutView",
       "align_content": null,
       "align_items": null,
       "align_self": null,
       "border": null,
       "bottom": null,
       "display": null,
       "flex": null,
       "flex_flow": null,
       "grid_area": null,
       "grid_auto_columns": null,
       "grid_auto_flow": null,
       "grid_auto_rows": null,
       "grid_column": null,
       "grid_gap": null,
       "grid_row": null,
       "grid_template_areas": null,
       "grid_template_columns": null,
       "grid_template_rows": null,
       "height": null,
       "justify_content": null,
       "justify_items": null,
       "left": null,
       "margin": null,
       "max_height": null,
       "max_width": null,
       "min_height": null,
       "min_width": null,
       "object_fit": null,
       "object_position": null,
       "order": null,
       "overflow": null,
       "overflow_x": null,
       "overflow_y": null,
       "padding": null,
       "right": null,
       "top": null,
       "visibility": null,
       "width": null
      }
     },
     "e999228a38f94494930144c524911aa2": {
      "model_module": "@jupyter-widgets/base",
      "model_module_version": "1.2.0",
      "model_name": "LayoutModel",
      "state": {
       "_model_module": "@jupyter-widgets/base",
       "_model_module_version": "1.2.0",
       "_model_name": "LayoutModel",
       "_view_count": null,
       "_view_module": "@jupyter-widgets/base",
       "_view_module_version": "1.2.0",
       "_view_name": "LayoutView",
       "align_content": null,
       "align_items": null,
       "align_self": null,
       "border": null,
       "bottom": null,
       "display": null,
       "flex": null,
       "flex_flow": null,
       "grid_area": null,
       "grid_auto_columns": null,
       "grid_auto_flow": null,
       "grid_auto_rows": null,
       "grid_column": null,
       "grid_gap": null,
       "grid_row": null,
       "grid_template_areas": null,
       "grid_template_columns": null,
       "grid_template_rows": null,
       "height": null,
       "justify_content": null,
       "justify_items": null,
       "left": null,
       "margin": null,
       "max_height": null,
       "max_width": null,
       "min_height": null,
       "min_width": null,
       "object_fit": null,
       "object_position": null,
       "order": null,
       "overflow": null,
       "overflow_x": null,
       "overflow_y": null,
       "padding": null,
       "right": null,
       "top": null,
       "visibility": null,
       "width": null
      }
     }
    },
    "version_major": 2,
    "version_minor": 0
   }
  }
 },
 "nbformat": 4,
 "nbformat_minor": 5
}
